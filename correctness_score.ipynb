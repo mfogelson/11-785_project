{
  "nbformat": 4,
  "nbformat_minor": 0,
  "metadata": {
    "colab": {
      "name": "correctness_score.ipynb",
      "provenance": [],
      "collapsed_sections": [],
      "toc_visible": true
    },
    "kernelspec": {
      "name": "python3",
      "display_name": "Python 3"
    },
    "accelerator": "GPU"
  },
  "cells": [
    {
      "cell_type": "code",
      "metadata": {
        "id": "BFO9QrOd8KIH"
      },
      "source": [
        "from nltk.corpus import words\n",
        "nltk.download('words')"
      ],
      "execution_count": null,
      "outputs": []
    },
    {
      "cell_type": "code",
      "metadata": {
        "id": "AjiVEiDI8LdW"
      },
      "source": [
        "from nltk.corpus import brown\n",
        "nltk.download('brown')"
      ],
      "execution_count": null,
      "outputs": []
    },
    {
      "cell_type": "code",
      "metadata": {
        "id": "CpWmBsI-8NAt"
      },
      "source": [
        "from nltk.corpus import stopwords\n",
        "nltk.download('stopwords')\n",
        "nltk.download('punkt')\n",
        "stop_words = stopwords.words('english')\n",
        "from nltk import word_tokenize"
      ],
      "execution_count": null,
      "outputs": []
    },
    {
      "cell_type": "code",
      "metadata": {
        "id": "uOVlK6M88NZ1"
      },
      "source": [
        "filename = \"samples-9900\"\n",
        "samples = []\n",
        "with open(filename, 'r') as f:\n",
        "  f.readline()  # remove first line\n",
        "  current_text = ''\n",
        "  for line in f.readlines():\n",
        "    if '|text|>' in line:\n",
        "      continue\n",
        "    if '<|endoftext|>' in line:\n",
        "      text = \"\".join([char for char in current_text if char not in string.punctuation.replace('\\'', '').replace('-', '')])\n",
        "      text = text.replace('\\'s ', ' ').replace('\\'d ', ' ').replace('\\'ve ', ' ').replace('\\'m ', ' ').replace('\\'re ', ' ').replace(' \\'', ' ').replace('\\' ', ' ')\n",
        "      text = text.replace('-', ' ')\n",
        "      samples.append(text.lower().strip())\n",
        "      current_text = ''\n",
        "    else:\n",
        "      lines = line.split('|$|')\n",
        "      current_text += lines[0] + \" \"\n",
        "      current_text += lines[1].rstrip('\\n') + \" \""
      ],
      "execution_count": null,
      "outputs": []
    },
    {
      "cell_type": "code",
      "metadata": {
        "id": "_aPUCwdF8Pk1"
      },
      "source": [
        "brown_words = set([word.lower() for word in brown.words()])"
      ],
      "execution_count": null,
      "outputs": []
    },
    {
      "cell_type": "code",
      "metadata": {
        "id": "ECL13Eyf8SPF"
      },
      "source": [
        "scores = []\n",
        "for text in samples:\n",
        "  words = text.split(' ')\n",
        "  text_len = len(words)\n",
        "  count = 0\n",
        "  wrongs = []\n",
        "  for word in words:\n",
        "    if len(word) == 0:\n",
        "      text_len -= 1\n",
        "      continue\n",
        "    if word in brown_words:\n",
        "      count += 1\n",
        "    else:\n",
        "      wrongs.append(word)\n",
        "  scores.append((count / text_len, wrongs, text))"
      ],
      "execution_count": null,
      "outputs": []
    },
    {
      "cell_type": "code",
      "metadata": {
        "id": "KewsFOFD8U0Y"
      },
      "source": [
        "for score in scores:\n",
        "  print(score)"
      ],
      "execution_count": null,
      "outputs": []
    }
  ]
}