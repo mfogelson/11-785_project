{
 "cells": [
  {
   "cell_type": "code",
   "execution_count": 1,
   "metadata": {},
   "outputs": [],
   "source": [
    "# Author: Christopher Dare\n",
    "# Date: 29th October 2020"
   ]
  },
  {
   "cell_type": "markdown",
   "metadata": {},
   "source": [
    "# Evaluation of Rhymes produced by YouShen poetry model\n",
    "\n",
    "## Plan of Attack\n",
    "We need to break each word down into phonemes (graphemes).\n",
    "Then, we will evaluate how similar the 2 words are by rhyme. (This is quite complex).\n",
    "\n",
    "## Rhyme evaluation\n",
    "For any 2 lines of a poem, we consider the last word in each line to score their rhyme similarity.\n",
    "We can classify two lines as rhyme vs not rhyme, as well as quantify how much they rhyme with each other. (more on this needs to be thought through).\n",
    "\n",
    "Consider the following poem line pairs:  \n",
    "\n",
    "*The way he cleaned the bowl was thorough*  \n",
    "*And then he came up to ask for more*\n",
    "\n",
    "*In the morning Cinderella would fetch water,  \n",
    "At night she was the dazzling queen of the gala*\n",
    "\n",
    "*Everytime the sun rises to shine  \n",
    "I am reminded of you, beautiful love of mine*\n",
    "\n",
    "*My brother never trusted santa claus  \n",
    "So his name always fostered banter wars*\n",
    "\n",
    "From the pairs above, we can see that there is variable length of phonemes that consitute a valid rhyme. These can range from one phoneme in for a single word to many phonemes in one word...and even many phonemes in phrases.\n",
    "\n",
    "Key question: What's the best mathematical way of determining that both words rhyme?\n",
    "\n",
    "\n",
    "## Identifying phonemes\n",
    "Phonemes can be identified from pronunciation dictionary mappings or prediction models.\n",
    "Two promising packages with rich datasets that could prove useful for this projects are\n",
    "1. CMU pronouncing dictionary (potentially faster since it's just a dictionary)\n",
    "2. Big Phoney (Has preprocessing capabilities. Could be slower since it relies on a predictive model for words not existent in a dicitonary)\n",
    "Other packages can be found here [on github](https://github.com/topics/phonetics)\n",
    "\n",
    "To get quickly off the ground, we will use BigPhoney"
   ]
  },
  {
   "cell_type": "code",
   "execution_count": 127,
   "metadata": {},
   "outputs": [],
   "source": [
    "# imports\n",
    "from pathlib import Path\n",
    "from typing import List, Union"
   ]
  },
  {
   "cell_type": "code",
   "execution_count": null,
   "metadata": {},
   "outputs": [],
   "source": [
    "!git clone https://github.com/repp/big-phoney.git big_phoney -q \n",
    "!cd big_phoney && python setup.py install"
   ]
  },
  {
   "cell_type": "code",
   "execution_count": null,
   "metadata": {},
   "outputs": [],
   "source": [
    "!pip install keras"
   ]
  },
  {
   "cell_type": "code",
   "execution_count": null,
   "metadata": {},
   "outputs": [],
   "source": [
    "import keras\n",
    "from big_phoney.big_phoney import BigPhoney\n",
    "phoney = BigPhoney()\n",
    "## Looks like the packages has dependency management issues. I'll come back to the code later."
   ]
  },
  {
   "cell_type": "code",
   "execution_count": 2,
   "metadata": {},
   "outputs": [
    {
     "data": {
      "text/plain": [
       "['P ER0 M IH1 T', 'P ER1 M IH2 T']"
      ]
     },
     "execution_count": 2,
     "metadata": {},
     "output_type": "execute_result"
    }
   ],
   "source": [
    "import pronouncing\n",
    "pronouncing.phones_for_word(\"permit\")"
   ]
  },
  {
   "cell_type": "code",
   "execution_count": 14,
   "metadata": {},
   "outputs": [],
   "source": [
    "sample_corpus = \"\\\n",
    "The way he cleaned the bowl was thorough\\\n",
    "And then he came up to ask for more\\\n",
    "In the morning Cinderella would fetch water,\\\n",
    "At night she was the dazzling queen of the gala\\\n",
    "Everytime the sun rises to shine\\\n",
    "I am reminded of you, beautiful love of mine\\\n",
    "My brother never trusted santa claus\\\n",
    "So his name always fostered banter wars\\\n",
    "\""
   ]
  },
  {
   "cell_type": "code",
   "execution_count": 155,
   "metadata": {},
   "outputs": [],
   "source": [
    "with open(Path(\"samples/sample_rhyme.txt\")) as rhyme_sample:\n",
    "    sample_corpus = rhyme_sample.read()"
   ]
  },
  {
   "cell_type": "code",
   "execution_count": 156,
   "metadata": {},
   "outputs": [
    {
     "data": {
      "text/plain": [
       "\"this is all about grandma who's proud\\n\\nof her years in society's crowd\\n\\nshe has got a big raise\\n\\nin those fungal-type ways\""
      ]
     },
     "execution_count": 156,
     "metadata": {},
     "output_type": "execute_result"
    }
   ],
   "source": [
    "sample_corpus"
   ]
  },
  {
   "cell_type": "code",
   "execution_count": 7,
   "metadata": {},
   "outputs": [
    {
     "data": {
      "text/plain": [
       "['The way he cleaned the bowl was thorough',\n",
       " 'And then he came up to ask for more',\n",
       " 'In the morning Cinderella would fetch water,',\n",
       " 'At night she was the dazzling queen of the gala',\n",
       " 'Everytime the sun rises to shine',\n",
       " 'I am reminded of you, beautiful love of mine',\n",
       " 'My brother never trusted santa claus',\n",
       " 'So his name always fostered banter wars']"
      ]
     },
     "execution_count": 7,
     "metadata": {},
     "output_type": "execute_result"
    }
   ],
   "source": [
    "valid_lines = [line for line in sample_corpus.splitlines() if line]\n",
    "valid_lines"
   ]
  },
  {
   "cell_type": "code",
   "execution_count": 8,
   "metadata": {},
   "outputs": [
    {
     "data": {
      "text/plain": [
       "['thorough', 'more', 'water,', 'gala', 'shine', 'mine', 'claus', 'wars']"
      ]
     },
     "execution_count": 8,
     "metadata": {},
     "output_type": "execute_result"
    }
   ],
   "source": [
    "last_words = [line.split()[-1] for line in valid_lines]\n",
    "last_words"
   ]
  },
  {
   "cell_type": "markdown",
   "metadata": {},
   "source": [
    "### Pseudocode for scoring rhymes\n",
    "for each poem:\n",
    "    break down into verses\n",
    "    for each verse, break down into lines\n",
    "    \n",
    "represent each word in every line as a set of phonemes\n",
    "reverse the phoneme order for each word\n",
    "\n",
    "for each pair of phonemes in a pair of lines to compare:\n",
    "    get the max number (n_max) of syllables for all reversed order phonemes\n",
    "    trim each phoneme set to the first n_max phonemes\n",
    "    create an empty list of rhyming scores all possible phoneme pairs\n",
    "    for each possible phoneme set A construction:\n",
    "        for each possible phoneme set B construction:\n",
    "        compare each corresponding phoneme. If they match, assign a one, else 0.\n",
    "    \n",
    "\n"
   ]
  },
  {
   "cell_type": "code",
   "execution_count": 188,
   "metadata": {},
   "outputs": [],
   "source": [
    "class Poem:\n",
    "    \n",
    "    def __init__(self, text: str, rhyme_patterns: List):\n",
    "        self.word_lines = [line for line in text.splitlines() if line]\n",
    "        \n",
    "        last_words = [line.split()[-1] for line in self.word_lines]\n",
    "        self.last_word_rhyming_part_pairs = {word:self.__get_rhyming_parts(word) for word in last_words}\n",
    "        self.rhyme_patterns = rhyme_patterns\n",
    " \n",
    "    def __get_phonemes(self, text:Union[str, List]):\n",
    "        \"\"\"returns all possible pronunciation of a word as phonemes\n",
    "        Language used: American English. Style: Arpabet\n",
    "        \"\"\"\n",
    "        if type(text) == str:\n",
    "            phonemes = pronouncing.phones_for_word(text)\n",
    "        else:\n",
    "            phonemes = [pronouncing.phones_for_word(word) for word in text]\n",
    "        return phonemes\n",
    "    \n",
    "    def __get_rhyming_parts(self, word:str):\n",
    "        phonemes = self.__get_phonemes(word)\n",
    "        rhyming_parts = [pronouncing.rhyming_part(phoneme) for phoneme in phonemes]\n",
    "        return rhyming_parts\n",
    "    \n",
    "    \n",
    "    def __get_valid_rhyme_patterns(self):\n",
    "        valid_patterns = [pattern for pattern in self.rhyme_patterns if \n",
    "            not any(i > len(self.word_lines)-1 for i in pattern)\n",
    "        ]\n",
    "        return valid_patterns\n",
    "    \n",
    "    \n",
    "    def score(self, line_pair: List):\n",
    "        print(\"scoring\")\n",
    "        first_word = self.word_lines[line_pair[0]]\n",
    "        first_word_rhymes = self.__get_rhyming_parts(first_word) \n",
    "        second_word = self.word_lines[line_pair[1]]\n",
    "        second_word_rhymes = self.__get_rhyming_parts(second_word)\n",
    "        rhyme_score = 0\n",
    "        for first_word_rhyme in first_word_rhymes:\n",
    "            for second_word_rhyme in second_word_rhymes:\n",
    "                is_rhyming = first_word_rhyme == second_word_rhyme\n",
    "                print(is_rhyming)\n",
    "                if (is_rhyming):\n",
    "                    rhyme_score = 1\n",
    "        return rhyme_score\n",
    "    \n",
    "        \n",
    "    def get_rhyme_score(self):\n",
    "        \"\"\"returns a rhyming score for the poem between 0 and 1.\n",
    "        \"\"\"\n",
    "        valid_patterns = self.__get_valid_rhyme_patterns()\n",
    "        scores = [self.score(pattern) for pattern in valid_patterns]\n",
    "        return scores\n",
    "        \n",
    "            "
   ]
  },
  {
   "cell_type": "code",
   "execution_count": 189,
   "metadata": {},
   "outputs": [],
   "source": [
    "limerick_pattern = [\n",
    "    [0,1], [2,3], [0,4]\n",
    "]\n",
    "limerick = Poem(sample_corpus, rhyme_patterns=limerick_pattern)"
   ]
  },
  {
   "cell_type": "code",
   "execution_count": 190,
   "metadata": {},
   "outputs": [
    {
     "name": "stdout",
     "output_type": "stream",
     "text": [
      "scoring\n",
      "scoring\n"
     ]
    },
    {
     "data": {
      "text/plain": [
       "[0, 0]"
      ]
     },
     "execution_count": 190,
     "metadata": {},
     "output_type": "execute_result"
    }
   ],
   "source": [
    "limerick.get_rhyme_score()"
   ]
  },
  {
   "cell_type": "code",
   "execution_count": 182,
   "metadata": {},
   "outputs": [
    {
     "data": {
      "text/plain": [
       "True"
      ]
     },
     "execution_count": 182,
     "metadata": {},
     "output_type": "execute_result"
    }
   ],
   "source": [
    "pronouncing.rhyming_part(pronouncing.phones_for_word(\"crowd\")[0]) == pronouncing.rhyming_part(pronouncing.phones_for_word(\"proud\")[0])"
   ]
  },
  {
   "cell_type": "code",
   "execution_count": 27,
   "metadata": {},
   "outputs": [
    {
     "data": {
      "text/plain": [
       "'The way he cleaned the bowl was thorough'"
      ]
     },
     "execution_count": 27,
     "metadata": {},
     "output_type": "execute_result"
    }
   ],
   "source": [
    "poem.word_lines[0]"
   ]
  },
  {
   "cell_type": "code",
   "execution_count": 28,
   "metadata": {},
   "outputs": [
    {
     "data": {
      "text/plain": [
       "[]"
      ]
     },
     "execution_count": 28,
     "metadata": {},
     "output_type": "execute_result"
    }
   ],
   "source": [
    "pronouncing.phones_for_word(poem.word_lines[0])"
   ]
  },
  {
   "cell_type": "code",
   "execution_count": null,
   "metadata": {},
   "outputs": [],
   "source": [
    "def read_poem(file_path: Path):\n",
    "    \"\"\"reads a file containing poems and returns a \n",
    "    \"\"\""
   ]
  },
  {
   "cell_type": "code",
   "execution_count": 46,
   "metadata": {},
   "outputs": [
    {
     "data": {
      "text/plain": [
       "[['TH ER1 OW0', 'TH AO1 R OW0'],\n",
       " ['M AO1 R'],\n",
       " [],\n",
       " ['G AE1 L AH0', 'G EY1 L AH0'],\n",
       " ['SH AY1 N'],\n",
       " ['M AY1 N'],\n",
       " ['K L AO1 Z'],\n",
       " ['W AO1 R Z']]"
      ]
     },
     "execution_count": 46,
     "metadata": {},
     "output_type": "execute_result"
    }
   ],
   "source": [
    "[pronouncing.phones_for_word(last_word) for last_word in last_words]"
   ]
  }
 ],
 "metadata": {
  "kernelspec": {
   "display_name": "Python 3",
   "language": "python",
   "name": "python3"
  },
  "language_info": {
   "codemirror_mode": {
    "name": "ipython",
    "version": 3
   },
   "file_extension": ".py",
   "mimetype": "text/x-python",
   "name": "python",
   "nbconvert_exporter": "python",
   "pygments_lexer": "ipython3",
   "version": "3.7.7"
  }
 },
 "nbformat": 4,
 "nbformat_minor": 4
}
