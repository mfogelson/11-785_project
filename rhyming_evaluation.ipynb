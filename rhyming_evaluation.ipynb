{
 "cells": [
  {
   "cell_type": "code",
   "execution_count": 1,
   "metadata": {},
   "outputs": [],
   "source": [
    "# Author: Christopher Dare\n",
    "# Date: 29th October 2020"
   ]
  },
  {
   "cell_type": "markdown",
   "metadata": {},
   "source": [
    "# Evaluation of Rhymes produced by YouShen poetry model\n",
    "\n",
    "## Plan of Attack\n",
    "We need to break each word down into phonemes (graphemes).\n",
    "Then, we will evaluate how similar the 2 words are by rhyme. (This is quite complex).\n",
    "\n",
    "## Rhyme evaluation\n",
    "For any 2 lines of a poem, we consider the last word in each line to score they rhyme similarity.\n",
    "lines of a poem to rhyme by whether a set of graphemes \n",
    "\n",
    "Consider the following poem line pairs:  \n",
    "\n",
    "*The way he clean the bowl was thorough*  \n",
    "*And then he came up to ask for more*\n",
    "\n",
    "*In the morning Cinderella would fetch water,  \n",
    "At night she was the dazzling queen of the gala*\n",
    "\n",
    "*Everytime the sun rises to shine  \n",
    "I am reminded of the beautiful love of mine*\n",
    "\n",
    "*My brother never trusted santa wars  \n",
    "Speaking of his name always fostered banter wars*\n",
    "\n",
    "From the pairs above, we can see that there is variable length of phonemes that consitute a valid. These can range from one phoneme in for a single word to many phonemes in one word...and even many phonemes in phrases.\n",
    "\n",
    "Key question: What's the best mathematical way of determining that both words rhyme?\n",
    "\n",
    "\n",
    "## Identifying phonemes\n",
    "Phonemes can be identified from pronunciation dictionary mappings or prediction models.\n",
    "Two promising packages with rich datasets that could prove useful for this projects are\n",
    "1. CMU pronouncing dictionary (potentially faster since it's just a dictionary)\n",
    "2. Big Phoney (Has preprocessing capabilities. Could be slower since it relies on a predictive model for words not existent in a dicitonary)\n",
    "Other packages can be found here [on github](https://github.com/topics/phonetics)\n",
    "\n",
    "To get quickly off the ground, we will use BigPhoney"
   ]
  },
  {
   "cell_type": "code",
   "execution_count": 4,
   "metadata": {},
   "outputs": [
    {
     "name": "stdout",
     "output_type": "stream",
     "text": [
      "\u001b[33mWARNING: You are using pip version 20.0.2; however, version 20.2.4 is available.\r\n",
      "You should consider upgrading via the '/home/dex/.pyenv/versions/3.7.1/bin/python3.7 -m pip install --upgrade pip' command.\u001b[0m\r\n"
     ]
    }
   ],
   "source": [
    "!pip3 install big-phoney -q"
   ]
  },
  {
   "cell_type": "code",
   "execution_count": 6,
   "metadata": {},
   "outputs": [
    {
     "ename": "ModuleNotFoundError",
     "evalue": "No module named 'big_phoney'",
     "output_type": "error",
     "traceback": [
      "\u001b[0;31m---------------------------------------------------------------------------\u001b[0m",
      "\u001b[0;31mModuleNotFoundError\u001b[0m                       Traceback (most recent call last)",
      "\u001b[0;32m<ipython-input-6-1865f08087f1>\u001b[0m in \u001b[0;36m<module>\u001b[0;34m\u001b[0m\n\u001b[0;32m----> 1\u001b[0;31m \u001b[0;32mfrom\u001b[0m \u001b[0mbig_phoney\u001b[0m \u001b[0;32mimport\u001b[0m \u001b[0mBigPhoney\u001b[0m\u001b[0;34m\u001b[0m\u001b[0;34m\u001b[0m\u001b[0m\n\u001b[0m\u001b[1;32m      2\u001b[0m \u001b[0mphoney\u001b[0m \u001b[0;34m=\u001b[0m \u001b[0mBigPhoney\u001b[0m\u001b[0;34m(\u001b[0m\u001b[0;34m)\u001b[0m\u001b[0;34m\u001b[0m\u001b[0;34m\u001b[0m\u001b[0m\n",
      "\u001b[0;31mModuleNotFoundError\u001b[0m: No module named 'big_phoney'"
     ]
    }
   ],
   "source": [
    "from big_phoney import BigPhoney\n",
    "phoney = BigPhoney()"
   ]
  }
 ],
 "metadata": {
  "kernelspec": {
   "display_name": "Python 3",
   "language": "python",
   "name": "python3"
  },
  "language_info": {
   "codemirror_mode": {
    "name": "ipython",
    "version": 3
   },
   "file_extension": ".py",
   "mimetype": "text/x-python",
   "name": "python",
   "nbconvert_exporter": "python",
   "pygments_lexer": "ipython3",
   "version": "3.7.7"
  }
 },
 "nbformat": 4,
 "nbformat_minor": 4
}
