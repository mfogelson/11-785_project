{
 "cells": [
  {
   "cell_type": "code",
   "execution_count": 1,
   "metadata": {},
   "outputs": [],
   "source": [
    "# Author: Christopher Dare\n",
    "# Date: 29th October 2020"
   ]
  },
  {
   "cell_type": "markdown",
   "metadata": {},
   "source": [
    "# Evaluation of Rhymes produced by YouShen poetry model\n",
    "\n",
    "## Plan of Attack\n",
    "We need to break each word down into phonemes (graphemes).\n",
    "Then, we will evaluate how similar the 2 words are by rhyme. (This is quite complex).\n",
    "\n",
    "## Rhyme evaluation\n",
    "For any 2 lines of a poem, we consider the last word in each line to score their rhyme similarity.\n",
    "We can classify two lines as rhyme vs not rhyme, as well as quantify how much they rhyme with each other. (more on this needs to be thought through).\n",
    "\n",
    "Consider the following poem line pairs:  \n",
    "\n",
    "*The way he cleaned the bowl was thorough*  \n",
    "*And then he came up to ask for more*\n",
    "\n",
    "*In the morning Cinderella would fetch water,  \n",
    "At night she was the dazzling queen of the gala*\n",
    "\n",
    "*Everytime the sun rises to shine  \n",
    "I am reminded of you, beautiful love of mine*\n",
    "\n",
    "*My brother never trusted santa claus  \n",
    "So his name always fostered banter wars*\n",
    "\n",
    "From the pairs above, we can see that there is variable length of phonemes that consitute a valid rhyme. These can range from one phoneme in for a single word to many phonemes in one word...and even many phonemes in phrases.\n",
    "\n",
    "Key question: What's the best mathematical way of determining that both words rhyme?\n",
    "\n",
    "\n",
    "## Identifying phonemes\n",
    "Phonemes can be identified from pronunciation dictionary mappings or prediction models.\n",
    "Two promising packages with rich datasets that could prove useful for this projects are\n",
    "1. CMU pronouncing dictionary (potentially faster since it's just a dictionary)\n",
    "2. Big Phoney (Has preprocessing capabilities. Could be slower since it relies on a predictive model for words not existent in a dicitonary)\n",
    "Other packages can be found here [on github](https://github.com/topics/phonetics)\n",
    "\n",
    "To get quickly off the ground, we will use BigPhoney"
   ]
  },
  {
   "cell_type": "code",
   "execution_count": 327,
   "metadata": {},
   "outputs": [],
   "source": [
    "# imports\n",
    "import re\n",
    "from pathlib import Path\n",
    "from typing import List, Union\n",
    "\n",
    "import pronouncing"
   ]
  },
  {
   "cell_type": "code",
   "execution_count": 218,
   "metadata": {},
   "outputs": [],
   "source": [
    "# drop big phoney..for now. \n",
    "# Package has internal dependency/import issues or works with a particular python version \n",
    "# Package has some good concepts like predicting phonemes for words not found in CMU's pronouncing dictionary. \n",
    "# TODO: revisit\n",
    "# !git clone https://github.com/repp/big-phoney.git big_phoney -q \n",
    "# !cd big_phoney && python setup.py install\n",
    "# !pip install keras\n",
    "# import keras\n",
    "# from big_phoney.big_phoney import BigPhoney\n",
    "# phoney = BigPhoney()"
   ]
  },
  {
   "cell_type": "markdown",
   "metadata": {},
   "source": [
    "### Pseudocode for scoring rhymes\n",
    "for each poem:\n",
    "    break down into verses\n",
    "    for each verse, break down into lines\n",
    "    \n",
    "represent each word in every line as a set of phonemes\n",
    "reverse the phoneme order for each word\n",
    "\n",
    "Scoring rhymes in verses (discrete approach)  \n",
    "for each pair of phonemes in a pair of lines to compare:  \n",
    "-    get the max number (n_max) of syllables for all reversed order phonemes  \n",
    "-    trim each phoneme set to the first n_max phonemes  \n",
    "-    create an empty list of rhyming scores all possible phoneme pairs  \n",
    "-    for each possible phoneme set A construction:  \n",
    "        1. for each possible phoneme set B construction:  \n",
    "        2. compare each corresponding phoneme. If they match, assign a one, else 0.  \n",
    "        3. choose the max of all possible scores as the rhyme score  \n",
    "    \n",
    "\n"
   ]
  },
  {
   "cell_type": "code",
   "execution_count": 447,
   "metadata": {},
   "outputs": [],
   "source": [
    "class Verse:\n",
    "    \n",
    "    def __init__(self, lines: str, rhyme_patterns: List, max_length:int=None):\n",
    "        self.verse_lines = lines\n",
    "        if max_length:\n",
    "            self.verse_lines = self.verse_lines[0:max_length]\n",
    "        self.last_words = [line.split()[-1] for line in self.verse_lines]\n",
    "        self.last_word_rhyming_part_pairs = {word:self.__get_rhyming_parts(word) for word in self.last_words}\n",
    "        self.rhyme_patterns = rhyme_patterns\n",
    " \n",
    "    def __get_phonemes(self, text:Union[str, List]):\n",
    "        \"\"\"returns all possible pronunciation of a word as phonemes\n",
    "        Language used: American English. Style: Arpabet\n",
    "        \"\"\"\n",
    "        if type(text) == str:\n",
    "            phonemes = pronouncing.phones_for_word(text)\n",
    "        else:\n",
    "            phonemes = [pronouncing.phones_for_word(word) for word in text]\n",
    "        return phonemes\n",
    "    \n",
    "    def __get_rhyming_parts(self, word:str):\n",
    "        phonemes = self.__get_phonemes(word)\n",
    "        rhyming_parts = [pronouncing.rhyming_part(phoneme) for phoneme in phonemes]\n",
    "        return rhyming_parts\n",
    "    \n",
    "    \n",
    "    def __get_valid_rhyme_patterns(self):\n",
    "        valid_patterns = [pattern for pattern in self.rhyme_patterns if \n",
    "            not any(i > len(self.verse_lines)-1 for i in pattern)\n",
    "        ]\n",
    "        return valid_patterns\n",
    "    \n",
    "    \n",
    "    def score(self, line_pair: List):\n",
    "        first_word = self.last_words[line_pair[0]]\n",
    "        second_word = self.last_words[line_pair[1]]\n",
    "        first_word_rhymes = self.__get_rhyming_parts(first_word) \n",
    "        second_word_rhymes = self.__get_rhyming_parts(second_word)\n",
    "        rhyme_score = 0\n",
    "        for first_word_rhyme in first_word_rhymes:\n",
    "            for second_word_rhyme in second_word_rhymes:\n",
    "                is_rhyming = first_word_rhyme == second_word_rhyme\n",
    "                if (is_rhyming):\n",
    "                    rhyme_score = 1\n",
    "                    status = \"successfully matched\"\n",
    "                else:\n",
    "                    status = \"could not match\"\n",
    "                print(f\" {status} -> {first_word}({first_word_rhyme}) and {second_word}({second_word_rhyme})\")\n",
    "        return int(rhyme_score)\n",
    "    \n",
    "        \n",
    "    def get_rhyme_score(self):\n",
    "        \"\"\"returns a rhyming score for the poem between 0 and 1.\n",
    "        \"\"\"\n",
    "        valid_patterns = self.__get_valid_rhyme_patterns()\n",
    "        scores = [self.score(pattern) for pattern in valid_patterns]\n",
    "        return sum(scores)/len(scores)"
   ]
  },
  {
   "cell_type": "code",
   "execution_count": 468,
   "metadata": {
    "scrolled": true
   },
   "outputs": [],
   "source": [
    "class Limerick:\n",
    "    def __init__(self, text:str,  rhyme_patterns: List, verse_length:int, blacklist:str=None,):\n",
    "        self.blacklist = blacklist\n",
    "        if blacklist:\n",
    "            for term in blacklist:\n",
    "                text = re.sub(term, \"\", text)\n",
    "        self.poem_lines = [line for line in text.splitlines() if line]\n",
    "        self.verse_length = verse_length\n",
    "        self.rhyme_patterns = rhyme_patterns\n",
    "        intervals = list(range(0,len(lines),verse_length))\n",
    "        verse_lines_list = [self.poem_lines[x:x+5] for x in intervals]\n",
    "        print(verse_lines_list)\n",
    "        self.verses = [Verse(lines=verse_lines, rhyme_patterns=self.rhyme_patterns, max_length=self.verse_length) \n",
    "                       for verse_lines in verse_lines_list if len(verse_lines)>4]\n",
    "            \n",
    "    \n",
    "    def get_rhyme_score(self):\n",
    "        print(verse.verse_lines for verse in self.verses)\n",
    "        scores = [verse.get_rhyme_score() for verse in self.verses]\n",
    "        return sum(scores)/len(scores)"
   ]
  },
  {
   "cell_type": "code",
   "execution_count": 455,
   "metadata": {},
   "outputs": [
    {
     "name": "stdout",
     "output_type": "stream",
     "text": [
      "Scoring verse...\n",
      " successfully matched -> shine(AY1 N) and thine(AY1 N)\n",
      " successfully matched -> gate(EY1 T) and late(EY1 T)\n",
      " successfully matched -> shine(AY1 N) and mine(AY1 N)\n",
      "Rhyme score is 1.0\n"
     ]
    }
   ],
   "source": [
    "with open(sample_rhyme) as rhyme_sample:\n",
    "    sample_corpus = rhyme_sample.read()\n",
    "verse_lines = [line for line in sample_corpus.splitlines() if line]\n",
    "verse = Verse(verse_lines, rhyme_patterns=limerick_pattern, max_length=5)\n",
    "print(\"Scoring verse...\")\n",
    "score = verse.get_rhyme_score()\n",
    "print(f\"Rhyme score is {score}\")"
   ]
  },
  {
   "cell_type": "code",
   "execution_count": 450,
   "metadata": {},
   "outputs": [],
   "source": [
    "limerick_pattern = [\n",
    "    [0,1], [2,3], [0,4]\n",
    "]\n",
    "sample_gen = Path(\"samples/.tmp/samples-200\")\n",
    "sample_rhyme = Path(\"samples/sample_rhyme.txt\")\n",
    "blacklist =[\n",
    "    \"=+.*=+\",\n",
    "    \"(<.endoftext)*.>\"\n",
    "]"
   ]
  },
  {
   "cell_type": "code",
   "execution_count": 467,
   "metadata": {
    "scrolled": true
   },
   "outputs": [
    {
     "name": "stdout",
     "output_type": "stream",
     "text": [
      "[['Everytime the sun rises to shine', 'I am reminded of you and the beautiful love of thine', 'Onward ye soldiers to the gate', 'For with the siege, I cannot be late', 'The city is truly mine'], [], [], []]\n",
      "<generator object Limerick.get_rhyme_score.<locals>.<genexpr> at 0x7fc2f166ce50>\n",
      " successfully matched -> shine(AY1 N) and thine(AY1 N)\n",
      " successfully matched -> gate(EY1 T) and late(EY1 T)\n",
      " successfully matched -> shine(AY1 N) and mine(AY1 N)\n",
      "[1.0]\n"
     ]
    }
   ],
   "source": [
    "with open(sample_rhyme) as rhyme_sample:\n",
    "    sample_corpus = rhyme_sample.read()\n",
    "limerick = Limerick(text=sample_corpus, rhyme_patterns=limerick_pattern, verse_length=5, blacklist=blacklist)\n",
    "limerick.get_rhyme_score()"
   ]
  },
  {
   "cell_type": "code",
   "execution_count": 241,
   "metadata": {},
   "outputs": [
    {
     "data": {
      "text/plain": [
       "True"
      ]
     },
     "execution_count": 241,
     "metadata": {},
     "output_type": "execute_result"
    }
   ],
   "source": [
    "pronouncing.rhyming_part(pronouncing.phones_for_word(\"crowd\")[0]) == pronouncing.rhyming_part(pronouncing.phones_for_word(\"proud\")[0])"
   ]
  },
  {
   "cell_type": "code",
   "execution_count": 440,
   "metadata": {},
   "outputs": [],
   "source": [
    "def read_poem(file_path: Path):\n",
    "    \"\"\"reads a file containing poems and returns a \n",
    "    \"\"\"\n",
    "    pass"
   ]
  }
 ],
 "metadata": {
  "kernelspec": {
   "display_name": "Python 3",
   "language": "python",
   "name": "python3"
  },
  "language_info": {
   "codemirror_mode": {
    "name": "ipython",
    "version": 3
   },
   "file_extension": ".py",
   "mimetype": "text/x-python",
   "name": "python",
   "nbconvert_exporter": "python",
   "pygments_lexer": "ipython3",
   "version": "3.7.7"
  }
 },
 "nbformat": 4,
 "nbformat_minor": 4
}
