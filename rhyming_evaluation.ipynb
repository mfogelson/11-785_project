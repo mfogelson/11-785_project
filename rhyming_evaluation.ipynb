{
 "cells": [
  {
   "cell_type": "code",
   "execution_count": 1,
   "metadata": {},
   "outputs": [],
   "source": [
    "# Author: Christopher Dare\n",
    "# Date: 29th October 2020"
   ]
  },
  {
   "cell_type": "markdown",
   "metadata": {},
   "source": [
    "# Evaluation of Rhymes produced by YouShen poetry model\n",
    "\n",
    "## Plan of Attack\n",
    "We need to break each word down into phonemes (graphemes).\n",
    "Then, we will evaluate how similar the 2 words are by rhyme. (This is quite complex).\n",
    "\n",
    "## Rhyme evaluation\n",
    "For any 2 lines of a poem, we consider the last word in each line to score their rhyme similarity.\n",
    "We can classify two lines as rhyme vs not rhyme, as well as quantify how much they rhyme with each other. (more on this needs to be thought through).\n",
    "\n",
    "Consider the following poem line pairs:  \n",
    "\n",
    "*The way he cleaned the bowl was thorough*  \n",
    "*And then he came up to ask for more*\n",
    "\n",
    "*In the morning Cinderella would fetch water,  \n",
    "At night she was the dazzling queen of the gala*\n",
    "\n",
    "*Everytime the sun rises to shine  \n",
    "I am reminded of you, beautiful love of mine*\n",
    "\n",
    "*My brother never trusted santa claus  \n",
    "So his name always fostered banter wars*\n",
    "\n",
    "From the pairs above, we can see that there is variable length of phonemes that consitute a valid rhyme. These can range from one phoneme in for a single word to many phonemes in one word...and even many phonemes in phrases.\n",
    "\n",
    "Key question: What's the best mathematical way of determining that both words rhyme?\n",
    "\n",
    "\n",
    "## Identifying phonemes\n",
    "Phonemes can be identified from pronunciation dictionary mappings or prediction models.\n",
    "Two promising packages with rich datasets that could prove useful for this projects are\n",
    "1. CMU pronouncing dictionary (potentially faster since it's just a dictionary)\n",
    "2. Big Phoney (Has preprocessing capabilities. Could be slower since it relies on a predictive model for words not existent in a dicitonary)\n",
    "Other packages can be found here [on github](https://github.com/topics/phonetics)\n",
    "\n",
    "To get quickly off the ground, we will use BigPhoney"
   ]
  },
  {
   "cell_type": "code",
   "execution_count": 2,
   "metadata": {},
   "outputs": [
    {
     "name": "stdout",
     "output_type": "stream",
     "text": [
      "WARNING: pip is being invoked by an old script wrapper. This will fail in a future version of pip.\r\n",
      "Please see https://github.com/pypa/pip/issues/5599 for advice on fixing the underlying issue.\r\n",
      "To avoid this problem you can invoke Python with '-m pip' instead of running pip directly.\r\n"
     ]
    }
   ],
   "source": [
    "# uncomment to download required package. easier and faster this way\n",
    "!pip install pronouncing -q"
   ]
  },
  {
   "cell_type": "code",
   "execution_count": 19,
   "metadata": {},
   "outputs": [],
   "source": [
    "# imports\n",
    "import re\n",
    "from pathlib import Path\n",
    "from typing import List, Union\n",
    "\n",
    "import numpy as np\n",
    "import pronouncing"
   ]
  },
  {
   "cell_type": "code",
   "execution_count": 4,
   "metadata": {},
   "outputs": [],
   "source": [
    "# drop big phoney..for now. \n",
    "# Package has internal dependency/import issues or works with a particular python version \n",
    "# Package has some good concepts like predicting phonemes for words not found in CMU's pronouncing dictionary. \n",
    "# TODO: revisit\n",
    "# !git clone https://github.com/repp/big-phoney.git big_phoney -q \n",
    "# !cd big_phoney && python setup.py install\n",
    "# !pip install keras\n",
    "# import keras\n",
    "# from big_phoney.big_phoney import BigPhoney\n",
    "# phoney = BigPhoney()"
   ]
  },
  {
   "cell_type": "markdown",
   "metadata": {},
   "source": [
    "### Pseudocode for scoring rhymes\n",
    "for each poem:\n",
    "    break down into verses\n",
    "    for each verse, break down into lines\n",
    "    \n",
    "represent each word in every line as a set of phonemes\n",
    "reverse the phoneme order for each word\n",
    "\n",
    "Scoring rhymes in verses (discrete approach)  \n",
    "for each pair of phonemes in a pair of lines to compare:  \n",
    "-    get the max number (n_max) of syllables for all reversed order phonemes  \n",
    "-    trim each phoneme set to the first n_max phonemes  \n",
    "-    create an empty list of rhyming scores all possible phoneme pairs  \n",
    "-    for each possible phoneme set A construction:  \n",
    "        1. for each possible phoneme set B construction:  \n",
    "        2. compare each corresponding phoneme. If they match, assign a one, else 0.  \n",
    "        3. choose the max of all possible scores as the rhyme score  \n",
    "    \n",
    "\n"
   ]
  },
  {
   "cell_type": "markdown",
   "metadata": {},
   "source": [
    "### Real deal"
   ]
  },
  {
   "cell_type": "code",
   "execution_count": 5,
   "metadata": {},
   "outputs": [],
   "source": [
    "class Limerick:\n",
    "    \n",
    "    def __init__(self, lines: str, rhyme_patterns: List, max_length:int=None):\n",
    "        self.verse_lines = lines\n",
    "        if max_length:\n",
    "            self.verse_lines = self.verse_lines[0:max_length]\n",
    "        self.last_words = [line.split()[-1] for line in self.verse_lines]\n",
    "        self.last_word_rhyming_part_pairs = {word:self.__get_rhyming_parts(word) for word in self.last_words}\n",
    "        self.rhyme_patterns = rhyme_patterns\n",
    " \n",
    "    def __get_phonemes(self, text:Union[str, List]):\n",
    "        \"\"\"returns all possible pronunciation of a word as phonemes\n",
    "        Language used: American English. Style: Arpabet\n",
    "        \"\"\"\n",
    "        if type(text) == str:\n",
    "            phonemes = pronouncing.phones_for_word(text)\n",
    "        else:\n",
    "            phonemes = [pronouncing.phones_for_word(word) for word in text]\n",
    "        return phonemes\n",
    "    \n",
    "    def __get_rhyming_parts(self, word:str):\n",
    "        phonemes = self.__get_phonemes(word)\n",
    "        rhyming_parts = [pronouncing.rhyming_part(phoneme) for phoneme in phonemes]\n",
    "        return rhyming_parts\n",
    "    \n",
    "    \n",
    "    def __get_valid_rhyme_patterns(self):\n",
    "        valid_patterns = [pattern for pattern in self.rhyme_patterns if \n",
    "            not any(i > len(self.verse_lines)-1 for i in pattern)\n",
    "        ]\n",
    "        return valid_patterns\n",
    "    \n",
    "    \n",
    "    def score(self, line_pair: List):\n",
    "        first_word = self.last_words[line_pair[0]]\n",
    "        second_word = self.last_words[line_pair[1]]\n",
    "        first_word_rhymes = self.__get_rhyming_parts(first_word) \n",
    "        second_word_rhymes = self.__get_rhyming_parts(second_word)\n",
    "        rhyme_score = 0\n",
    "        for first_word_rhyme in first_word_rhymes:\n",
    "            for second_word_rhyme in second_word_rhymes:\n",
    "                is_rhyming = first_word_rhyme == second_word_rhyme\n",
    "                if (is_rhyming):\n",
    "                    rhyme_score = 1\n",
    "                    status = \"successfully matched\"\n",
    "                else:\n",
    "                    status = \"could not match\"\n",
    "                # uncomment to debug\n",
    "                print(f\" {status} -> {first_word}({first_word_rhyme}) and {second_word}({second_word_rhyme})\")\n",
    "        return int(rhyme_score)\n",
    "    \n",
    "        \n",
    "    def get_rhyme_score(self):\n",
    "        \"\"\"returns a rhyming score for the poem between 0 and 1.\n",
    "        \"\"\"\n",
    "        valid_patterns = self.__get_valid_rhyme_patterns()\n",
    "        scores = [self.score(pattern) for pattern in valid_patterns]\n",
    "        return sum(scores)/len(scores)\n",
    "\n",
    "    \n",
    "    def __repr__(self):\n",
    "        return repr(\"\\n\".join(self.verse_lines))"
   ]
  },
  {
   "cell_type": "code",
   "execution_count": 6,
   "metadata": {
    "scrolled": true
   },
   "outputs": [],
   "source": [
    "class SamplePoem:\n",
    "    def __init__(self, text:str,  rhyme_patterns: List, verse_length:int, blacklist:List=None,):\n",
    "        self.lines = [line for line in text.splitlines() if line]\n",
    "        self.verse_length = verse_length\n",
    "        self.rhyme_patterns = rhyme_patterns\n",
    "        intervals = list(range(0,len(self.lines),verse_length))\n",
    "        verse_lines_list = [self.lines[x:x+5] for x in intervals]\n",
    "        self.verses = [Limerick(lines=verse_lines, rhyme_patterns=self.rhyme_patterns, max_length=self.verse_length) \n",
    "                       for verse_lines in verse_lines_list]\n",
    "        \n",
    "    \n",
    "    def __get_item__(self, key):\n",
    "        return self.verses[key]\n",
    "\n",
    "\n",
    "    def get_rhyme_score(self):\n",
    "        if len(self.verses):\n",
    "            scores = [verse.get_rhyme_score() for verse in self.verses]\n",
    "            score = sum(scores)/len(scores)\n",
    "        else:\n",
    "            score = None\n",
    "        return score\n",
    "    \n",
    "    \n",
    "    def __repr__(self):\n",
    "        return repr(self.verses)"
   ]
  },
  {
   "cell_type": "code",
   "execution_count": 9,
   "metadata": {},
   "outputs": [],
   "source": [
    "def clean(text: str, blacklist:List):\n",
    "    for term in blacklist:\n",
    "        text = re.sub(term, \"\", text)\n",
    "    return text"
   ]
  },
  {
   "cell_type": "code",
   "execution_count": 8,
   "metadata": {},
   "outputs": [],
   "source": [
    "def read_poems(file_path: Path, blacklist):\n",
    "    \"\"\"reads a file containing poems and returns a list of limerick samples found in the file\n",
    "    \"\"\"\n",
    "    with open(file_path) as file:\n",
    "        text = file.read()\n",
    "    poem_samples = text.split(\"<|endoftext|>\")\n",
    "    poems = [clean(sample, blacklist) for sample in poem_samples if len(sample)>0]\n",
    "    return [poem for poem in poems if len(poem)>0]"
   ]
  },
  {
   "cell_type": "code",
   "execution_count": 10,
   "metadata": {},
   "outputs": [],
   "source": [
    "def test_scoring_limerick(sample_rhyme: Path):\n",
    "    \"\"\"Sanity check to test scoring of a single limerick\n",
    "    \"\"\"\n",
    "    with open(sample_rhyme) as rhyme_sample:\n",
    "        sample_corpus = rhyme_sample.read()\n",
    "    limerick_lines = [line for line in sample_corpus.splitlines() if line]\n",
    "    limerick = Limerick(lines=limerick_lines, rhyme_patterns=limerick_pattern, max_length=5)\n",
    "    print(\"Scoring limerick...\")\n",
    "    score = limerick.get_rhyme_score()\n",
    "    print(f\"Rhyme score is {score}\")\n",
    "    assert(type(score) == float )"
   ]
  },
  {
   "cell_type": "code",
   "execution_count": 11,
   "metadata": {},
   "outputs": [],
   "source": [
    "def score_poems(file_path: Path, last_word_pattern:str, blacklist:List ):\n",
    "    \"\"\"Reads limericks in generated samples and scores them between 0 and 1\n",
    "    \"\"\"\n",
    "    poems = [SamplePoem(text=poem_sample, rhyme_patterns=limerick_pattern, verse_length=5) \n",
    "             for poem_sample in read_poems(file_path, blacklist=blacklist) if len(poem_sample) >0]\n",
    "    poems = [poem for poem in poems if poem.lines]\n",
    "    poem_scores = [poem.get_rhyme_score() for poem in poems]\n",
    "    return poem_scores"
   ]
  },
  {
   "cell_type": "markdown",
   "metadata": {},
   "source": [
    "### Testing and sampling"
   ]
  },
  {
   "cell_type": "code",
   "execution_count": 12,
   "metadata": {},
   "outputs": [],
   "source": [
    "limerick_pattern = [\n",
    "    [0,1], [2,3], [0,4]\n",
    "]\n",
    "sample_gen = Path(\"samples/.tmp/samples-200\") #path to file containing sample GPT2 poems \n",
    "blacklist =[\n",
    "    \"=+.*=+\",\n",
    "    \"(<.endoftext)*.>\"\n",
    "]"
   ]
  },
  {
   "cell_type": "code",
   "execution_count": 13,
   "metadata": {},
   "outputs": [
    {
     "name": "stdout",
     "output_type": "stream",
     "text": [
      "Scoring limerick...\n",
      " successfully matched -> shine(AY1 N) and thine(AY1 N)\n",
      " successfully matched -> gate(EY1 T) and late(EY1 T)\n",
      " successfully matched -> shine(AY1 N) and mine(AY1 N)\n",
      "Rhyme score is 1.0\n"
     ]
    }
   ],
   "source": [
    "sample_rhyme = Path(\"samples/sample_rhyme.txt\")\n",
    "test_scoring_limerick(sample_rhyme)"
   ]
  },
  {
   "cell_type": "code",
   "execution_count": 16,
   "metadata": {
    "scrolled": false
   },
   "outputs": [
    {
     "name": "stdout",
     "output_type": "stream",
     "text": [
      " could not match -> again(EH1 N) and astray(EY1)\n",
      " could not match -> again(EY1 N) and astray(EY1)\n",
      " could not match -> again(EH1 N) and stray(EY1)\n",
      " could not match -> again(EY1 N) and stray(EY1)\n",
      " could not match -> day(EY1) and embrace(EY1 S)\n",
      " could not match -> day(EY1) and embrace(EY1 S)\n",
      " could not match -> day(EY1) and rose(OW1 Z)\n",
      " could not match -> tire(AY1 ER0) and have(AE1 V)\n",
      " could not match -> flight(AY1 T) and Way(EY1)\n",
      " could not match -> day(EY1) and together(EH1 DH ER0)\n",
      " could not match -> wonder(AH1 N D ER0) and one(AH1 N)\n",
      " could not match -> day(EY1) and threes(IY1 Z)\n",
      " could not match -> thee(IY1) and door(AO1 R)\n",
      " could not match -> in(IH0 N) and shut(AH1 T)\n",
      " could not match -> in(IH1 N) and shut(AH1 T)\n",
      " could not match -> her(ER1) and passed(AE1 S T)\n",
      " could not match -> her(HH ER0) and passed(AE1 S T)\n",
      " successfully matched -> eyes(AY1 Z) and surprise(AY1 Z)\n",
      " successfully matched -> eyes(AY1 Z) and surprise(AY1 Z)\n",
      " successfully matched -> apart(AA1 R T) and heart(AA1 R T)\n",
      " could not match -> apart(AA1 R T) and stay(EY1)\n",
      " could not match -> heal(IY1 L) and slip(IH1 P)\n",
      " could not match -> heal(IY1 L) and skies(AY1 Z)\n",
      " successfully matched -> too(UW1) and to(UW1)\n",
      " could not match -> too(UW1) and to(T IH0)\n",
      " could not match -> too(UW1) and to(T AH0)\n",
      " could not match -> time(AY1 M) and it(IH1 T)\n",
      " could not match -> time(AY1 M) and it(IH0 T)\n",
      " could not match -> trance(AE1 N S) and late(EY1 T)\n",
      " could not match -> sky(AY1) and gone(AO1 N)\n",
      " could not match -> stairs(EH1 R Z) and flare(EH1 R)\n",
      " could not match -> said(EH1 D) and steel(IY1 L)\n",
      "\n",
      "\n",
      "Scores for detected limerick attemps -> [0.0, 0.0, 0.1, 0.0]\n"
     ]
    }
   ],
   "source": [
    "poem_scores = score_poems(file_path=sample_gen, last_word_pattern=limerick_pattern, blacklist=blacklist)\n",
    "print(f\"\\n\\nScores for detected limerick attemps -> {poem_scores}\")"
   ]
  },
  {
   "cell_type": "markdown",
   "metadata": {},
   "source": [
    "### Next steps\n",
    "1. Improve rhyming similarities. Shine does rhyme with time although their rhyming parts are not a 100% match. Give a smoothed score for rhymes so that checking for e.g. AA is not just 0 or 1 but any float within the range.\n",
    "2. Crack the code to identifying the rhyme parts of a word."
   ]
  },
  {
   "cell_type": "code",
   "execution_count": 17,
   "metadata": {},
   "outputs": [],
   "source": [
    "def sigmoid(X):\n",
    "   return 1/(1+np.exp(-X))"
   ]
  },
  {
   "cell_type": "code",
   "execution_count": 86,
   "metadata": {},
   "outputs": [],
   "source": [
    "def calculate_edit_distance(phoneme_set_a: List[str], phoneme_set_b: List[str], levenshtein=True):\n",
    "    \"\"\"Calculates edit distance between 2 sets of phonemes\n",
    "    \n",
    "    Parameters\n",
    "    ----------\n",
    "    phoneme_set_a: list\n",
    "        word or rhyming part to be compared to. \n",
    "        This is represented as a string or list of phonemes representing a word or its rhyming part.\n",
    "    phoneme_set_a: list\n",
    "        word or rhyming part for which we want compute how different it is from phoneme_set_a\n",
    "        This is also represented as a string or a list of phonemes representing a word or its rhyming part.\n",
    "    levenshtein: bool, default = True\n",
    "        Boolean indicating whether the distance should be conputed as Levenshtein distance or not\n",
    "        \n",
    "    Examples\n",
    "    --------\n",
    "    wonder = [\"AH1\",\"N\",\"D\",\"ER0\"]\n",
    "    one = [\"AH1\",\"N\"]\n",
    "    \n",
    "    difference = calculate_edit_distance(wonder, one, levenshtein=False)\n",
    "    \"\"\"\n",
    "#     aligned_phoneme_set_a = []\n",
    "    substitution_cost = 0\n",
    "    insertion_cost = 0\n",
    "    deletion_cost = 0\n",
    "    aligned_phoneme_set_b = list(phoneme_set_b)\n",
    "    \n",
    "    index_counter = 0\n",
    "    while index_counter >= len(phoneme_set_b) - 1:\n",
    "        if phoneme_set_a[index_counter] == aligned_phoneme_set_b[index_counter]:\n",
    "            aligned_phoneme_set_b = phoneme_set_b[index_counter]\n",
    "        elif index_counter >0:\n",
    "            if phoneme_set_a[index_counter-1] == aligned_phoneme_set_b[index_counter]:\n",
    "                aligned_phoneme_set_b.insert(index_counter, None)\n",
    "        # else, skip. it requires a substitution\n",
    "        index_counter = index_counter + 1\n",
    "    \n",
    "    deletion_cost = abs(len(phoneme_set_a) - len(aligned_phoneme_set_b))\n",
    "    aligned_phoneme_set_b = aligned_phoneme_set_b[-len(phoneme_set_a):]\n",
    "    \n",
    "#     index_counter = len(aligned_phoneme_set_b) - 1\n",
    "    for i in range(len(aligned_phoneme_set_b)):\n",
    "        if aligned_phoneme_set_b[i] == None:\n",
    "            insertion_cost = insertion_cost + 1\n",
    "        elif phoneme_set_a[i] != aligned_phoneme_set_b[i]:\n",
    "            substitution_cost = substitution_cost + 1\n",
    "        # else, continue\n",
    "    \n",
    "    # compute total costs\n",
    "    if levenshtein:\n",
    "        substitution_cost = substitution_cost * 2\n",
    "        \n",
    "    print(f\"aligned_phoneme_set_b: {aligned_phoneme_set_b}\")\n",
    "        \n",
    "    print(f\"deletion cost: {deletion_cost}\")\n",
    "    print(f\"insertion cost: {insertion_cost}\")\n",
    "    print(f\"substitution cost: {substitution_cost}\")\n",
    "    \n",
    "    total_cost = deletion_cost + insertion_cost + substitution_cost\n",
    "    \n",
    "    return total_cost"
   ]
  },
  {
   "cell_type": "code",
   "execution_count": 79,
   "metadata": {
    "scrolled": false
   },
   "outputs": [
    {
     "name": "stdout",
     "output_type": "stream",
     "text": [
      "deletion cost: 2\n",
      "insertion cost: 0\n",
      "substitution cost: 0\n"
     ]
    },
    {
     "data": {
      "text/plain": [
       "2"
      ]
     },
     "execution_count": 79,
     "metadata": {},
     "output_type": "execute_result"
    }
   ],
   "source": [
    "wonder = [\"AH1\",\"N\",\"D\",\"ER0\"]\n",
    "one = [\"AH1\",\"N\"]\n",
    "\n",
    "difference = calculate_edit_distance(wonder, one, levenshtein=True)\n",
    "difference"
   ]
  },
  {
   "cell_type": "code",
   "execution_count": 87,
   "metadata": {
    "scrolled": false
   },
   "outputs": [
    {
     "name": "stdout",
     "output_type": "stream",
     "text": [
      "aligned_phoneme_set_b: ['i', 'n', 't', 'e', 'n', 't', 'i', 'o', 'n']\n",
      "deletion cost: 0\n",
      "insertion cost: 0\n",
      "substitution cost: 10\n"
     ]
    },
    {
     "data": {
      "text/plain": [
       "10"
      ]
     },
     "execution_count": 87,
     "metadata": {},
     "output_type": "execute_result"
    }
   ],
   "source": [
    "difference = calculate_edit_distance(\"execution\", \"intention\")\n",
    "difference"
   ]
  },
  {
   "cell_type": "code",
   "execution_count": 85,
   "metadata": {},
   "outputs": [
    {
     "name": "stdout",
     "output_type": "stream",
     "text": [
      "deletion cost: 1\n",
      "insertion cost: 0\n",
      "substitution cost: 2\n"
     ]
    },
    {
     "data": {
      "text/plain": [
       "3"
      ]
     },
     "execution_count": 85,
     "metadata": {},
     "output_type": "execute_result"
    }
   ],
   "source": [
    "difference = calculate_edit_distance(\"ry\", \"hey\")\n",
    "difference"
   ]
  },
  {
   "cell_type": "code",
   "execution_count": 46,
   "metadata": {},
   "outputs": [
    {
     "data": {
      "text/plain": [
       "1"
      ]
     },
     "execution_count": 46,
     "metadata": {},
     "output_type": "execute_result"
    }
   ],
   "source": [
    "temp = \"execution\"\n",
    "temp2 = \"inte*ntion\"\n",
    "temp2[-len(temp):]\n",
    "abs(len(temp) - len(temp2))"
   ]
  },
  {
   "cell_type": "code",
   "execution_count": 55,
   "metadata": {},
   "outputs": [
    {
     "data": {
      "text/plain": [
       "True"
      ]
     },
     "execution_count": 55,
     "metadata": {},
     "output_type": "execute_result"
    }
   ],
   "source": [
    "not None"
   ]
  }
 ],
 "metadata": {
  "kernelspec": {
   "display_name": "Python 3",
   "language": "python",
   "name": "python3"
  },
  "language_info": {
   "codemirror_mode": {
    "name": "ipython",
    "version": 3
   },
   "file_extension": ".py",
   "mimetype": "text/x-python",
   "name": "python",
   "nbconvert_exporter": "python",
   "pygments_lexer": "ipython3",
   "version": "3.7.7"
  }
 },
 "nbformat": 4,
 "nbformat_minor": 4
}
