{
 "cells": [
  {
   "cell_type": "code",
   "execution_count": 1,
   "metadata": {},
   "outputs": [],
   "source": [
    "# Author: Christopher Dare\n",
    "# Date: 29th October 2020"
   ]
  },
  {
   "cell_type": "markdown",
   "metadata": {},
   "source": [
    "# Evaluation of Rhymes produced by YouShen poetry model\n",
    "\n",
    "## Plan of Attack\n",
    "We need to break each word down into phonemes (graphemes).\n",
    "Then, we will evaluate how similar the 2 words are by rhyme. (This is quite complex).\n",
    "\n",
    "## Rhyme evaluation\n",
    "For any 2 lines of a poem, we consider the last word in each line to score they rhyme similarity.\n",
    "lines of a poem to rhyme by whether a set of graphemes \n",
    "\n",
    "Consider the following poem line pairs:  \n",
    "\n",
    "*The way he clean the bowl was thorough*  \n",
    "*And then he came up to ask for more*\n",
    "\n",
    "*In the morning Cinderella would fetch water,  \n",
    "At night she was the dazzling queen of the gala*\n",
    "\n",
    "*Everytime the sun rises to shine  \n",
    "I am reminded of the beautiful love of mine*\n",
    "\n",
    "*My brother never trusted santa claus  \n",
    "Speaking of his name always fostered banter wars*\n",
    "\n",
    "From the pairs above, we can see that there is variable length of phonemes that consitute a valid. These can range from one phoneme in for a single word to many phonemes in one word...and even many phonemes in phrases.\n",
    "\n",
    "Key question: What's the best mathematical way of determining that both words rhyme?\n",
    "\n",
    "\n",
    "## Identifying phonemes\n",
    "Phonemes can be identified from pronunciation dictionary mappings or prediction models.\n",
    "Two promising packages with rich datasets that could prove useful for this projects are\n",
    "1. CMU pronouncing dictionary (potentially faster since it's just a dictionary)\n",
    "2. Big Phoney (Has preprocessing capabilities. Could be slower since it relies on a predictive model for words not existent in a dicitonary)\n",
    "Other packages can be found here [on github](https://github.com/topics/phonetics)\n",
    "\n",
    "To get quickly off the ground, we will use BigPhoney"
   ]
  },
  {
   "cell_type": "code",
   "execution_count": null,
   "metadata": {},
   "outputs": [
    {
     "name": "stdout",
     "output_type": "stream",
     "text": [
      "Warning: 'classifiers' should be a list, got type 'tuple'\n",
      "running install\n",
      "running bdist_egg\n",
      "running egg_info\n",
      "creating big_phoney.egg-info\n",
      "writing big_phoney.egg-info/PKG-INFO\n",
      "writing dependency_links to big_phoney.egg-info/dependency_links.txt\n",
      "writing requirements to big_phoney.egg-info/requires.txt\n",
      "writing top-level names to big_phoney.egg-info/top_level.txt\n",
      "writing manifest file 'big_phoney.egg-info/SOURCES.txt'\n",
      "reading manifest file 'big_phoney.egg-info/SOURCES.txt'\n",
      "writing manifest file 'big_phoney.egg-info/SOURCES.txt'\n",
      "installing library code to build/bdist.linux-x86_64/egg\n",
      "running install_lib\n",
      "running build_py\n",
      "creating build\n",
      "creating build/lib\n",
      "creating build/lib/big_phoney\n",
      "copying big_phoney/phonetic_dictionary.py -> build/lib/big_phoney\n",
      "copying big_phoney/prediction_model_utils.py -> build/lib/big_phoney\n",
      "copying big_phoney/shared_constants.py -> build/lib/big_phoney\n",
      "copying big_phoney/prediction_model.py -> build/lib/big_phoney\n",
      "copying big_phoney/preprocessors.py -> build/lib/big_phoney\n",
      "copying big_phoney/big_phoney.py -> build/lib/big_phoney\n",
      "copying big_phoney/utils.py -> build/lib/big_phoney\n",
      "copying big_phoney/__init__.py -> build/lib/big_phoney\n",
      "creating build/lib/big_phoney/data\n",
      "copying big_phoney/data/prediction_model_weights.hdf5 -> build/lib/big_phoney/data\n",
      "copying big_phoney/data/bp-qty-abbrev-dict.pkl -> build/lib/big_phoney/data\n",
      "copying big_phoney/data/bp-phonetic-symbols.pkl -> build/lib/big_phoney/data\n",
      "copying big_phoney/data/bp-phonetic-dict.pkl -> build/lib/big_phoney/data\n",
      "copying big_phoney/data/bp-abbrev-dict.pkl -> build/lib/big_phoney/data\n",
      "creating build/bdist.linux-x86_64\n",
      "creating build/bdist.linux-x86_64/egg\n",
      "creating build/bdist.linux-x86_64/egg/big_phoney\n",
      "creating build/bdist.linux-x86_64/egg/big_phoney/data\n",
      "copying build/lib/big_phoney/data/prediction_model_weights.hdf5 -> build/bdist.linux-x86_64/egg/big_phoney/data\n",
      "copying build/lib/big_phoney/data/bp-qty-abbrev-dict.pkl -> build/bdist.linux-x86_64/egg/big_phoney/data\n",
      "copying build/lib/big_phoney/data/bp-phonetic-symbols.pkl -> build/bdist.linux-x86_64/egg/big_phoney/data\n",
      "copying build/lib/big_phoney/data/bp-phonetic-dict.pkl -> build/bdist.linux-x86_64/egg/big_phoney/data\n",
      "copying build/lib/big_phoney/data/bp-abbrev-dict.pkl -> build/bdist.linux-x86_64/egg/big_phoney/data\n",
      "copying build/lib/big_phoney/phonetic_dictionary.py -> build/bdist.linux-x86_64/egg/big_phoney\n",
      "copying build/lib/big_phoney/prediction_model_utils.py -> build/bdist.linux-x86_64/egg/big_phoney\n",
      "copying build/lib/big_phoney/shared_constants.py -> build/bdist.linux-x86_64/egg/big_phoney\n",
      "copying build/lib/big_phoney/prediction_model.py -> build/bdist.linux-x86_64/egg/big_phoney\n",
      "copying build/lib/big_phoney/preprocessors.py -> build/bdist.linux-x86_64/egg/big_phoney\n",
      "copying build/lib/big_phoney/big_phoney.py -> build/bdist.linux-x86_64/egg/big_phoney\n",
      "copying build/lib/big_phoney/utils.py -> build/bdist.linux-x86_64/egg/big_phoney\n",
      "copying build/lib/big_phoney/__init__.py -> build/bdist.linux-x86_64/egg/big_phoney\n",
      "byte-compiling build/bdist.linux-x86_64/egg/big_phoney/phonetic_dictionary.py to phonetic_dictionary.cpython-37.pyc\n",
      "byte-compiling build/bdist.linux-x86_64/egg/big_phoney/prediction_model_utils.py to prediction_model_utils.cpython-37.pyc\n",
      "byte-compiling build/bdist.linux-x86_64/egg/big_phoney/shared_constants.py to shared_constants.cpython-37.pyc\n",
      "byte-compiling build/bdist.linux-x86_64/egg/big_phoney/prediction_model.py to prediction_model.cpython-37.pyc\n",
      "byte-compiling build/bdist.linux-x86_64/egg/big_phoney/preprocessors.py to preprocessors.cpython-37.pyc\n",
      "byte-compiling build/bdist.linux-x86_64/egg/big_phoney/big_phoney.py to big_phoney.cpython-37.pyc\n",
      "byte-compiling build/bdist.linux-x86_64/egg/big_phoney/utils.py to utils.cpython-37.pyc\n",
      "byte-compiling build/bdist.linux-x86_64/egg/big_phoney/__init__.py to __init__.cpython-37.pyc\n",
      "creating build/bdist.linux-x86_64/egg/EGG-INFO\n",
      "copying big_phoney.egg-info/PKG-INFO -> build/bdist.linux-x86_64/egg/EGG-INFO\n",
      "copying big_phoney.egg-info/SOURCES.txt -> build/bdist.linux-x86_64/egg/EGG-INFO\n",
      "copying big_phoney.egg-info/dependency_links.txt -> build/bdist.linux-x86_64/egg/EGG-INFO\n",
      "copying big_phoney.egg-info/requires.txt -> build/bdist.linux-x86_64/egg/EGG-INFO\n",
      "copying big_phoney.egg-info/top_level.txt -> build/bdist.linux-x86_64/egg/EGG-INFO\n",
      "zip_safe flag not set; analyzing archive contents...\n",
      "big_phoney.__pycache__.shared_constants.cpython-37: module references __file__\n",
      "creating dist\n",
      "creating 'dist/big_phoney-1.0.1-py3.7.egg' and adding 'build/bdist.linux-x86_64/egg' to it\n",
      "removing 'build/bdist.linux-x86_64/egg' (and everything under it)\n",
      "Processing big_phoney-1.0.1-py3.7.egg\n",
      "creating /home/dex/anaconda3/envs/aikit/lib/python3.7/site-packages/big_phoney-1.0.1-py3.7.egg\n",
      "Extracting big_phoney-1.0.1-py3.7.egg to /home/dex/anaconda3/envs/aikit/lib/python3.7/site-packages\n",
      "Adding big-phoney 1.0.1 to easy-install.pth file\n",
      "\n",
      "Installed /home/dex/anaconda3/envs/aikit/lib/python3.7/site-packages/big_phoney-1.0.1-py3.7.egg\n",
      "Processing dependencies for big-phoney==1.0.1\n",
      "Searching for tensorflow\n",
      "Reading https://pypi.org/simple/tensorflow/\n",
      "Downloading https://files.pythonhosted.org/packages/eb/18/374af421dfbe74379a458e58ab40cf46b35c3206ce8e183e28c1c627494d/tensorflow-2.3.1-cp37-cp37m-manylinux2010_x86_64.whl#sha256=859afb9166ace41ee71f62938fc645981113bb3227b847c8cd2875549c9fa1dc\n"
     ]
    }
   ],
   "source": [
    "!git clone https://github.com/repp/big-phoney.git big_phoney -q \n",
    "!cd big_phoney && python setup.py install"
   ]
  },
  {
   "cell_type": "code",
   "execution_count": 12,
   "metadata": {},
   "outputs": [
    {
     "name": "stdout",
     "output_type": "stream",
     "text": [
      "big-phoney  poetry.ipynb  README.md  rhyming_evaluation.ipynb  youshen\r\n"
     ]
    }
   ],
   "source": [
    "!ls"
   ]
  },
  {
   "cell_type": "code",
   "execution_count": null,
   "metadata": {},
   "outputs": [],
   "source": [
    "from big_phoney import BigPhoney\n",
    "phoney = BigPhoney()"
   ]
  }
 ],
 "metadata": {
  "kernelspec": {
   "display_name": "Python 3",
   "language": "python",
   "name": "python3"
  },
  "language_info": {
   "codemirror_mode": {
    "name": "ipython",
    "version": 3
   },
   "file_extension": ".py",
   "mimetype": "text/x-python",
   "name": "python",
   "nbconvert_exporter": "python",
   "pygments_lexer": "ipython3",
   "version": "3.7.7"
  }
 },
 "nbformat": 4,
 "nbformat_minor": 4
}
