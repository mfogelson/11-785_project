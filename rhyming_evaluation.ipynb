{
 "cells": [
  {
   "cell_type": "code",
   "execution_count": 1,
   "metadata": {},
   "outputs": [],
   "source": [
    "# Author: Christopher Dare\n",
    "# Date: 29th October 2020"
   ]
  },
  {
   "cell_type": "markdown",
   "metadata": {},
   "source": [
    "# Evaluation of Rhymes produced by YouShen poetry model\n",
    "\n",
    "## Plan of Attack\n",
    "We need to break each word down into phonemes (graphemes).\n",
    "Then, we will evaluate how similar the 2 words are by rhyme. (This is quite complex).\n",
    "\n",
    "## Rhyme evaluation\n",
    "For any 2 lines of a poem, we consider the last word in each line to score their rhyme similarity.\n",
    "We can classify two lines as rhyme vs not rhyme, as well as quantify how much they rhyme with each other. (more on this needs to be thought through).\n",
    "\n",
    "Consider the following poem line pairs:  \n",
    "\n",
    "*The way he cleaned the bowl was thorough*  \n",
    "*And then he came up to ask for more*\n",
    "\n",
    "*In the morning Cinderella would fetch water,  \n",
    "At night she was the dazzling queen of the gala*\n",
    "\n",
    "*Everytime the sun rises to shine  \n",
    "I am reminded of you, beautiful love of mine*\n",
    "\n",
    "*My brother never trusted santa claus  \n",
    "So his name always fostered banter wars*\n",
    "\n",
    "From the pairs above, we can see that there is variable length of phonemes that consitute a valid rhyme. These can range from one phoneme in for a single word to many phonemes in one word...and even many phonemes in phrases.\n",
    "\n",
    "Key question: What's the best mathematical way of determining that both words rhyme?\n",
    "\n",
    "\n",
    "## Identifying phonemes\n",
    "Phonemes can be identified from pronunciation dictionary mappings or prediction models.\n",
    "Two promising packages with rich datasets that could prove useful for this projects are\n",
    "1. CMU pronouncing dictionary (potentially faster since it's just a dictionary)\n",
    "2. Big Phoney (Has preprocessing capabilities. Could be slower since it relies on a predictive model for words not existent in a dicitonary)\n",
    "Other packages can be found here [on github](https://github.com/topics/phonetics)\n",
    "\n",
    "To get quickly off the ground, we will use BigPhoney"
   ]
  },
  {
   "cell_type": "code",
   "execution_count": 63,
   "metadata": {},
   "outputs": [],
   "source": [
    "# imports\n",
    "from pathlib import Path\n",
    "from typing import List, Union"
   ]
  },
  {
   "cell_type": "code",
   "execution_count": null,
   "metadata": {},
   "outputs": [],
   "source": [
    "!git clone https://github.com/repp/big-phoney.git big_phoney -q \n",
    "!cd big_phoney && python setup.py install"
   ]
  },
  {
   "cell_type": "code",
   "execution_count": null,
   "metadata": {},
   "outputs": [],
   "source": [
    "!pip install keras"
   ]
  },
  {
   "cell_type": "code",
   "execution_count": null,
   "metadata": {},
   "outputs": [],
   "source": [
    "import keras\n",
    "from big_phoney.big_phoney import BigPhoney\n",
    "phoney = BigPhoney()\n",
    "## Looks like the packages has dependency management issues. I'll come back to the code later."
   ]
  },
  {
   "cell_type": "code",
   "execution_count": 2,
   "metadata": {},
   "outputs": [
    {
     "data": {
      "text/plain": [
       "['P ER0 M IH1 T', 'P ER1 M IH2 T']"
      ]
     },
     "execution_count": 2,
     "metadata": {},
     "output_type": "execute_result"
    }
   ],
   "source": [
    "import pronouncing\n",
    "pronouncing.phones_for_word(\"permit\")"
   ]
  },
  {
   "cell_type": "code",
   "execution_count": 14,
   "metadata": {},
   "outputs": [],
   "source": [
    "sample_corpus = \"\\\n",
    "The way he cleaned the bowl was thorough\\\n",
    "And then he came up to ask for more\\\n",
    "In the morning Cinderella would fetch water,\\\n",
    "At night she was the dazzling queen of the gala\\\n",
    "Everytime the sun rises to shine\\\n",
    "I am reminded of you, beautiful love of mine\\\n",
    "My brother never trusted santa claus\\\n",
    "So his name always fostered banter wars\\\n",
    "\""
   ]
  },
  {
   "cell_type": "code",
   "execution_count": 3,
   "metadata": {},
   "outputs": [],
   "source": [
    "with open(Path(\"samples/sample_rhyme.txt\")) as rhyme_sample:\n",
    "    sample_corpus = rhyme_sample.read()"
   ]
  },
  {
   "cell_type": "code",
   "execution_count": 4,
   "metadata": {},
   "outputs": [
    {
     "data": {
      "text/plain": [
       "'The way he cleaned the bowl was thorough\\nAnd then he came up to ask for more\\n\\nIn the morning Cinderella would fetch water,\\nAt night she was the dazzling queen of the gala\\n\\nEverytime the sun rises to shine\\nI am reminded of you, beautiful love of mine\\n\\nMy brother never trusted santa claus\\nSo his name always fostered banter wars'"
      ]
     },
     "execution_count": 4,
     "metadata": {},
     "output_type": "execute_result"
    }
   ],
   "source": [
    "sample_corpus"
   ]
  },
  {
   "cell_type": "code",
   "execution_count": 7,
   "metadata": {},
   "outputs": [
    {
     "data": {
      "text/plain": [
       "['The way he cleaned the bowl was thorough',\n",
       " 'And then he came up to ask for more',\n",
       " 'In the morning Cinderella would fetch water,',\n",
       " 'At night she was the dazzling queen of the gala',\n",
       " 'Everytime the sun rises to shine',\n",
       " 'I am reminded of you, beautiful love of mine',\n",
       " 'My brother never trusted santa claus',\n",
       " 'So his name always fostered banter wars']"
      ]
     },
     "execution_count": 7,
     "metadata": {},
     "output_type": "execute_result"
    }
   ],
   "source": [
    "valid_lines = [line for line in sample_corpus.splitlines() if line]\n",
    "valid_lines"
   ]
  },
  {
   "cell_type": "code",
   "execution_count": 8,
   "metadata": {},
   "outputs": [
    {
     "data": {
      "text/plain": [
       "['thorough', 'more', 'water,', 'gala', 'shine', 'mine', 'claus', 'wars']"
      ]
     },
     "execution_count": 8,
     "metadata": {},
     "output_type": "execute_result"
    }
   ],
   "source": [
    "last_words = [line.split()[-1] for line in valid_lines]\n",
    "last_words"
   ]
  },
  {
   "cell_type": "markdown",
   "metadata": {},
   "source": [
    "### Pseudocode for scoring rhymes\n",
    "for each poem:\n",
    "    break down into verses\n",
    "    for each verse, break down into lines\n",
    "    \n",
    "represent each word in every line as a set of phonemes\n",
    "reverse the phoneme order for each word\n",
    "\n",
    "for each pair of phonemes in a pair of lines to compare:\n",
    "    get the max number (n_max) of syllables for all reversed order phonemes\n",
    "    trim each phoneme set to the first n_max phonemes\n",
    "    create an empty list of rhyming scores all possible phoneme pairs\n",
    "    for each possible phoneme set A construction:\n",
    "        for each possible phoneme set B construction:\n",
    "        compare each corresponding phoneme. If they match, assign a one, else 0.\n",
    "    \n",
    "\n"
   ]
  },
  {
   "cell_type": "code",
   "execution_count": 75,
   "metadata": {},
   "outputs": [],
   "source": [
    "class Poem:\n",
    "    \n",
    "    def __init__(self, text: str):\n",
    "        self.word_lines = [line for line in text.splitlines() if line] \n",
    "        last_words = [line.split()[-1] for line in self.word_lines]\n",
    "        self.last_word_phoneme_pairs = {word:self.__get_phonemes(word) for word in last_words}\n",
    " \n",
    "    def __get_phonemes(self, text:Union[str, List]):\n",
    "        \"\"\"returns all possible pronunciation of a word as phonemes\n",
    "        Language used: American English. Style: Arpabet\n",
    "        \"\"\"\n",
    "        if type(text) == str:\n",
    "            phonemes = pronouncing.phones_for_word(text)\n",
    "        else:\n",
    "            phonemes = [pronouncing.phones_for_word(word) for word in text]\n",
    "        return phonemes\n",
    "    \n",
    "        \n",
    "    def get_rhyme_score():\n",
    "        \"\"\"returns a rhyming score for the poem between 0 and 1.\n",
    "        \"\"\""
   ]
  },
  {
   "cell_type": "code",
   "execution_count": 73,
   "metadata": {},
   "outputs": [
    {
     "name": "stdout",
     "output_type": "stream",
     "text": [
      "['thorough', 'more', 'water,', 'gala', 'shine', 'mine', 'claus', 'wars']\n"
     ]
    },
    {
     "data": {
      "text/plain": [
       "{'thorough': ['TH ER1 OW0', 'TH AO1 R OW0'],\n",
       " 'more': ['M AO1 R'],\n",
       " 'water,': [],\n",
       " 'gala': ['G AE1 L AH0', 'G EY1 L AH0'],\n",
       " 'shine': ['SH AY1 N'],\n",
       " 'mine': ['M AY1 N'],\n",
       " 'claus': ['K L AO1 Z'],\n",
       " 'wars': ['W AO1 R Z']}"
      ]
     },
     "execution_count": 73,
     "metadata": {},
     "output_type": "execute_result"
    }
   ],
   "source": [
    "poem = Poem(sample_corpus)\n",
    "poem.last_word_phoneme_pairs"
   ]
  },
  {
   "cell_type": "code",
   "execution_count": 27,
   "metadata": {},
   "outputs": [
    {
     "data": {
      "text/plain": [
       "'The way he cleaned the bowl was thorough'"
      ]
     },
     "execution_count": 27,
     "metadata": {},
     "output_type": "execute_result"
    }
   ],
   "source": [
    "poem.word_lines[0]"
   ]
  },
  {
   "cell_type": "code",
   "execution_count": 28,
   "metadata": {},
   "outputs": [
    {
     "data": {
      "text/plain": [
       "[]"
      ]
     },
     "execution_count": 28,
     "metadata": {},
     "output_type": "execute_result"
    }
   ],
   "source": [
    "pronouncing.phones_for_word(poem.word_lines[0])"
   ]
  },
  {
   "cell_type": "code",
   "execution_count": null,
   "metadata": {},
   "outputs": [],
   "source": [
    "def read_poem(file_path: Path):\n",
    "    \"\"\"reads a file containing poems and returns a \n",
    "    \"\"\""
   ]
  },
  {
   "cell_type": "code",
   "execution_count": 46,
   "metadata": {},
   "outputs": [
    {
     "data": {
      "text/plain": [
       "[['TH ER1 OW0', 'TH AO1 R OW0'],\n",
       " ['M AO1 R'],\n",
       " [],\n",
       " ['G AE1 L AH0', 'G EY1 L AH0'],\n",
       " ['SH AY1 N'],\n",
       " ['M AY1 N'],\n",
       " ['K L AO1 Z'],\n",
       " ['W AO1 R Z']]"
      ]
     },
     "execution_count": 46,
     "metadata": {},
     "output_type": "execute_result"
    }
   ],
   "source": [
    "[pronouncing.phones_for_word(last_word) for last_word in last_words]"
   ]
  }
 ],
 "metadata": {
  "kernelspec": {
   "display_name": "Python 3",
   "language": "python",
   "name": "python3"
  },
  "language_info": {
   "codemirror_mode": {
    "name": "ipython",
    "version": 3
   },
   "file_extension": ".py",
   "mimetype": "text/x-python",
   "name": "python",
   "nbconvert_exporter": "python",
   "pygments_lexer": "ipython3",
   "version": "3.7.7"
  }
 },
 "nbformat": 4,
 "nbformat_minor": 4
}
