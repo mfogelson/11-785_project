{
 "cells": [
  {
   "cell_type": "code",
   "execution_count": 19,
   "metadata": {},
   "outputs": [],
   "source": [
    "import numpy as np\n",
    "\n",
    "def load_limerick_list():\n",
    "    '''\n",
    "    Args: \n",
    "    None\n",
    "\n",
    "    Returns: \n",
    "    limericks (list) -> list of all loaded limericks\n",
    "    '''\n",
    "    \n",
    "    path = './corpuses'\n",
    "    file_name = '/limericks.txt'\n",
    "\n",
    "    text = open(path+file_name, 'r')\n",
    "\n",
    "    count = 0\n",
    "    limerick = []\n",
    "    limericks = []\n",
    "\n",
    "    for line in text:\n",
    "        if line == '\\n':\n",
    "            continue\n",
    "        limerick.append(line)\n",
    "        count += 1\n",
    "        if count == 5:\n",
    "            limericks += [limerick]\n",
    "            limerick = []\n",
    "            count = 0 \n",
    "            \n",
    "    return limericks \n",
    "\n",
    "def get_random_limerick(limericks):\n",
    "    '''\n",
    "    Args: \n",
    "    limericks (list) -> list of limericks\n",
    "\n",
    "    Returns: \n",
    "    limerick (list) -> random limerick\n",
    "    '''\n",
    "    \n",
    "    ind = np.random.randint(0, len(limericks), 1)\n",
    "    \n",
    "    return limericks[ind.item()]\n",
    "        "
   ]
  },
  {
   "cell_type": "code",
   "execution_count": 20,
   "metadata": {},
   "outputs": [
    {
     "name": "stdout",
     "output_type": "stream",
     "text": [
      "[45214]\n"
     ]
    },
    {
     "data": {
      "text/plain": [
       "['was the toy that they plied\\n',\n",
       " 'as they nursed at her side,\\n',\n",
       " 'while she cozily licked their fur flat.\\n',\n",
       " 'northern flickers from treeholes will peek,\\n',\n",
       " 'then fly groundward for ants that they seek.\\n']"
      ]
     },
     "execution_count": 20,
     "metadata": {},
     "output_type": "execute_result"
    }
   ],
   "source": [
    "get_random_limerick()"
   ]
  },
  {
   "cell_type": "code",
   "execution_count": 35,
   "metadata": {},
   "outputs": [
    {
     "data": {
      "text/plain": [
       "['her aperient, grass,\\n',\n",
       " 'also gets rid of gas\\n',\n",
       " 'as a natural dog-breath receiver.\\n',\n",
       " \"he curtailed the milk's path to acescence,\\n\",\n",
       " 'grated cinnamon sticks for their essence,\\n']"
      ]
     },
     "execution_count": 35,
     "metadata": {},
     "output_type": "execute_result"
    }
   ],
   "source": [
    "limericks[45000]"
   ]
  },
  {
   "cell_type": "code",
   "execution_count": null,
   "metadata": {},
   "outputs": [],
   "source": []
  }
 ],
 "metadata": {
  "kernelspec": {
   "display_name": "Python 3",
   "language": "python",
   "name": "python3"
  },
  "language_info": {
   "codemirror_mode": {
    "name": "ipython",
    "version": 3
   },
   "file_extension": ".py",
   "mimetype": "text/x-python",
   "name": "python",
   "nbconvert_exporter": "python",
   "pygments_lexer": "ipython3",
   "version": "3.7.0"
  }
 },
 "nbformat": 4,
 "nbformat_minor": 4
}
