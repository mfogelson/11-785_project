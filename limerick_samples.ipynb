{
 "cells": [
  {
   "cell_type": "code",
   "execution_count": 43,
   "metadata": {},
   "outputs": [],
   "source": [
    "import numpy as np\n",
    "\n",
    "def load_limerick_list():\n",
    "    '''\n",
    "    Args: \n",
    "    None\n",
    "\n",
    "    Returns: \n",
    "    limericks (list) -> list of all loaded limericks\n",
    "    '''\n",
    "    \n",
    "    path = '.'\n",
    "    file_name = '/limericks_final.txt'\n",
    "\n",
    "    text = open(path+file_name, 'r')\n",
    "\n",
    "    count = 0\n",
    "    limerick = []\n",
    "    limericks = []\n",
    "\n",
    "    for line in text:\n",
    "        if line == '\\n':\n",
    "            continue\n",
    "        limerick.append(line)\n",
    "        count += 1\n",
    "        if count == 5:\n",
    "            limericks += [limerick]\n",
    "            limerick = []\n",
    "            count = 0 \n",
    "            \n",
    "    return limericks \n",
    "\n",
    "def get_random_limerick(limericks):\n",
    "    '''\n",
    "    Args: \n",
    "    limericks (list) -> list of limericks\n",
    "\n",
    "    Returns: \n",
    "    limerick (list) -> random limerick\n",
    "    '''\n",
    "    \n",
    "    ind = np.random.randint(0, len(limericks), 1)\n",
    "    \n",
    "    return limericks[ind.item()]\n",
    "        "
   ]
  },
  {
   "cell_type": "code",
   "execution_count": 44,
   "metadata": {},
   "outputs": [
    {
     "ename": "TypeError",
     "evalue": "get_random_limerick() missing 1 required positional argument: 'limericks'",
     "output_type": "error",
     "traceback": [
      "\u001b[0;31m---------------------------------------------------------------------------\u001b[0m",
      "\u001b[0;31mTypeError\u001b[0m                                 Traceback (most recent call last)",
      "\u001b[0;32m<ipython-input-44-7dc20ea3ea35>\u001b[0m in \u001b[0;36m<module>\u001b[0;34m\u001b[0m\n\u001b[0;32m----> 1\u001b[0;31m \u001b[0mget_random_limerick\u001b[0m\u001b[0;34m(\u001b[0m\u001b[0;34m)\u001b[0m\u001b[0;34m\u001b[0m\u001b[0m\n\u001b[0m",
      "\u001b[0;31mTypeError\u001b[0m: get_random_limerick() missing 1 required positional argument: 'limericks'"
     ]
    }
   ],
   "source": [
    "get_random_limerick()"
   ]
  },
  {
   "cell_type": "code",
   "execution_count": 40,
   "metadata": {},
   "outputs": [
    {
     "data": {
      "text/plain": [
       "[\"it's a term that i'm certain you've heard,\\n\",\n",
       " \"an occasion that's often occurred,\\n\",\n",
       " 'when a thought to amend\\n',\n",
       " 'is tacked onto the end.\\n',\n",
       " '...\\n']"
      ]
     },
     "execution_count": 40,
     "metadata": {},
     "output_type": "execute_result"
    }
   ],
   "source": [
    "limericks[2249]"
   ]
  },
  {
   "cell_type": "code",
   "execution_count": null,
   "metadata": {},
   "outputs": [],
   "source": []
  }
 ],
 "metadata": {
  "kernelspec": {
   "display_name": "Python 3",
   "language": "python",
   "name": "python3"
  },
  "language_info": {
   "codemirror_mode": {
    "name": "ipython",
    "version": 3
   },
   "file_extension": ".py",
   "mimetype": "text/x-python",
   "name": "python",
   "nbconvert_exporter": "python",
   "pygments_lexer": "ipython3",
   "version": "3.7.0"
  }
 },
 "nbformat": 4,
 "nbformat_minor": 4
}
