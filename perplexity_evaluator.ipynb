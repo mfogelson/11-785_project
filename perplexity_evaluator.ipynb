{
 "cells": [
  {
   "cell_type": "markdown",
   "metadata": {},
   "source": [
    "Sources\n",
    "https://stackoverflow.com/questions/54941966/how-can-i-calculate-perplexity-using-nltk/55043954"
   ]
  },
  {
   "cell_type": "code",
   "execution_count": 8,
   "metadata": {},
   "outputs": [
    {
     "name": "stdout",
     "output_type": "stream",
     "text": [
      "Collecting nltk\n",
      "\u001b[?25l  Downloading https://files.pythonhosted.org/packages/92/75/ce35194d8e3022203cca0d2f896dbb88689f9b3fce8e9f9cff942913519d/nltk-3.5.zip (1.4MB)\n",
      "\u001b[K    100% |████████████████████████████████| 1.4MB 8.1MB/s eta 0:00:01\n",
      "\u001b[?25hRequirement already satisfied: click in /Users/mitchfogelson/Jupyter/jupyter_env/lib/python3.7/site-packages (from nltk) (7.1.2)\n",
      "Requirement already satisfied: joblib in /Users/mitchfogelson/Jupyter/jupyter_env/lib/python3.7/site-packages (from nltk) (0.16.0)\n",
      "Collecting regex (from nltk)\n",
      "\u001b[?25l  Downloading https://files.pythonhosted.org/packages/1f/7c/6cfd40c3de64682cf9c7efae04607601db357e1eafbe0b96fbad7f60a505/regex-2020.11.11-cp37-cp37m-macosx_10_9_x86_64.whl (284kB)\n",
      "\u001b[K    100% |████████████████████████████████| 286kB 2.0MB/s ta 0:00:011\n",
      "\u001b[?25hRequirement already satisfied: tqdm in /Users/mitchfogelson/Jupyter/jupyter_env/lib/python3.7/site-packages (from nltk) (4.48.2)\n",
      "Building wheels for collected packages: nltk\n",
      "  Running setup.py bdist_wheel for nltk ... \u001b[?25ldone\n",
      "\u001b[?25h  Stored in directory: /Users/mitchfogelson/Library/Caches/pip/wheels/ae/8c/3f/b1fe0ba04555b08b57ab52ab7f86023639a526d8bc8d384306\n",
      "Successfully built nltk\n",
      "Installing collected packages: regex, nltk\n",
      "Successfully installed nltk-3.5 regex-2020.11.11\n",
      "\u001b[33mYou are using pip version 10.0.1, however version 20.3b1 is available.\n",
      "You should consider upgrading via the 'pip install --upgrade pip' command.\u001b[0m\n"
     ]
    }
   ],
   "source": [
    "!pip install nltk"
   ]
  },
  {
   "cell_type": "code",
   "execution_count": 61,
   "metadata": {},
   "outputs": [],
   "source": [
    "import numpy as np\n",
    "from nltk.tokenize import word_tokenize, WhitespaceTokenizer, TweetTokenizer\n",
    "from nltk.corpus import wordnet\n",
    "from nltk.lm import MLE, Vocabulary\n",
    "import re"
   ]
  },
  {
   "cell_type": "markdown",
   "metadata": {},
   "source": [
    "## Import samples"
   ]
  },
  {
   "cell_type": "code",
   "execution_count": 52,
   "metadata": {},
   "outputs": [],
   "source": [
    "path = './samples'\n",
    "file_name = '/sample_rhyme.txt'\n",
    "\n",
    "text = open(path+file_name, 'r')\n",
    "samples = []\n",
    "for line in text: \n",
    "    line = line.replace('\\n', '').split(' ')\n",
    "    if len(line)>2:\n",
    "        samples.append(line)\n",
    "\n",
    "two_gram = []\n",
    "for sample in samples: \n",
    "    two_gram += [tuple(sample[i:i+2]) for i in range(len(sample)-1)]\n",
    "    "
   ]
  },
  {
   "cell_type": "markdown",
   "metadata": {},
   "source": [
    "## Construct Vocabulary from Training Corpus"
   ]
  },
  {
   "cell_type": "code",
   "execution_count": 82,
   "metadata": {},
   "outputs": [],
   "source": [
    "path = './corpuses'\n",
    "file_name = '/rhyming_AA.txt'\n",
    "\n",
    "text = open(path+file_name, 'r')\n",
    "vocab = []\n",
    "for line in text:\n",
    "    line = line.replace('|$|', \" \")\n",
    "    line = line.replace('\\n', \"\")\n",
    "    vocab+=line.split(\" \")\n",
    "\n",
    "test_gram = []\n",
    "for i in range(len(vocab)-1):\n",
    "    test_gram += [tuple(vocab[i:i+2])]\n",
    "# samples = [line for line in text]"
   ]
  },
  {
   "cell_type": "code",
   "execution_count": 83,
   "metadata": {},
   "outputs": [
    {
     "data": {
      "text/plain": [
       "(\"cap'n\", 'jack')"
      ]
     },
     "execution_count": 83,
     "metadata": {},
     "output_type": "execute_result"
    }
   ],
   "source": [
    "test_gram[0]"
   ]
  },
  {
   "cell_type": "code",
   "execution_count": 62,
   "metadata": {},
   "outputs": [],
   "source": [
    "vocabulary = Vocabulary(vocab)"
   ]
  },
  {
   "cell_type": "code",
   "execution_count": 73,
   "metadata": {},
   "outputs": [
    {
     "data": {
      "text/plain": [
       "True"
      ]
     },
     "execution_count": 73,
     "metadata": {},
     "output_type": "execute_result"
    }
   ],
   "source": [
    "\"cap'n\" in vocabulary"
   ]
  },
  {
   "cell_type": "markdown",
   "metadata": {},
   "source": [
    "## Get Perplexity Score "
   ]
  },
  {
   "cell_type": "code",
   "execution_count": 85,
   "metadata": {},
   "outputs": [],
   "source": [
    "lm = MLE(1, vocabulary)"
   ]
  },
  {
   "cell_type": "code",
   "execution_count": 86,
   "metadata": {},
   "outputs": [
    {
     "data": {
      "text/plain": [
       "inf"
      ]
     },
     "execution_count": 86,
     "metadata": {},
     "output_type": "execute_result"
    }
   ],
   "source": [
    "lm.entropy(test_gram)"
   ]
  },
  {
   "cell_type": "code",
   "execution_count": null,
   "metadata": {},
   "outputs": [],
   "source": []
  }
 ],
 "metadata": {
  "kernelspec": {
   "display_name": "Python 3",
   "language": "python",
   "name": "python3"
  },
  "language_info": {
   "codemirror_mode": {
    "name": "ipython",
    "version": 3
   },
   "file_extension": ".py",
   "mimetype": "text/x-python",
   "name": "python",
   "nbconvert_exporter": "python",
   "pygments_lexer": "ipython3",
   "version": "3.7.0"
  }
 },
 "nbformat": 4,
 "nbformat_minor": 4
}
