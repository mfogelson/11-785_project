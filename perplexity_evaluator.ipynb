{
 "cells": [
  {
   "cell_type": "markdown",
   "metadata": {},
   "source": [
    "Sources\n",
    "https://stackoverflow.com/questions/54941966/how-can-i-calculate-perplexity-using-nltk/55043954"
   ]
  },
  {
   "cell_type": "code",
   "execution_count": 1,
   "metadata": {},
   "outputs": [],
   "source": [
    "import numpy as np\n",
    "from nltk.tokenize import word_tokenize, WhitespaceTokenizer, TweetTokenizer\n",
    "from nltk.corpus import wordnet, gutenberg\n",
    "from nltk.lm import MLE, Vocabulary\n",
    "import re"
   ]
  },
  {
   "cell_type": "markdown",
   "metadata": {},
   "source": [
    "## Import samples"
   ]
  },
  {
   "cell_type": "code",
   "execution_count": 40,
   "metadata": {},
   "outputs": [],
   "source": [
    "path = './samples'\n",
    "file_name = '/sample_rhyme.txt'\n",
    "\n",
    "text = open(path+file_name, 'r')\n",
    "samples = []\n",
    "for line in text: \n",
    "    line = line.replace('\\n', '')\n",
    "    if len(line)>2:\n",
    "        samples.append(line)\n",
    "\n",
    "two_gram = []\n",
    "for sample in samples: \n",
    "    two_gram += [tuple(sample[i:i+2]) for i in range(len(sample)-1)]\n",
    "    "
   ]
  },
  {
   "cell_type": "code",
   "execution_count": 41,
   "metadata": {},
   "outputs": [
    {
     "data": {
      "text/plain": [
       "['Everytime the sun rises to shine',\n",
       " 'I am reminded of you and the beautiful love of thine',\n",
       " 'Onward ye soldiers to the gate',\n",
       " 'For with the siege, I cannot be late',\n",
       " 'The city is truly mine']"
      ]
     },
     "execution_count": 41,
     "metadata": {},
     "output_type": "execute_result"
    }
   ],
   "source": [
    "samples"
   ]
  },
  {
   "cell_type": "markdown",
   "metadata": {},
   "source": [
    "## Construct Vocabulary from Training Corpus"
   ]
  },
  {
   "cell_type": "code",
   "execution_count": 37,
   "metadata": {},
   "outputs": [],
   "source": [
    "path = './corpuses'\n",
    "file_name = '/rhyming_AA.txt'\n",
    "\n",
    "text = open(path+file_name, 'r')\n",
    "vocab = []\n",
    "lines = []\n",
    "for line in text:\n",
    "    line = line.replace('|$|', \" \")\n",
    "    line = line.replace('\\n', \"\")\n",
    "    vocab+=line.split(\" \")\n",
    "    lines+= [line]\n",
    "\n",
    "\n",
    "test_gram = []\n",
    "for i in range(len(vocab)-1):\n",
    "    test_gram += [tuple(vocab[i:i+2])]\n",
    "# samples = [line for line in text]"
   ]
  },
  {
   "cell_type": "markdown",
   "metadata": {},
   "source": [
    "## Get Perplexity Score "
   ]
  },
  {
   "cell_type": "code",
   "execution_count": 44,
   "metadata": {},
   "outputs": [
    {
     "name": "stderr",
     "output_type": "stream",
     "text": [
      "[nltk_data] Downloading package punkt to\n",
      "[nltk_data]     /Users/mitchfogelson/nltk_data...\n",
      "[nltk_data]   Unzipping tokenizers/punkt.zip.\n"
     ]
    },
    {
     "data": {
      "text/plain": [
       "True"
      ]
     },
     "execution_count": 44,
     "metadata": {},
     "output_type": "execute_result"
    }
   ],
   "source": [
    "nltk.download('punkt')"
   ]
  },
  {
   "cell_type": "code",
   "execution_count": 45,
   "metadata": {},
   "outputs": [
    {
     "name": "stdout",
     "output_type": "stream",
     "text": [
      "MLE Estimates: [(('everytime', ()), 0.0), (('the', ()), 0.03522593482331155), (('sun', ()), 0.00018814987556352197), (('rises', ()), 1.5278992215135197e-05), (('to', ()), 0.01730280386968853), (('shine', ()), 4.365426347181484e-05)]\n",
      "MLE Estimates: [(('i', ()), 0.0202005738789476), (('am', ()), 0.0005941345258514), (('reminded', ()), 2.182713173590742e-06), (('of', ()), 0.012109256144446719), (('you', ()), 0.013024249506815959), (('and', ()), 0.018282405541996057), (('the', ()), 0.03522593482331155), (('beautiful', ()), 0.00011568379820030934), (('love', ()), 0.0005491706344754307), (('of', ()), 0.012109256144446719), (('thine', ()), 6.548139520772227e-06)]\n",
      "MLE Estimates: [(('onward', ()), 3.055798443027039e-06), (('ye', ()), 3.1867612334424836e-05), (('soldiers', ()), 4.496389137596929e-05), (('to', ()), 0.01730280386968853), (('the', ()), 0.03522593482331155), (('gate', ()), 3.710612395104262e-05)]\n",
      "MLE Estimates: [(('for', ()), 0.006645051985679655), (('with', ()), 0.007443488464579149), (('the', ()), 0.03522593482331155), (('siege', ()), 5.2385116166177815e-06), ((',', ()), 0.0), (('i', ()), 0.0202005738789476), (('can', ()), 0.002634971343158744), (('not', ()), 0.004085602518327151), (('be', ()), 0.003870823542045822), (('late', ()), 0.00020692120885640235)]\n",
      "MLE Estimates: [(('the', ()), 0.03522593482331155), (('city', ()), 0.00014624178263057973), (('is', ()), 0.009530598801166617), (('truly', ()), 0.00012223193772108157), (('mine', ()), 0.00018465753448577678)]\n",
      "PP(Everytime the sun rises to shine):inf\n",
      "PP(I am reminded of you and the beautiful love of thine):789.8140750424226\n",
      "PP(Onward ye soldiers to the gate):4649.142730100071\n",
      "PP(For with the siege, I cannot be late):inf\n",
      "PP(The city is truly mine):979.667761410258\n"
     ]
    }
   ],
   "source": [
    "import nltk\n",
    "from nltk.lm.preprocessing import padded_everygram_pipeline\n",
    "from nltk.lm import MLE\n",
    "\n",
    "train_sentences = lines\n",
    "tokenized_text = [list(map(str.lower, nltk.tokenize.word_tokenize(sent))) \n",
    "                for sent in train_sentences]\n",
    "n = 1\n",
    "train_data, padded_vocab = padded_everygram_pipeline(n, tokenized_text)\n",
    "model = MLE(n)\n",
    "model.fit(train_data, padded_vocab)\n",
    "\n",
    "test_sentences = samples\n",
    "tokenized_text = [list(map(str.lower, nltk.tokenize.word_tokenize(sent))) \n",
    "                for sent in test_sentences]\n",
    "\n",
    "test_data, _ = padded_everygram_pipeline(n, tokenized_text)\n",
    "for test in test_data:\n",
    "    print (\"MLE Estimates:\", [((ngram[-1], ngram[:-1]),model.score(ngram[-1], ngram[:-1])) for ngram in test])\n",
    "\n",
    "test_data, _ = padded_everygram_pipeline(n, tokenized_text)\n",
    "\n",
    "for i, test in enumerate(test_data):\n",
    "  print(\"PP({0}):{1}\".format(test_sentences[i], model.perplexity(test)))"
   ]
  },
  {
   "cell_type": "code",
   "execution_count": null,
   "metadata": {},
   "outputs": [],
   "source": []
  }
 ],
 "metadata": {
  "kernelspec": {
   "display_name": "Python 3",
   "language": "python",
   "name": "python3"
  },
  "language_info": {
   "codemirror_mode": {
    "name": "ipython",
    "version": 3
   },
   "file_extension": ".py",
   "mimetype": "text/x-python",
   "name": "python",
   "nbconvert_exporter": "python",
   "pygments_lexer": "ipython3",
   "version": "3.7.0"
  }
 },
 "nbformat": 4,
 "nbformat_minor": 4
}
