{
 "cells": [
  {
   "cell_type": "code",
   "execution_count": null,
   "metadata": {
    "id": "pKaRYKGOhs0q"
   },
   "outputs": [],
   "source": [
    "# Author: Tony Dong\n",
    "# Date: 11/09/2020"
   ]
  },
  {
   "cell_type": "markdown",
   "metadata": {
    "id": "6q0XL0SYimLr"
   },
   "source": [
    "# Environmental Setup"
   ]
  },
  {
   "cell_type": "code",
   "execution_count": null,
   "metadata": {
    "id": "ewyGkr7pipak"
   },
   "outputs": [],
   "source": [
    "!git clone https://github.com/huggingface/neuralcoref.git\n",
    "\n",
    "!pip install -U spacy\n",
    "!python -m spacy download en\n",
    "!pip install -r neuralcoref/requirements.txt\n",
    "!pip install -e neuralcoref/"
   ]
  },
  {
   "cell_type": "code",
   "execution_count": null,
   "metadata": {
    "id": "Jv1coZ19l_nK"
   },
   "outputs": [],
   "source": [
    "!pip uninstall spacy\n",
    "!pip install -U spacy"
   ]
  },
  {
   "cell_type": "code",
   "execution_count": 4,
   "metadata": {
    "id": "IPiPpLoFkeue"
   },
   "outputs": [],
   "source": [
    "import neuralcoref\n",
    "import spacy"
   ]
  },
  {
   "cell_type": "code",
   "execution_count": 238,
   "metadata": {
    "colab": {
     "base_uri": "https://localhost:8080/"
    },
    "id": "c6YbV34KnD_k",
    "outputId": "de0a7ab4-7e02-4d5d-ab76-366206de5849"
   },
   "outputs": [
    {
     "data": {
      "text/plain": [
       "<spacy.lang.en.English at 0x7fe753d630b8>"
      ]
     },
     "execution_count": 238,
     "metadata": {
      "tags": []
     },
     "output_type": "execute_result"
    }
   ],
   "source": [
    "nlp = spacy.load('en_core_web_sm')\n",
    "\n",
    "# Do not resolve 1st/2nd person pronouns\n",
    "neuralcoref.add_to_pipe(nlp, blacklist=True, greedyness=0.5)"
   ]
  },
  {
   "cell_type": "code",
   "execution_count": 239,
   "metadata": {
    "colab": {
     "base_uri": "https://localhost:8080/"
    },
    "id": "mIUjJftHjZJY",
    "outputId": "3c1c3543-9185-4f3c-c8e3-c5db3c87864c"
   },
   "outputs": [
    {
     "name": "stdout",
     "output_type": "stream",
     "text": [
      "[My sister: [My sister, She, her], a dog: [a dog, her dog]]\n",
      "My sister has a dog. My sister loves a dog.\n"
     ]
    }
   ],
   "source": [
    "# Example\n",
    "\n",
    "doc1 = nlp('My sister has a dog. She loves her dog.')\n",
    "print(doc1._.coref_clusters)\n",
    "print(doc1._.coref_resolved)"
   ]
  },
  {
   "cell_type": "markdown",
   "metadata": {
    "id": "F2qby4epixHT"
   },
   "source": [
    "# Function - read_poem_list"
   ]
  },
  {
   "cell_type": "code",
   "execution_count": 204,
   "metadata": {
    "colab": {
     "base_uri": "https://localhost:8080/"
    },
    "id": "2phYUTeoIpwN",
    "outputId": "440a6553-2b6f-4a58-c695-3e4c6f93ceda"
   },
   "outputs": [
    {
     "name": "stdout",
     "output_type": "stream",
     "text": [
      "[nltk_data] Downloading package punkt to /root/nltk_data...\n",
      "[nltk_data]   Package punkt is already up-to-date!\n"
     ]
    },
    {
     "data": {
      "text/plain": [
       "True"
      ]
     },
     "execution_count": 204,
     "metadata": {
      "tags": []
     },
     "output_type": "execute_result"
    }
   ],
   "source": [
    "import nltk\n",
    "nltk.download('punkt')"
   ]
  },
  {
   "cell_type": "code",
   "execution_count": 205,
   "metadata": {
    "id": "JBqwKqddofLh"
   },
   "outputs": [],
   "source": [
    "def read_poem_list(filepath):\n",
    "    with open(filepath, \"r\") as f:\n",
    "        text = f.read()\n",
    "    # Get rid of the \"SAMPLE N\"\n",
    "    poem_samples = text.split(\"\\n\", 1)\n",
    "    poem_samples = poem_samples[1].split(\"\\n<|endoftext|>\\n\")\n",
    "\n",
    "    # Split each line before tokenizing\n",
    "    poems = [poem.replace(\"|$|\", \"\\n\") for poem in poem_samples]\n",
    "    poems_lines = [poem.split(\"\\n\") for poem in poems]\n",
    "\n",
    "    poems_lines_tokens = [[nltk.word_tokenize(line) for line in poem] for poem in poems_lines]\n",
    "    poems = [\" \\n \".join([\" \".join(line) for line in poem]) for poem in poems_lines_tokens]\n",
    "\n",
    "    # Ensure that every token is surrounded by white spaces\n",
    "    poems = [(\" \" + poem.replace(\"``\", \"''\") + \" \") for poem in poems]\n",
    "    return poems"
   ]
  },
  {
   "cell_type": "code",
   "execution_count": 222,
   "metadata": {
    "colab": {
     "base_uri": "https://localhost:8080/"
    },
    "id": "QBAe4UhDpdx5",
    "outputId": "9a2c5458-339f-4046-c528-de23c60e1f7b"
   },
   "outputs": [
    {
     "name": "stdout",
     "output_type": "stream",
     "text": [
      " glue ? \n",
      " they 're an x in their groove see with ease \n",
      " the x 's a dixota \n",
      " if you 'll guess what has meant \n",
      "\n",
      " the blue of a cereal brew \n",
      " is not always a lot of forchy \n",
      " i can call it real blue \n",
      " or it 's blue just as '' blue '' \n",
      "\n",
      " when the blood pressure 's falling i think \n",
      " that the latter will soon cease to stink \n",
      " as i 'm feeling too good \n",
      " for the pressure on blood \n",
      "\n",
      " when a thing that 's essential is banned \n",
      " it 's confusing and not in demand \n",
      " it 's not even the facts \n",
      " it 's the '' bosom of fox '' \n",
      "\n",
      " that is nothing but being sarcastic \n",
      " you get angry and rage but beware a \n",
      " big bang ( not quite steady ) \n",
      " which is causing you anguish \n",
      "\n",
      " '' she 's a lady a no-no '' he said \n",
      " since some others would call up instead \n",
      " '' this is good '' i said '' no ! \n",
      " she sure stands in the buff ! '' \n",
      "\n",
      " as you sit drooping near the bedlamite \n",
      " please ignore looking up in a fright \n",
      " at misfortune you start ; \n",
      " it 's your own pan of heart \n",
      "\n",
      " '' i 'll be hugging and suck on the gas '' \n",
      " said my brother '' my lover is snug \n",
      " i can feel when he rages \n",
      " my spirit engages \n",
      "\n",
      " when we 're talking about the great stars \n",
      " the dark blue 's just the color of mars \n",
      " we are all looking real ; \n",
      " our life 's not so ideal ! \n",
      "\n",
      " there is something that 's more than a bind : \n",
      " i ca n't make it up ? i ca n't find \n",
      " some catastrophe ? some ? \n",
      " that is how my whole days \n",
      "\n",
      " in the highlands it 's quiet and still \n",
      " every autumn i 'm dressed in a swifer \n",
      " to go out is my goal \n",
      " so i stay in the hole \n",
      "\n",
      " the word donhope 's a symbol of war \n",
      " and when spoken in public before \n",
      " i just stared at the sky \n",
      " and felt terror half why ? \n",
      "\n",
      " when i 'm working as if on vacation \n",
      " i will have to be up a vacation \n",
      " of the building folks hold \n",
      " as they go out of gold : \n",
      "\n",
      " if there 's anything kinda or worse \n",
      " than the '' hurting-back '' of the nurse \n",
      " this is someone you love \n",
      " who procrastates joe 's glove ? \n",
      "\n",
      " the aecidiospore when we dwell \n",
      " in the air almost glowing ( the smell ) \n",
      " had a hearty delight \n",
      " as i swished on my flight \n",
      "\n",
      " a bigheaded surgeon named bert \n",
      " ( who has suffered quite pissed off your skirt ) \n",
      " is really quite nervous \n",
      " to try to unravel \n",
      "\n",
      " i have an ad hoculate claim \n",
      " that your lawyer will do as of old \n",
      " to say that i 'm wrong \n",
      " do n't take matters so long \n",
      "\n",
      " the word c is my friend from the start \n",
      " when i 'm having an absolute heart \n",
      " my status in truth \n",
      " is my very first youth \n",
      "\n",
      " our house has been filled with confusion \n",
      " we have now acquired the conclusion \n",
      " that we 're all in a bind \n",
      " but our marriage is blind \n",
      "\n",
      " our house 's a big car that was built \n",
      " as we 'd say this we know that we 've filled \n",
      " with all kinds of affairs \n",
      " and we have n't a chairs \n",
      "\n",
      " my baby 's got lots of appeal \n",
      " but my baby 's really a freak \n",
      " when he 's feeling so ill \n",
      " i 'm an out-of-work tool \n",
      "\n",
      " my mother is sick with sad love \n",
      " and i 'm really quite well-nigh above \n",
      " so i get on the scene \n",
      " as i 'm sorry she 's keen \n",
      "\n",
      " i 'm sorry my kid cousin died \n",
      " i am not really sure what he tried \n",
      " a most perilous feat \n",
      " has resulted ? died i n't \n",
      " < |endoftext| \n",
      "  \n",
      "\n"
     ]
    }
   ],
   "source": [
    "# Example\n",
    "\n",
    "pm = read_poem_list(\"run1/samples-90000\")\n",
    "# print(len(pm))\n",
    "# print(pm)\n",
    "for i in pm:\n",
    "    print(i)\n",
    "    print()"
   ]
  },
  {
   "cell_type": "markdown",
   "metadata": {
    "id": "Re3zEH_Vi8Ml"
   },
   "source": [
    "# Thoughts"
   ]
  },
  {
   "cell_type": "markdown",
   "metadata": {
    "id": "dT_7bPk-7doP"
   },
   "source": [
    "Problems:\n",
    "1. Not good at resolving 2nd person coreference\n",
    "2. Fewer coreference != Less coherent\n",
    "3. Formal subject \"it\" (How to solve???)\n",
    "4. Consider \"this\" \"that\" \"these\" \"those\" as pronouns?\n",
    "\n",
    "Scoring:\n",
    "\n",
    "**Range: $({-\\infty}, 0]$**\n",
    "1. More coreference occurences -> x\n",
    "2. More objects -> x\n",
    "3. **Pronouns without coreference -> As few as possible**\n",
    "\n",
    "Solutions:\n",
    "1. Use greedyness=1 to find all objects? -> x\n",
    "2. Manually resolve 2nd person pronouns? -> x\n",
    "3. **Remove all resolved coreferences, search the rest of the poem for any unresolved 3rd person pronouns**"
   ]
  },
  {
   "cell_type": "code",
   "execution_count": 223,
   "metadata": {
    "colab": {
     "base_uri": "https://localhost:8080/"
    },
    "id": "7DZAN41FrXkW",
    "outputId": "a8b078d2-5633-401c-9b9e-e016c5aed2b6"
   },
   "outputs": [
    {
     "name": "stdout",
     "output_type": "stream",
     "text": [
      "[they: [they, their]]\n",
      "[ the blue of a cereal brew \n",
      " : [ the blue of a cereal brew \n",
      " , it, it]]\n",
      "[]\n",
      "[it: [it, it]]\n",
      "[]\n",
      "[she: [she, she]]\n",
      "[]\n",
      "[my lover: [my lover, he]]\n",
      "[we: [we, our]]\n",
      "[]\n",
      "[]\n",
      "[]\n",
      "[a vacation \n",
      " of the building folks: [a vacation \n",
      " of the building folks, they]]\n",
      "[]\n",
      "[]\n",
      "[]\n",
      "[]\n",
      "[]\n",
      "[our: [our, we, we, our]]\n",
      "[our: [our, we, we, we, we ', we]]\n",
      "[ my baby: [ my baby, my baby, he]]\n",
      "[ my mother: [ my mother, she]]\n",
      "[my kid cousin: [my kid cousin, he]]\n"
     ]
    }
   ],
   "source": [
    "# Example\n",
    "\n",
    "poem_coref = [nlp(i) for i in pm]\n",
    "for i in poem_coref:\n",
    "    print(i._.coref_clusters)"
   ]
  },
  {
   "cell_type": "code",
   "execution_count": 208,
   "metadata": {
    "colab": {
     "base_uri": "https://localhost:8080/"
    },
    "id": "zxel1cqu65Sz",
    "outputId": "843b6794-9bb1-41f2-adfd-d170a6bfef16"
   },
   "outputs": [
    {
     "name": "stdout",
     "output_type": "stream",
     "text": [
      "[my kid cousin: [my kid cousin, he]]\n",
      "['my kid cousin', 'he']\n"
     ]
    }
   ],
   "source": [
    "# Example\n",
    "\n",
    "print(i._.coref_clusters)\n",
    "resolved = []\n",
    "for j in i._.coref_clusters:\n",
    "    resolved += [j.mentions[k].text for k in range(len(j.mentions))]\n",
    "print(resolved)"
   ]
  },
  {
   "cell_type": "markdown",
   "metadata": {
    "id": "0yAZl_EIjHww"
   },
   "source": [
    "# Function - coref_score"
   ]
  },
  {
   "cell_type": "code",
   "execution_count": 209,
   "metadata": {
    "id": "6mBu_sT1cw_2"
   },
   "outputs": [],
   "source": [
    "import re"
   ]
  },
  {
   "cell_type": "code",
   "execution_count": 240,
   "metadata": {
    "id": "-gc4lGZ-T2Fy"
   },
   "outputs": [],
   "source": [
    "def coref_score(poem):\n",
    "    origin_poem = poem\n",
    "    resolved = []\n",
    "    poem_coref = nlp(poem)\n",
    "    for i in poem_coref._.coref_clusters:\n",
    "        resolved += [i.mentions[j].text for j in range(len(i.mentions))]\n",
    "    resolved = [(\" \" + token + \" \") for token in resolved]\n",
    "\n",
    "    # Remove resolved coreference\n",
    "    for k in resolved:\n",
    "        poem = poem.replace(k, \" \", 1)\n",
    "    \n",
    "    # Regex pattern matching with lookahead\n",
    "    # All 3rd person pronouns\n",
    "    pronoun_3p = r'(?=(( he )|( him )|( his )|( himself )|( she )|( her )|( hers )|( herself )|( it )|( its )|( itself )|( they )|( them )|( their )|( theirs )|( themself )|( themselves )))'\n",
    "\n",
    "    # Find remaining unresolved 3rd person pronouns\n",
    "    matches_3p = re.findall(pronoun_3p, poem)\n",
    "\n",
    "\n",
    "    # Non-positive score, maximum at 0\n",
    "    score = -len(matches_3p)\n",
    "\n",
    "    if (VERBOSE):\n",
    "        if score < 0:\n",
    "            for n in matches_3p:\n",
    "                print(n[0])\n",
    "            print(origin_poem)\n",
    "            print(poem)\n",
    "\n",
    "    return score"
   ]
  },
  {
   "cell_type": "markdown",
   "metadata": {
    "id": "2U9YuG4aj4jy"
   },
   "source": [
    "# Function - test_coref"
   ]
  },
  {
   "cell_type": "code",
   "execution_count": 245,
   "metadata": {
    "id": "qfNYXBo_UE3s"
   },
   "outputs": [],
   "source": [
    "def test_coref(filepath):\n",
    "    poems = read_poem_list(filepath)\n",
    "    for pi, p in enumerate(poems):\n",
    "        print(\"# ({})\".format(pi), end=\"\\t\")\n",
    "        print(\"Coref score = {}\".format(coref_score(p)))"
   ]
  },
  {
   "cell_type": "code",
   "execution_count": 246,
   "metadata": {
    "colab": {
     "base_uri": "https://localhost:8080/"
    },
    "id": "Fg-1aiL5VJx4",
    "outputId": "a8df4fbb-8efa-4da7-9e04-904966ba5a79"
   },
   "outputs": [
    {
     "name": "stdout",
     "output_type": "stream",
     "text": [
      "# (0)\tCoref score = 0\n",
      "# (1)\tCoref score = 0\n",
      "# (2)\tCoref score = 0\n",
      "# (3)\tCoref score = -1\n",
      "# (4)\tCoref score = 0\n",
      "# (5)\tCoref score = -1\n",
      "# (6)\tCoref score = -1\n",
      "# (7)\tCoref score = 0\n",
      "# (8)\tCoref score = 0\n",
      "# (9)\tCoref score = -1\n",
      "# (10)\tCoref score = -1\n",
      "# (11)\tCoref score = 0\n",
      "# (12)\tCoref score = 0\n",
      "# (13)\tCoref score = 0\n",
      "# (14)\tCoref score = 0\n",
      "# (15)\tCoref score = 0\n",
      "# (16)\tCoref score = 0\n",
      "# (17)\tCoref score = 0\n",
      "# (18)\tCoref score = 0\n",
      "# (19)\tCoref score = 0\n",
      "# (20)\tCoref score = 0\n",
      "# (21)\tCoref score = 0\n",
      "# (22)\tCoref score = 0\n"
     ]
    }
   ],
   "source": [
    "# Example\n",
    "\n",
    "VERBOSE = False\n",
    "test_coref(\"run1/samples-90000\")"
   ]
  },
  {
   "cell_type": "code",
   "execution_count": 247,
   "metadata": {
    "colab": {
     "base_uri": "https://localhost:8080/"
    },
    "id": "w6BeyjuFknux",
    "outputId": "90576134-04c7-4006-d6ba-881034bc6f34"
   },
   "outputs": [
    {
     "name": "stdout",
     "output_type": "stream",
     "text": [
      "# (0)\tCoref score = 0\n",
      "# (1)\tCoref score = 0\n",
      "# (2)\tCoref score = 0\n",
      "# (3)\t it \n",
      " when a thing that 's essential is banned \n",
      " it 's confusing and not in demand \n",
      " it 's not even the facts \n",
      " it 's the '' bosom of fox '' \n",
      " when a thing that 's essential is banned \n",
      " 's confusing and not in demand \n",
      " 's not even the facts \n",
      " it 's the '' bosom of fox '' \n",
      "Coref score = -1\n",
      "# (4)\tCoref score = 0\n",
      "# (5)\t he \n",
      " '' she 's a lady a no-no '' he said \n",
      " since some others would call up instead \n",
      " '' this is good '' i said '' no ! \n",
      " she sure stands in the buff ! '' \n",
      " '' 's a lady a no-no '' he said \n",
      " since some others would call up instead \n",
      " '' this is good '' i said '' no ! \n",
      " sure stands in the buff ! '' \n",
      "Coref score = -1\n",
      "# (6)\t it \n",
      " as you sit drooping near the bedlamite \n",
      " please ignore looking up in a fright \n",
      " at misfortune you start ; \n",
      " it 's your own pan of heart \n",
      " as you sit drooping near the bedlamite \n",
      " please ignore looking up in a fright \n",
      " at misfortune you start ; \n",
      " it 's your own pan of heart \n",
      "Coref score = -1\n",
      "# (7)\tCoref score = 0\n",
      "# (8)\tCoref score = 0\n",
      "# (9)\t it \n",
      " there is something that 's more than a bind : \n",
      " i ca n't make it up ? i ca n't find \n",
      " some catastrophe ? some ? \n",
      " that is how my whole days \n",
      " there is something that 's more than a bind : \n",
      " i ca n't make it up ? i ca n't find \n",
      " some catastrophe ? some ? \n",
      " that is how my whole days \n",
      "Coref score = -1\n",
      "# (10)\t it \n",
      " in the highlands it 's quiet and still \n",
      " every autumn i 'm dressed in a swifer \n",
      " to go out is my goal \n",
      " so i stay in the hole \n",
      " in the highlands it 's quiet and still \n",
      " every autumn i 'm dressed in a swifer \n",
      " to go out is my goal \n",
      " so i stay in the hole \n",
      "Coref score = -1\n",
      "# (11)\tCoref score = 0\n",
      "# (12)\tCoref score = 0\n",
      "# (13)\tCoref score = 0\n",
      "# (14)\tCoref score = 0\n",
      "# (15)\tCoref score = 0\n",
      "# (16)\tCoref score = 0\n",
      "# (17)\tCoref score = 0\n",
      "# (18)\tCoref score = 0\n",
      "# (19)\tCoref score = 0\n",
      "# (20)\tCoref score = 0\n",
      "# (21)\tCoref score = 0\n",
      "# (22)\tCoref score = 0\n"
     ]
    }
   ],
   "source": [
    "# Example\n",
    "\n",
    "VERBOSE = True\n",
    "test_coref(\"run1/samples-90000\")"
   ]
  },
  {
   "cell_type": "markdown",
   "metadata": {
    "id": "n1Qz9BxklMM9"
   },
   "source": [
    "# Summary"
   ]
  },
  {
   "cell_type": "markdown",
   "metadata": {
    "id": "pO_rd0t-idp1"
   },
   "source": [
    "Remaining problems:\n",
    "3. Formal subject \"it\" (How to solve???)\n",
    "4. Consider \"this\" \"that\" \"these\" \"those\" as pronouns?\n",
    "\n",
    "Possible Solutions:\n",
    "- Assign different penalty for different pronouns?\n",
    "(Ex: \"it\" -0.2, \"he\"/\"she\"/\"they\" -1.0, \"these\" -0.5, etc.)\n",
    "(How to estimate these values from language model probabilities?)"
   ]
  }
 ],
 "metadata": {
  "colab": {
   "collapsed_sections": [],
   "name": "coref.ipynb",
   "provenance": []
  },
  "kernelspec": {
   "display_name": "Python 3",
   "language": "python",
   "name": "python3"
  },
  "language_info": {
   "codemirror_mode": {
    "name": "ipython",
    "version": 3
   },
   "file_extension": ".py",
   "mimetype": "text/x-python",
   "name": "python",
   "nbconvert_exporter": "python",
   "pygments_lexer": "ipython3",
   "version": "3.7.4"
  }
 },
 "nbformat": 4,
 "nbformat_minor": 1
}
