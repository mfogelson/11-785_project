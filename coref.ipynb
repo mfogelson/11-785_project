{
 "cells": [
  {
   "cell_type": "code",
   "execution_count": null,
   "metadata": {
    "id": "pKaRYKGOhs0q"
   },
   "outputs": [],
   "source": [
    "# Author: Tony Dong\n",
    "# Date: 11/09/2020"
   ]
  },
  {
   "cell_type": "markdown",
   "metadata": {
    "id": "6q0XL0SYimLr"
   },
   "source": [
    "# Environmental Setup"
   ]
  },
  {
   "cell_type": "code",
   "execution_count": 2,
   "metadata": {
    "id": "ewyGkr7pipak"
   },
   "outputs": [
    {
     "name": "stdout",
     "output_type": "stream",
     "text": [
      "Cloning into 'neuralcoref'...\n",
      "remote: Enumerating objects: 5, done.\u001b[K\n",
      "remote: Counting objects: 100% (5/5), done.\u001b[K\n",
      "remote: Compressing objects: 100% (4/4), done.\u001b[K\n",
      "remote: Total 753 (delta 1), reused 2 (delta 0), pack-reused 748\u001b[K\n",
      "Receiving objects: 100% (753/753), 67.82 MiB | 5.26 MiB/s, done.\n",
      "Resolving deltas: 100% (398/398), done.\n",
      "Collecting spacy\n",
      "\u001b[?25l  Downloading https://files.pythonhosted.org/packages/1c/0f/03d7157ca281acb470d83ac44d088f73916df996ce2189ed2e5b96ef352d/spacy-2.3.4-cp37-cp37m-macosx_10_9_x86_64.whl (10.2MB)\n",
      "\u001b[K    100% |████████████████████████████████| 10.2MB 1.1MB/s ta 0:00:011   28% |█████████▏                      | 2.9MB 16.6MB/s eta 0:00:01\n",
      "\u001b[?25hCollecting preshed<3.1.0,>=3.0.2 (from spacy)\n",
      "\u001b[?25l  Downloading https://files.pythonhosted.org/packages/76/09/dd849226659b0bcab2fe91a31059dacb659feb53baa93d91a0e959463306/preshed-3.0.4-cp37-cp37m-macosx_10_9_x86_64.whl (262kB)\n",
      "\u001b[K    100% |████████████████████████████████| 266kB 5.3MB/s eta 0:00:01\n",
      "\u001b[?25hCollecting srsly<1.1.0,>=1.0.2 (from spacy)\n",
      "\u001b[?25l  Downloading https://files.pythonhosted.org/packages/06/c1/06d598af404bcecd1d6ab865181034e28831e67488a3afb7f68a1174afd6/srsly-1.0.4-cp37-cp37m-macosx_10_9_x86_64.whl (286kB)\n",
      "\u001b[K    100% |████████████████████████████████| 286kB 13.3MB/s ta 0:00:01\n",
      "\u001b[?25hCollecting murmurhash<1.1.0,>=0.28.0 (from spacy)\n",
      "  Downloading https://files.pythonhosted.org/packages/c7/70/4988d97f86f512064cfe3739327443497ca59903ed5bc77bae44dbb23a98/murmurhash-1.0.4-cp37-cp37m-macosx_10_9_x86_64.whl\n",
      "Collecting thinc<7.5.0,>=7.4.1 (from spacy)\n",
      "\u001b[?25l  Downloading https://files.pythonhosted.org/packages/1e/fd/6af0aa300c310d08f7f3852c2cbf8995ac2b3f5b2a77c33d69404f4d3257/thinc-7.4.3-cp37-cp37m-macosx_10_9_x86_64.whl (968kB)\n",
      "\u001b[K    100% |████████████████████████████████| 972kB 4.6MB/s ta 0:00:011\n",
      "\u001b[?25hCollecting plac<1.2.0,>=0.9.6 (from spacy)\n",
      "  Downloading https://files.pythonhosted.org/packages/86/85/40b8f66c2dd8f4fd9f09d59b22720cffecf1331e788b8a0cab5bafb353d1/plac-1.1.3-py2.py3-none-any.whl\n",
      "Requirement not upgraded as not directly required: numpy>=1.15.0 in /Users/mitchfogelson/Jupyter/jupyter_env/lib/python3.7/site-packages (from spacy) (1.18.1)\n",
      "Collecting catalogue<1.1.0,>=0.0.7 (from spacy)\n",
      "  Downloading https://files.pythonhosted.org/packages/6c/f9/9a5658e2f56932e41eb264941f9a2cb7f3ce41a80cb36b2af6ab78e2f8af/catalogue-1.0.0-py2.py3-none-any.whl\n",
      "Requirement not upgraded as not directly required: tqdm<5.0.0,>=4.38.0 in /Users/mitchfogelson/Jupyter/jupyter_env/lib/python3.7/site-packages (from spacy) (4.48.2)\n",
      "Requirement not upgraded as not directly required: requests<3.0.0,>=2.13.0 in /Users/mitchfogelson/Jupyter/jupyter_env/lib/python3.7/site-packages (from spacy) (2.24.0)\n",
      "Collecting cymem<2.1.0,>=2.0.2 (from spacy)\n",
      "  Downloading https://files.pythonhosted.org/packages/4b/6c/9112bc14037d4bb8f7bdfc1c2dcef070e7310a81746c23e6086e83c54373/cymem-2.0.4-cp37-cp37m-macosx_10_9_x86_64.whl\n",
      "Collecting wasabi<1.1.0,>=0.4.0 (from spacy)\n",
      "  Downloading https://files.pythonhosted.org/packages/1b/10/55f3cf6b52cc89107b3e1b88fcf39719392b377a3d78ca61da85934d0d10/wasabi-0.8.0-py3-none-any.whl\n",
      "Collecting blis<0.8.0,>=0.4.0; python_version >= \"3.6\" (from spacy)\n",
      "\u001b[?25l  Downloading https://files.pythonhosted.org/packages/43/62/36b3894ae5f0eba562fc7e7f1a00e84d823b1f413de69c694c363e6c01a3/blis-0.7.3-cp37-cp37m-macosx_10_9_x86_64.whl (5.8MB)\n",
      "\u001b[K    100% |████████████████████████████████| 5.8MB 3.3MB/s eta 0:00:01\n",
      "\u001b[?25hRequirement not upgraded as not directly required: setuptools in /Users/mitchfogelson/Jupyter/jupyter_env/lib/python3.7/site-packages (from spacy) (50.1.0)\n",
      "Requirement not upgraded as not directly required: importlib-metadata>=0.20; python_version < \"3.8\" in /Users/mitchfogelson/Jupyter/jupyter_env/lib/python3.7/site-packages (from catalogue<1.1.0,>=0.0.7->spacy) (1.7.0)\n",
      "Requirement not upgraded as not directly required: chardet<4,>=3.0.2 in /Users/mitchfogelson/Jupyter/jupyter_env/lib/python3.7/site-packages (from requests<3.0.0,>=2.13.0->spacy) (3.0.4)\n",
      "Requirement not upgraded as not directly required: certifi>=2017.4.17 in /Users/mitchfogelson/Jupyter/jupyter_env/lib/python3.7/site-packages (from requests<3.0.0,>=2.13.0->spacy) (2020.6.20)\n",
      "Requirement not upgraded as not directly required: idna<3,>=2.5 in /Users/mitchfogelson/Jupyter/jupyter_env/lib/python3.7/site-packages (from requests<3.0.0,>=2.13.0->spacy) (2.10)\n",
      "Requirement not upgraded as not directly required: urllib3!=1.25.0,!=1.25.1,<1.26,>=1.21.1 in /Users/mitchfogelson/Jupyter/jupyter_env/lib/python3.7/site-packages (from requests<3.0.0,>=2.13.0->spacy) (1.25.11)\n",
      "Requirement not upgraded as not directly required: zipp>=0.5 in /Users/mitchfogelson/Jupyter/jupyter_env/lib/python3.7/site-packages (from importlib-metadata>=0.20; python_version < \"3.8\"->catalogue<1.1.0,>=0.0.7->spacy) (3.1.0)\n",
      "\u001b[31mkaggle 1.5.8 has requirement urllib3<1.25,>=1.21.1, but you'll have urllib3 1.25.11 which is incompatible.\u001b[0m\n",
      "Installing collected packages: murmurhash, cymem, preshed, srsly, plac, catalogue, wasabi, blis, thinc, spacy\n",
      "Successfully installed blis-0.7.3 catalogue-1.0.0 cymem-2.0.4 murmurhash-1.0.4 plac-1.1.3 preshed-3.0.4 spacy-2.3.4 srsly-1.0.4 thinc-7.4.3 wasabi-0.8.0\n",
      "\u001b[33mYou are using pip version 10.0.1, however version 20.3.1 is available.\n",
      "You should consider upgrading via the 'pip install --upgrade pip' command.\u001b[0m\n",
      "Collecting en_core_web_sm==2.3.1 from https://github.com/explosion/spacy-models/releases/download/en_core_web_sm-2.3.1/en_core_web_sm-2.3.1.tar.gz#egg=en_core_web_sm==2.3.1\n",
      "\u001b[?25l  Downloading https://github.com/explosion/spacy-models/releases/download/en_core_web_sm-2.3.1/en_core_web_sm-2.3.1.tar.gz (12.0MB)\n",
      "\u001b[K    100% |████████████████████████████████| 12.1MB 5.5MB/s ta 0:00:011   68% |█████████████████████▉          | 8.2MB 7.6MB/s eta 0:00:01\n",
      "\u001b[?25hRequirement already satisfied: spacy<2.4.0,>=2.3.0 in /Users/mitchfogelson/Jupyter/jupyter_env/lib/python3.7/site-packages (from en_core_web_sm==2.3.1) (2.3.4)\n",
      "Requirement already satisfied: murmurhash<1.1.0,>=0.28.0 in /Users/mitchfogelson/Jupyter/jupyter_env/lib/python3.7/site-packages (from spacy<2.4.0,>=2.3.0->en_core_web_sm==2.3.1) (1.0.4)\n",
      "Requirement already satisfied: wasabi<1.1.0,>=0.4.0 in /Users/mitchfogelson/Jupyter/jupyter_env/lib/python3.7/site-packages (from spacy<2.4.0,>=2.3.0->en_core_web_sm==2.3.1) (0.8.0)\n",
      "Requirement already satisfied: srsly<1.1.0,>=1.0.2 in /Users/mitchfogelson/Jupyter/jupyter_env/lib/python3.7/site-packages (from spacy<2.4.0,>=2.3.0->en_core_web_sm==2.3.1) (1.0.4)\n",
      "Requirement already satisfied: thinc<7.5.0,>=7.4.1 in /Users/mitchfogelson/Jupyter/jupyter_env/lib/python3.7/site-packages (from spacy<2.4.0,>=2.3.0->en_core_web_sm==2.3.1) (7.4.3)\n",
      "Requirement already satisfied: setuptools in /Users/mitchfogelson/Jupyter/jupyter_env/lib/python3.7/site-packages (from spacy<2.4.0,>=2.3.0->en_core_web_sm==2.3.1) (50.1.0)\n",
      "Requirement already satisfied: numpy>=1.15.0 in /Users/mitchfogelson/Jupyter/jupyter_env/lib/python3.7/site-packages (from spacy<2.4.0,>=2.3.0->en_core_web_sm==2.3.1) (1.18.1)\n",
      "Requirement already satisfied: plac<1.2.0,>=0.9.6 in /Users/mitchfogelson/Jupyter/jupyter_env/lib/python3.7/site-packages (from spacy<2.4.0,>=2.3.0->en_core_web_sm==2.3.1) (1.1.3)\n",
      "Requirement already satisfied: requests<3.0.0,>=2.13.0 in /Users/mitchfogelson/Jupyter/jupyter_env/lib/python3.7/site-packages (from spacy<2.4.0,>=2.3.0->en_core_web_sm==2.3.1) (2.24.0)\n",
      "Requirement already satisfied: catalogue<1.1.0,>=0.0.7 in /Users/mitchfogelson/Jupyter/jupyter_env/lib/python3.7/site-packages (from spacy<2.4.0,>=2.3.0->en_core_web_sm==2.3.1) (1.0.0)\n",
      "Requirement already satisfied: blis<0.8.0,>=0.4.0; python_version >= \"3.6\" in /Users/mitchfogelson/Jupyter/jupyter_env/lib/python3.7/site-packages (from spacy<2.4.0,>=2.3.0->en_core_web_sm==2.3.1) (0.7.3)\n",
      "Requirement already satisfied: cymem<2.1.0,>=2.0.2 in /Users/mitchfogelson/Jupyter/jupyter_env/lib/python3.7/site-packages (from spacy<2.4.0,>=2.3.0->en_core_web_sm==2.3.1) (2.0.4)\n",
      "Requirement already satisfied: preshed<3.1.0,>=3.0.2 in /Users/mitchfogelson/Jupyter/jupyter_env/lib/python3.7/site-packages (from spacy<2.4.0,>=2.3.0->en_core_web_sm==2.3.1) (3.0.4)\n",
      "Requirement already satisfied: tqdm<5.0.0,>=4.38.0 in /Users/mitchfogelson/Jupyter/jupyter_env/lib/python3.7/site-packages (from spacy<2.4.0,>=2.3.0->en_core_web_sm==2.3.1) (4.48.2)\n"
     ]
    },
    {
     "name": "stdout",
     "output_type": "stream",
     "text": [
      "Requirement already satisfied: urllib3!=1.25.0,!=1.25.1,<1.26,>=1.21.1 in /Users/mitchfogelson/Jupyter/jupyter_env/lib/python3.7/site-packages (from requests<3.0.0,>=2.13.0->spacy<2.4.0,>=2.3.0->en_core_web_sm==2.3.1) (1.25.11)\n",
      "Requirement already satisfied: idna<3,>=2.5 in /Users/mitchfogelson/Jupyter/jupyter_env/lib/python3.7/site-packages (from requests<3.0.0,>=2.13.0->spacy<2.4.0,>=2.3.0->en_core_web_sm==2.3.1) (2.10)\n",
      "Requirement already satisfied: chardet<4,>=3.0.2 in /Users/mitchfogelson/Jupyter/jupyter_env/lib/python3.7/site-packages (from requests<3.0.0,>=2.13.0->spacy<2.4.0,>=2.3.0->en_core_web_sm==2.3.1) (3.0.4)\n",
      "Requirement already satisfied: certifi>=2017.4.17 in /Users/mitchfogelson/Jupyter/jupyter_env/lib/python3.7/site-packages (from requests<3.0.0,>=2.13.0->spacy<2.4.0,>=2.3.0->en_core_web_sm==2.3.1) (2020.6.20)\n",
      "Requirement already satisfied: importlib-metadata>=0.20; python_version < \"3.8\" in /Users/mitchfogelson/Jupyter/jupyter_env/lib/python3.7/site-packages (from catalogue<1.1.0,>=0.0.7->spacy<2.4.0,>=2.3.0->en_core_web_sm==2.3.1) (1.7.0)\n",
      "Requirement already satisfied: zipp>=0.5 in /Users/mitchfogelson/Jupyter/jupyter_env/lib/python3.7/site-packages (from importlib-metadata>=0.20; python_version < \"3.8\"->catalogue<1.1.0,>=0.0.7->spacy<2.4.0,>=2.3.0->en_core_web_sm==2.3.1) (3.1.0)\n",
      "\u001b[31mkaggle 1.5.8 has requirement urllib3<1.25,>=1.21.1, but you'll have urllib3 1.25.11 which is incompatible.\u001b[0m\n",
      "Installing collected packages: en-core-web-sm\n",
      "  Running setup.py install for en-core-web-sm ... \u001b[?25ldone\n",
      "\u001b[?25hSuccessfully installed en-core-web-sm-2.3.1\n",
      "\u001b[33mYou are using pip version 10.0.1, however version 20.3.1 is available.\n",
      "You should consider upgrading via the 'pip install --upgrade pip' command.\u001b[0m\n",
      "\u001b[38;5;2m✔ Download and installation successful\u001b[0m\n",
      "You can now load the model via spacy.load('en_core_web_sm')\n",
      "\u001b[38;5;2m✔ Linking successful\u001b[0m\n",
      "/Users/mitchfogelson/Jupyter/jupyter_env/lib/python3.7/site-packages/en_core_web_sm\n",
      "-->\n",
      "/Users/mitchfogelson/Jupyter/jupyter_env/lib/python3.7/site-packages/spacy/data/en\n",
      "You can now load the model via spacy.load('en')\n",
      "Requirement already satisfied: spacy<3.0.0,>=2.1.0 in /Users/mitchfogelson/Jupyter/jupyter_env/lib/python3.7/site-packages (from -r neuralcoref/requirements.txt (line 1)) (2.3.4)\n",
      "Collecting cython>=0.25 (from -r neuralcoref/requirements.txt (line 2))\n",
      "\u001b[?25l  Downloading https://files.pythonhosted.org/packages/2b/4d/899fb0967be8b02bdbc47f892b48f576f9c2d28f7d49710bcecf9ed1c705/Cython-0.29.21-cp37-cp37m-macosx_10_9_x86_64.whl (1.9MB)\n",
      "\u001b[K    100% |████████████████████████████████| 1.9MB 4.7MB/s ta 0:00:011\n",
      "\u001b[?25hCollecting pytest (from -r neuralcoref/requirements.txt (line 3))\n",
      "\u001b[?25l  Downloading https://files.pythonhosted.org/packages/b1/ee/53945d50284906adb1e613fabf2e1b8b25926e8676854bb25b93564c0ce7/pytest-6.1.2-py3-none-any.whl (272kB)\n",
      "\u001b[K    100% |████████████████████████████████| 276kB 7.8MB/s ta 0:00:011\n",
      "\u001b[?25hRequirement already satisfied: thinc<7.5.0,>=7.4.1 in /Users/mitchfogelson/Jupyter/jupyter_env/lib/python3.7/site-packages (from spacy<3.0.0,>=2.1.0->-r neuralcoref/requirements.txt (line 1)) (7.4.3)\n",
      "Requirement already satisfied: blis<0.8.0,>=0.4.0; python_version >= \"3.6\" in /Users/mitchfogelson/Jupyter/jupyter_env/lib/python3.7/site-packages (from spacy<3.0.0,>=2.1.0->-r neuralcoref/requirements.txt (line 1)) (0.7.3)\n",
      "Requirement already satisfied: setuptools in /Users/mitchfogelson/Jupyter/jupyter_env/lib/python3.7/site-packages (from spacy<3.0.0,>=2.1.0->-r neuralcoref/requirements.txt (line 1)) (50.1.0)\n",
      "Requirement already satisfied: cymem<2.1.0,>=2.0.2 in /Users/mitchfogelson/Jupyter/jupyter_env/lib/python3.7/site-packages (from spacy<3.0.0,>=2.1.0->-r neuralcoref/requirements.txt (line 1)) (2.0.4)\n",
      "Requirement already satisfied: srsly<1.1.0,>=1.0.2 in /Users/mitchfogelson/Jupyter/jupyter_env/lib/python3.7/site-packages (from spacy<3.0.0,>=2.1.0->-r neuralcoref/requirements.txt (line 1)) (1.0.4)\n",
      "Requirement already satisfied: wasabi<1.1.0,>=0.4.0 in /Users/mitchfogelson/Jupyter/jupyter_env/lib/python3.7/site-packages (from spacy<3.0.0,>=2.1.0->-r neuralcoref/requirements.txt (line 1)) (0.8.0)\n",
      "Requirement already satisfied: numpy>=1.15.0 in /Users/mitchfogelson/Jupyter/jupyter_env/lib/python3.7/site-packages (from spacy<3.0.0,>=2.1.0->-r neuralcoref/requirements.txt (line 1)) (1.18.1)\n",
      "Requirement already satisfied: catalogue<1.1.0,>=0.0.7 in /Users/mitchfogelson/Jupyter/jupyter_env/lib/python3.7/site-packages (from spacy<3.0.0,>=2.1.0->-r neuralcoref/requirements.txt (line 1)) (1.0.0)\n",
      "Requirement already satisfied: plac<1.2.0,>=0.9.6 in /Users/mitchfogelson/Jupyter/jupyter_env/lib/python3.7/site-packages (from spacy<3.0.0,>=2.1.0->-r neuralcoref/requirements.txt (line 1)) (1.1.3)\n",
      "Requirement already satisfied: requests<3.0.0,>=2.13.0 in /Users/mitchfogelson/Jupyter/jupyter_env/lib/python3.7/site-packages (from spacy<3.0.0,>=2.1.0->-r neuralcoref/requirements.txt (line 1)) (2.24.0)\n",
      "Requirement already satisfied: tqdm<5.0.0,>=4.38.0 in /Users/mitchfogelson/Jupyter/jupyter_env/lib/python3.7/site-packages (from spacy<3.0.0,>=2.1.0->-r neuralcoref/requirements.txt (line 1)) (4.48.2)\n",
      "Requirement already satisfied: preshed<3.1.0,>=3.0.2 in /Users/mitchfogelson/Jupyter/jupyter_env/lib/python3.7/site-packages (from spacy<3.0.0,>=2.1.0->-r neuralcoref/requirements.txt (line 1)) (3.0.4)\n",
      "Requirement already satisfied: murmurhash<1.1.0,>=0.28.0 in /Users/mitchfogelson/Jupyter/jupyter_env/lib/python3.7/site-packages (from spacy<3.0.0,>=2.1.0->-r neuralcoref/requirements.txt (line 1)) (1.0.4)\n",
      "Collecting py>=1.8.2 (from pytest->-r neuralcoref/requirements.txt (line 3))\n",
      "\u001b[?25l  Downloading https://files.pythonhosted.org/packages/68/0f/41a43535b52a81e4f29e420a151032d26f08b62206840c48d14b70e53376/py-1.9.0-py2.py3-none-any.whl (99kB)\n",
      "\u001b[K    100% |████████████████████████████████| 102kB 4.9MB/s a 0:00:011\n",
      "\u001b[?25hRequirement already satisfied: attrs>=17.4.0 in /Users/mitchfogelson/Jupyter/jupyter_env/lib/python3.7/site-packages (from pytest->-r neuralcoref/requirements.txt (line 3)) (20.1.0)\n",
      "Requirement already satisfied: toml in /Users/mitchfogelson/Jupyter/jupyter_env/lib/python3.7/site-packages (from pytest->-r neuralcoref/requirements.txt (line 3)) (0.10.2)\n",
      "Requirement already satisfied: packaging in /Users/mitchfogelson/Jupyter/jupyter_env/lib/python3.7/site-packages (from pytest->-r neuralcoref/requirements.txt (line 3)) (20.4)\n",
      "Collecting pluggy<1.0,>=0.12 (from pytest->-r neuralcoref/requirements.txt (line 3))\n",
      "  Downloading https://files.pythonhosted.org/packages/a0/28/85c7aa31b80d150b772fbe4a229487bc6644da9ccb7e427dd8cc60cb8a62/pluggy-0.13.1-py2.py3-none-any.whl\n",
      "Collecting iniconfig (from pytest->-r neuralcoref/requirements.txt (line 3))\n",
      "  Downloading https://files.pythonhosted.org/packages/9b/dd/b3c12c6d707058fa947864b67f0c4e0c39ef8610988d7baea9578f3c48f3/iniconfig-1.1.1-py2.py3-none-any.whl\n",
      "Requirement already satisfied: importlib-metadata>=0.12; python_version < \"3.8\" in /Users/mitchfogelson/Jupyter/jupyter_env/lib/python3.7/site-packages (from pytest->-r neuralcoref/requirements.txt (line 3)) (1.7.0)\n",
      "Requirement already satisfied: idna<3,>=2.5 in /Users/mitchfogelson/Jupyter/jupyter_env/lib/python3.7/site-packages (from requests<3.0.0,>=2.13.0->spacy<3.0.0,>=2.1.0->-r neuralcoref/requirements.txt (line 1)) (2.10)\n",
      "Requirement already satisfied: urllib3!=1.25.0,!=1.25.1,<1.26,>=1.21.1 in /Users/mitchfogelson/Jupyter/jupyter_env/lib/python3.7/site-packages (from requests<3.0.0,>=2.13.0->spacy<3.0.0,>=2.1.0->-r neuralcoref/requirements.txt (line 1)) (1.25.11)\n",
      "Requirement already satisfied: certifi>=2017.4.17 in /Users/mitchfogelson/Jupyter/jupyter_env/lib/python3.7/site-packages (from requests<3.0.0,>=2.13.0->spacy<3.0.0,>=2.1.0->-r neuralcoref/requirements.txt (line 1)) (2020.6.20)\n",
      "Requirement already satisfied: chardet<4,>=3.0.2 in /Users/mitchfogelson/Jupyter/jupyter_env/lib/python3.7/site-packages (from requests<3.0.0,>=2.13.0->spacy<3.0.0,>=2.1.0->-r neuralcoref/requirements.txt (line 1)) (3.0.4)\n",
      "Requirement already satisfied: six in /Users/mitchfogelson/Jupyter/jupyter_env/lib/python3.7/site-packages (from packaging->pytest->-r neuralcoref/requirements.txt (line 3)) (1.15.0)\n",
      "Requirement already satisfied: pyparsing>=2.0.2 in /Users/mitchfogelson/Jupyter/jupyter_env/lib/python3.7/site-packages (from packaging->pytest->-r neuralcoref/requirements.txt (line 3)) (2.4.7)\n",
      "Requirement already satisfied: zipp>=0.5 in /Users/mitchfogelson/Jupyter/jupyter_env/lib/python3.7/site-packages (from importlib-metadata>=0.12; python_version < \"3.8\"->pytest->-r neuralcoref/requirements.txt (line 3)) (3.1.0)\n"
     ]
    },
    {
     "name": "stdout",
     "output_type": "stream",
     "text": [
      "\u001b[31mkaggle 1.5.8 has requirement urllib3<1.25,>=1.21.1, but you'll have urllib3 1.25.11 which is incompatible.\u001b[0m\n",
      "Installing collected packages: cython, py, pluggy, iniconfig, pytest\n",
      "Successfully installed cython-0.29.21 iniconfig-1.1.1 pluggy-0.13.1 py-1.9.0 pytest-6.1.2\n",
      "\u001b[33mYou are using pip version 10.0.1, however version 20.3.1 is available.\n",
      "You should consider upgrading via the 'pip install --upgrade pip' command.\u001b[0m\n",
      "Obtaining file:///Users/mitchfogelson/Desktop/Home/CMU/2020%20Courses/11785-DL/poetry_project/11-785_project/neuralcoref\n",
      "Requirement already satisfied: numpy>=1.15.0 in /Users/mitchfogelson/Jupyter/jupyter_env/lib/python3.7/site-packages (from neuralcoref==4.0) (1.18.1)\n",
      "Requirement already satisfied: boto3 in /Users/mitchfogelson/Jupyter/jupyter_env/lib/python3.7/site-packages (from neuralcoref==4.0) (1.16.25)\n",
      "Requirement already satisfied: requests<3.0.0,>=2.13.0 in /Users/mitchfogelson/Jupyter/jupyter_env/lib/python3.7/site-packages (from neuralcoref==4.0) (2.24.0)\n",
      "Requirement already satisfied: spacy>=2.1.0 in /Users/mitchfogelson/Jupyter/jupyter_env/lib/python3.7/site-packages (from neuralcoref==4.0) (2.3.4)\n",
      "Requirement already satisfied: botocore<1.20.0,>=1.19.25 in /Users/mitchfogelson/Jupyter/jupyter_env/lib/python3.7/site-packages (from boto3->neuralcoref==4.0) (1.19.25)\n",
      "Requirement already satisfied: s3transfer<0.4.0,>=0.3.0 in /Users/mitchfogelson/Jupyter/jupyter_env/lib/python3.7/site-packages (from boto3->neuralcoref==4.0) (0.3.3)\n",
      "Requirement already satisfied: jmespath<1.0.0,>=0.7.1 in /Users/mitchfogelson/Jupyter/jupyter_env/lib/python3.7/site-packages (from boto3->neuralcoref==4.0) (0.10.0)\n",
      "Requirement already satisfied: urllib3!=1.25.0,!=1.25.1,<1.26,>=1.21.1 in /Users/mitchfogelson/Jupyter/jupyter_env/lib/python3.7/site-packages (from requests<3.0.0,>=2.13.0->neuralcoref==4.0) (1.25.11)\n",
      "Requirement already satisfied: chardet<4,>=3.0.2 in /Users/mitchfogelson/Jupyter/jupyter_env/lib/python3.7/site-packages (from requests<3.0.0,>=2.13.0->neuralcoref==4.0) (3.0.4)\n",
      "Requirement already satisfied: certifi>=2017.4.17 in /Users/mitchfogelson/Jupyter/jupyter_env/lib/python3.7/site-packages (from requests<3.0.0,>=2.13.0->neuralcoref==4.0) (2020.6.20)\n",
      "Requirement already satisfied: idna<3,>=2.5 in /Users/mitchfogelson/Jupyter/jupyter_env/lib/python3.7/site-packages (from requests<3.0.0,>=2.13.0->neuralcoref==4.0) (2.10)\n",
      "Requirement already satisfied: tqdm<5.0.0,>=4.38.0 in /Users/mitchfogelson/Jupyter/jupyter_env/lib/python3.7/site-packages (from spacy>=2.1.0->neuralcoref==4.0) (4.48.2)\n",
      "Requirement already satisfied: wasabi<1.1.0,>=0.4.0 in /Users/mitchfogelson/Jupyter/jupyter_env/lib/python3.7/site-packages (from spacy>=2.1.0->neuralcoref==4.0) (0.8.0)\n",
      "Requirement already satisfied: srsly<1.1.0,>=1.0.2 in /Users/mitchfogelson/Jupyter/jupyter_env/lib/python3.7/site-packages (from spacy>=2.1.0->neuralcoref==4.0) (1.0.4)\n",
      "Requirement already satisfied: catalogue<1.1.0,>=0.0.7 in /Users/mitchfogelson/Jupyter/jupyter_env/lib/python3.7/site-packages (from spacy>=2.1.0->neuralcoref==4.0) (1.0.0)\n",
      "Requirement already satisfied: setuptools in /Users/mitchfogelson/Jupyter/jupyter_env/lib/python3.7/site-packages (from spacy>=2.1.0->neuralcoref==4.0) (50.1.0)\n",
      "Requirement already satisfied: blis<0.8.0,>=0.4.0; python_version >= \"3.6\" in /Users/mitchfogelson/Jupyter/jupyter_env/lib/python3.7/site-packages (from spacy>=2.1.0->neuralcoref==4.0) (0.7.3)\n",
      "Requirement already satisfied: cymem<2.1.0,>=2.0.2 in /Users/mitchfogelson/Jupyter/jupyter_env/lib/python3.7/site-packages (from spacy>=2.1.0->neuralcoref==4.0) (2.0.4)\n",
      "Requirement already satisfied: thinc<7.5.0,>=7.4.1 in /Users/mitchfogelson/Jupyter/jupyter_env/lib/python3.7/site-packages (from spacy>=2.1.0->neuralcoref==4.0) (7.4.3)\n",
      "Requirement already satisfied: murmurhash<1.1.0,>=0.28.0 in /Users/mitchfogelson/Jupyter/jupyter_env/lib/python3.7/site-packages (from spacy>=2.1.0->neuralcoref==4.0) (1.0.4)\n",
      "Requirement already satisfied: plac<1.2.0,>=0.9.6 in /Users/mitchfogelson/Jupyter/jupyter_env/lib/python3.7/site-packages (from spacy>=2.1.0->neuralcoref==4.0) (1.1.3)\n",
      "Requirement already satisfied: preshed<3.1.0,>=3.0.2 in /Users/mitchfogelson/Jupyter/jupyter_env/lib/python3.7/site-packages (from spacy>=2.1.0->neuralcoref==4.0) (3.0.4)\n",
      "Requirement already satisfied: python-dateutil<3.0.0,>=2.1 in /Users/mitchfogelson/Jupyter/jupyter_env/lib/python3.7/site-packages (from botocore<1.20.0,>=1.19.25->boto3->neuralcoref==4.0) (2.8.1)\n",
      "Requirement already satisfied: importlib-metadata>=0.20; python_version < \"3.8\" in /Users/mitchfogelson/Jupyter/jupyter_env/lib/python3.7/site-packages (from catalogue<1.1.0,>=0.0.7->spacy>=2.1.0->neuralcoref==4.0) (1.7.0)\n",
      "Requirement already satisfied: six>=1.5 in /Users/mitchfogelson/Jupyter/jupyter_env/lib/python3.7/site-packages (from python-dateutil<3.0.0,>=2.1->botocore<1.20.0,>=1.19.25->boto3->neuralcoref==4.0) (1.15.0)\n",
      "Requirement already satisfied: zipp>=0.5 in /Users/mitchfogelson/Jupyter/jupyter_env/lib/python3.7/site-packages (from importlib-metadata>=0.20; python_version < \"3.8\"->catalogue<1.1.0,>=0.0.7->spacy>=2.1.0->neuralcoref==4.0) (3.1.0)\n",
      "\u001b[31mkaggle 1.5.8 has requirement urllib3<1.25,>=1.21.1, but you'll have urllib3 1.25.11 which is incompatible.\u001b[0m\n",
      "Installing collected packages: neuralcoref\n",
      "  Running setup.py develop for neuralcoref\n",
      "Successfully installed neuralcoref\n",
      "\u001b[33mYou are using pip version 10.0.1, however version 20.3.1 is available.\n",
      "You should consider upgrading via the 'pip install --upgrade pip' command.\u001b[0m\n"
     ]
    }
   ],
   "source": [
    "!git clone https://github.com/huggingface/neuralcoref.git\n",
    "\n",
    "!pip install -U spacy\n",
    "!python -m spacy download en\n",
    "!pip install -r neuralcoref/requirements.txt\n",
    "!pip install -e neuralcoref/"
   ]
  },
  {
   "cell_type": "code",
   "execution_count": 14,
   "metadata": {
    "id": "Jv1coZ19l_nK"
   },
   "outputs": [
    {
     "name": "stdout",
     "output_type": "stream",
     "text": [
      "Uninstalling spacy-2.3.4:\n",
      "  Successfully uninstalled spacy-2.3.4\n",
      "\u001b[33mYou are using pip version 10.0.1, however version 20.3.1 is available.\n",
      "You should consider upgrading via the 'pip install --upgrade pip' command.\u001b[0m\n",
      "Collecting spacy==2.1.3\n",
      "\u001b[?25l  Downloading https://files.pythonhosted.org/packages/77/f3/eb5aece989ecca541c4b5a439cb8a86fe5254b1521925b547609fb3aaf64/spacy-2.1.3.tar.gz (27.7MB)\n",
      "\u001b[K    100% |████████████████████████████████| 27.7MB 926kB/s eta 0:00:01   25% |████████▎                       | 7.1MB 4.0MB/s eta 0:00:06    35% |███████████▍                    | 9.8MB 22.4MB/s eta 0:00:01    65% |████████████████████▉           | 18.1MB 4.5MB/s eta 0:00:03    66% |█████████████████████▎          | 18.4MB 8.8MB/s eta 0:00:02    86% |███████████████████████████▋    | 23.9MB 7.5MB/s eta 0:00:01\n",
      "\u001b[?25h  Installing build dependencies ... \u001b[?25ldone\n",
      "\u001b[?25hRequirement not upgraded as not directly required: numpy>=1.15.0 in /Users/mitchfogelson/Jupyter/jupyter_env/lib/python3.7/site-packages (from spacy==2.1.3) (1.18.1)\n",
      "Requirement not upgraded as not directly required: murmurhash<1.1.0,>=0.28.0 in /Users/mitchfogelson/Jupyter/jupyter_env/lib/python3.7/site-packages (from spacy==2.1.3) (1.0.4)\n",
      "Requirement not upgraded as not directly required: cymem<2.1.0,>=2.0.2 in /Users/mitchfogelson/Jupyter/jupyter_env/lib/python3.7/site-packages (from spacy==2.1.3) (2.0.4)\n",
      "Collecting preshed<2.1.0,>=2.0.1 (from spacy==2.1.3)\n",
      "  Using cached https://files.pythonhosted.org/packages/48/fe/2f2e8c91541785f2abe0d51f37eb00356513b9ff3d24fb27fd5b59e18264/preshed-2.0.1-cp37-cp37m-macosx_10_6_intel.macosx_10_9_intel.macosx_10_9_x86_64.macosx_10_10_intel.macosx_10_10_x86_64.whl\n",
      "Collecting thinc<7.1.0,>=7.0.2 (from spacy==2.1.3)\n",
      "\u001b[?25l  Downloading https://files.pythonhosted.org/packages/e1/36/a9b47b517266b8ece0c6aa5477deb9c71b809645e8f92871a2480c1a8407/thinc-7.0.8-cp37-cp37m-macosx_10_6_intel.macosx_10_9_intel.macosx_10_9_x86_64.macosx_10_10_intel.macosx_10_10_x86_64.whl (2.9MB)\n",
      "\u001b[K    100% |████████████████████████████████| 2.9MB 4.6MB/s ta 0:00:011\n",
      "\u001b[?25hCollecting blis<0.3.0,>=0.2.2 (from spacy==2.1.3)\n",
      "  Using cached https://files.pythonhosted.org/packages/36/41/9e934e2b8a2cdae447ed1923a94f98c2d70c898b65af6635f5fe55f7ed4d/blis-0.2.4-cp37-cp37m-macosx_10_6_intel.macosx_10_9_intel.macosx_10_9_x86_64.macosx_10_10_intel.macosx_10_10_x86_64.whl\n",
      "Collecting plac<1.0.0,>=0.9.6 (from spacy==2.1.3)\n",
      "  Using cached https://files.pythonhosted.org/packages/9e/9b/62c60d2f5bc135d2aa1d8c8a86aaf84edb719a59c7f11a4316259e61a298/plac-0.9.6-py2.py3-none-any.whl\n",
      "Requirement not upgraded as not directly required: requests<3.0.0,>=2.13.0 in /Users/mitchfogelson/Jupyter/jupyter_env/lib/python3.7/site-packages (from spacy==2.1.3) (2.24.0)\n",
      "Collecting jsonschema<3.0.0,>=2.6.0 (from spacy==2.1.3)\n",
      "  Downloading https://files.pythonhosted.org/packages/77/de/47e35a97b2b05c2fadbec67d44cfcdcd09b8086951b331d82de90d2912da/jsonschema-2.6.0-py2.py3-none-any.whl\n",
      "Requirement not upgraded as not directly required: wasabi<1.1.0,>=0.2.0 in /Users/mitchfogelson/Jupyter/jupyter_env/lib/python3.7/site-packages (from spacy==2.1.3) (0.8.0)\n",
      "Requirement not upgraded as not directly required: srsly<1.1.0,>=0.0.5 in /Users/mitchfogelson/Jupyter/jupyter_env/lib/python3.7/site-packages (from spacy==2.1.3) (1.0.4)\n",
      "Requirement not upgraded as not directly required: tqdm<5.0.0,>=4.10.0 in /Users/mitchfogelson/Jupyter/jupyter_env/lib/python3.7/site-packages (from thinc<7.1.0,>=7.0.2->spacy==2.1.3) (4.48.2)\n",
      "Requirement not upgraded as not directly required: certifi>=2017.4.17 in /Users/mitchfogelson/Jupyter/jupyter_env/lib/python3.7/site-packages (from requests<3.0.0,>=2.13.0->spacy==2.1.3) (2020.6.20)\n",
      "Requirement not upgraded as not directly required: idna<3,>=2.5 in /Users/mitchfogelson/Jupyter/jupyter_env/lib/python3.7/site-packages (from requests<3.0.0,>=2.13.0->spacy==2.1.3) (2.10)\n",
      "Requirement not upgraded as not directly required: urllib3!=1.25.0,!=1.25.1,<1.26,>=1.21.1 in /Users/mitchfogelson/Jupyter/jupyter_env/lib/python3.7/site-packages (from requests<3.0.0,>=2.13.0->spacy==2.1.3) (1.25.11)\n",
      "Requirement not upgraded as not directly required: chardet<4,>=3.0.2 in /Users/mitchfogelson/Jupyter/jupyter_env/lib/python3.7/site-packages (from requests<3.0.0,>=2.13.0->spacy==2.1.3) (3.0.4)\n",
      "Building wheels for collected packages: spacy\n",
      "  Running setup.py bdist_wheel for spacy ... \u001b[?25ldone\n",
      "\u001b[?25h  Stored in directory: /Users/mitchfogelson/Library/Caches/pip/wheels/67/16/2b/95f509d3ed9752e575649e4072f072363e75146ac06d09195a\n",
      "Successfully built spacy\n",
      "\u001b[31mkaggle 1.5.8 has requirement urllib3<1.25,>=1.21.1, but you'll have urllib3 1.25.11 which is incompatible.\u001b[0m\n",
      "\u001b[31mjupyterlab-server 1.2.0 has requirement jsonschema>=3.0.1, but you'll have jsonschema 2.6.0 which is incompatible.\u001b[0m\n",
      "\u001b[31men-core-web-sm 2.3.1 has requirement spacy<2.4.0,>=2.3.0, but you'll have spacy 2.1.3 which is incompatible.\u001b[0m\n",
      "Installing collected packages: preshed, blis, plac, thinc, jsonschema, spacy\n",
      "  Found existing installation: preshed 3.0.4\n",
      "    Uninstalling preshed-3.0.4:\n",
      "      Successfully uninstalled preshed-3.0.4\n",
      "  Found existing installation: blis 0.7.3\n",
      "    Uninstalling blis-0.7.3:\n",
      "      Successfully uninstalled blis-0.7.3\n",
      "  Found existing installation: plac 1.1.3\n",
      "    Uninstalling plac-1.1.3:\n",
      "      Successfully uninstalled plac-1.1.3\n",
      "  Found existing installation: thinc 7.4.3\n",
      "    Uninstalling thinc-7.4.3:\n",
      "      Successfully uninstalled thinc-7.4.3\n",
      "  Found existing installation: jsonschema 3.2.0\n",
      "    Uninstalling jsonschema-3.2.0:\n",
      "      Successfully uninstalled jsonschema-3.2.0\n",
      "Successfully installed blis-0.2.4 jsonschema-2.6.0 plac-0.9.6 preshed-2.0.1 spacy-2.1.3 thinc-7.0.8\n",
      "\u001b[33mYou are using pip version 10.0.1, however version 20.3.1 is available.\n",
      "You should consider upgrading via the 'pip install --upgrade pip' command.\u001b[0m\n"
     ]
    }
   ],
   "source": [
    "!pip uninstall spacy -y\n",
    "!pip install -U spacy==2.1.3"
   ]
  },
  {
   "cell_type": "code",
   "execution_count": 15,
   "metadata": {
    "id": "IPiPpLoFkeue"
   },
   "outputs": [],
   "source": [
    "import neuralcoref \n",
    "import spacy"
   ]
  },
  {
   "cell_type": "code",
   "execution_count": 13,
   "metadata": {},
   "outputs": [
    {
     "ename": "AttributeError",
     "evalue": "module 'neuralcoref' has no attribute 'add_to_pipe'",
     "output_type": "error",
     "traceback": [
      "\u001b[0;31m---------------------------------------------------------------------------\u001b[0m",
      "\u001b[0;31mAttributeError\u001b[0m                            Traceback (most recent call last)",
      "\u001b[0;32m<ipython-input-13-d39fc98ffafa>\u001b[0m in \u001b[0;36m<module>\u001b[0;34m\u001b[0m\n\u001b[0;32m----> 1\u001b[0;31m \u001b[0mneuralcoref\u001b[0m\u001b[0;34m.\u001b[0m\u001b[0madd_to_pipe\u001b[0m\u001b[0;34m(\u001b[0m\u001b[0;34m)\u001b[0m\u001b[0;34m\u001b[0m\u001b[0m\n\u001b[0m",
      "\u001b[0;31mAttributeError\u001b[0m: module 'neuralcoref' has no attribute 'add_to_pipe'"
     ]
    }
   ],
   "source": []
  },
  {
   "cell_type": "code",
   "execution_count": 16,
   "metadata": {
    "colab": {
     "base_uri": "https://localhost:8080/"
    },
    "id": "c6YbV34KnD_k",
    "outputId": "de0a7ab4-7e02-4d5d-ab76-366206de5849"
   },
   "outputs": [
    {
     "ename": "AttributeError",
     "evalue": "module 'neuralcoref' has no attribute 'add_to_pipe'",
     "output_type": "error",
     "traceback": [
      "\u001b[0;31m---------------------------------------------------------------------------\u001b[0m",
      "\u001b[0;31mAttributeError\u001b[0m                            Traceback (most recent call last)",
      "\u001b[0;32m<ipython-input-16-e1f2c68a2566>\u001b[0m in \u001b[0;36m<module>\u001b[0;34m\u001b[0m\n\u001b[1;32m      2\u001b[0m \u001b[0;34m\u001b[0m\u001b[0m\n\u001b[1;32m      3\u001b[0m \u001b[0;31m# Do not resolve 1st/2nd person pronouns\u001b[0m\u001b[0;34m\u001b[0m\u001b[0;34m\u001b[0m\u001b[0m\n\u001b[0;32m----> 4\u001b[0;31m \u001b[0mneuralcoref\u001b[0m\u001b[0;34m.\u001b[0m\u001b[0madd_to_pipe\u001b[0m\u001b[0;34m(\u001b[0m\u001b[0mnlp\u001b[0m\u001b[0;34m,\u001b[0m \u001b[0mblacklist\u001b[0m\u001b[0;34m=\u001b[0m\u001b[0;32mTrue\u001b[0m\u001b[0;34m,\u001b[0m \u001b[0mgreedyness\u001b[0m\u001b[0;34m=\u001b[0m\u001b[0;36m0.5\u001b[0m\u001b[0;34m)\u001b[0m\u001b[0;34m\u001b[0m\u001b[0m\n\u001b[0m",
      "\u001b[0;31mAttributeError\u001b[0m: module 'neuralcoref' has no attribute 'add_to_pipe'"
     ]
    }
   ],
   "source": [
    "nlp = spacy.load('en_core_web_sm')\n",
    "\n",
    "# Do not resolve 1st/2nd person pronouns\n",
    "neuralcoref.add_to_pipe(nlp, blacklist=True, greedyness=0.5)"
   ]
  },
  {
   "cell_type": "code",
   "execution_count": 239,
   "metadata": {
    "colab": {
     "base_uri": "https://localhost:8080/"
    },
    "id": "mIUjJftHjZJY",
    "outputId": "3c1c3543-9185-4f3c-c8e3-c5db3c87864c"
   },
   "outputs": [
    {
     "name": "stdout",
     "output_type": "stream",
     "text": [
      "[My sister: [My sister, She, her], a dog: [a dog, her dog]]\n",
      "My sister has a dog. My sister loves a dog.\n"
     ]
    }
   ],
   "source": [
    "# Example\n",
    "\n",
    "doc1 = nlp('My sister has a dog. She loves her dog.')\n",
    "print(doc1._.coref_clusters)\n",
    "print(doc1._.coref_resolved)"
   ]
  },
  {
   "cell_type": "markdown",
   "metadata": {
    "id": "F2qby4epixHT"
   },
   "source": [
    "# Function - read_poem_list"
   ]
  },
  {
   "cell_type": "code",
   "execution_count": 204,
   "metadata": {
    "colab": {
     "base_uri": "https://localhost:8080/"
    },
    "id": "2phYUTeoIpwN",
    "outputId": "440a6553-2b6f-4a58-c695-3e4c6f93ceda"
   },
   "outputs": [
    {
     "name": "stdout",
     "output_type": "stream",
     "text": [
      "[nltk_data] Downloading package punkt to /root/nltk_data...\n",
      "[nltk_data]   Package punkt is already up-to-date!\n"
     ]
    },
    {
     "data": {
      "text/plain": [
       "True"
      ]
     },
     "execution_count": 204,
     "metadata": {
      "tags": []
     },
     "output_type": "execute_result"
    }
   ],
   "source": [
    "import nltk\n",
    "nltk.download('punkt')"
   ]
  },
  {
   "cell_type": "code",
   "execution_count": 205,
   "metadata": {
    "id": "JBqwKqddofLh"
   },
   "outputs": [],
   "source": [
    "def read_poem_list(filepath):\n",
    "    with open(filepath, \"r\") as f:\n",
    "        text = f.read()\n",
    "    # Get rid of the \"SAMPLE N\"\n",
    "    poem_samples = text.split(\"\\n\", 1)\n",
    "    poem_samples = poem_samples[1].split(\"\\n<|endoftext|>\\n\")\n",
    "\n",
    "    # Split each line before tokenizing\n",
    "    poems = [poem.replace(\"|$|\", \"\\n\") for poem in poem_samples]\n",
    "    poems_lines = [poem.split(\"\\n\") for poem in poems]\n",
    "\n",
    "    poems_lines_tokens = [[nltk.word_tokenize(line) for line in poem] for poem in poems_lines]\n",
    "    poems = [\" \\n \".join([\" \".join(line) for line in poem]) for poem in poems_lines_tokens]\n",
    "\n",
    "    # Ensure that every token is surrounded by white spaces\n",
    "    poems = [(\" \" + poem.replace(\"``\", \"''\") + \" \") for poem in poems]\n",
    "    return poems"
   ]
  },
  {
   "cell_type": "code",
   "execution_count": 222,
   "metadata": {
    "colab": {
     "base_uri": "https://localhost:8080/"
    },
    "id": "QBAe4UhDpdx5",
    "outputId": "9a2c5458-339f-4046-c528-de23c60e1f7b"
   },
   "outputs": [
    {
     "name": "stdout",
     "output_type": "stream",
     "text": [
      " glue ? \n",
      " they 're an x in their groove see with ease \n",
      " the x 's a dixota \n",
      " if you 'll guess what has meant \n",
      "\n",
      " the blue of a cereal brew \n",
      " is not always a lot of forchy \n",
      " i can call it real blue \n",
      " or it 's blue just as '' blue '' \n",
      "\n",
      " when the blood pressure 's falling i think \n",
      " that the latter will soon cease to stink \n",
      " as i 'm feeling too good \n",
      " for the pressure on blood \n",
      "\n",
      " when a thing that 's essential is banned \n",
      " it 's confusing and not in demand \n",
      " it 's not even the facts \n",
      " it 's the '' bosom of fox '' \n",
      "\n",
      " that is nothing but being sarcastic \n",
      " you get angry and rage but beware a \n",
      " big bang ( not quite steady ) \n",
      " which is causing you anguish \n",
      "\n",
      " '' she 's a lady a no-no '' he said \n",
      " since some others would call up instead \n",
      " '' this is good '' i said '' no ! \n",
      " she sure stands in the buff ! '' \n",
      "\n",
      " as you sit drooping near the bedlamite \n",
      " please ignore looking up in a fright \n",
      " at misfortune you start ; \n",
      " it 's your own pan of heart \n",
      "\n",
      " '' i 'll be hugging and suck on the gas '' \n",
      " said my brother '' my lover is snug \n",
      " i can feel when he rages \n",
      " my spirit engages \n",
      "\n",
      " when we 're talking about the great stars \n",
      " the dark blue 's just the color of mars \n",
      " we are all looking real ; \n",
      " our life 's not so ideal ! \n",
      "\n",
      " there is something that 's more than a bind : \n",
      " i ca n't make it up ? i ca n't find \n",
      " some catastrophe ? some ? \n",
      " that is how my whole days \n",
      "\n",
      " in the highlands it 's quiet and still \n",
      " every autumn i 'm dressed in a swifer \n",
      " to go out is my goal \n",
      " so i stay in the hole \n",
      "\n",
      " the word donhope 's a symbol of war \n",
      " and when spoken in public before \n",
      " i just stared at the sky \n",
      " and felt terror half why ? \n",
      "\n",
      " when i 'm working as if on vacation \n",
      " i will have to be up a vacation \n",
      " of the building folks hold \n",
      " as they go out of gold : \n",
      "\n",
      " if there 's anything kinda or worse \n",
      " than the '' hurting-back '' of the nurse \n",
      " this is someone you love \n",
      " who procrastates joe 's glove ? \n",
      "\n",
      " the aecidiospore when we dwell \n",
      " in the air almost glowing ( the smell ) \n",
      " had a hearty delight \n",
      " as i swished on my flight \n",
      "\n",
      " a bigheaded surgeon named bert \n",
      " ( who has suffered quite pissed off your skirt ) \n",
      " is really quite nervous \n",
      " to try to unravel \n",
      "\n",
      " i have an ad hoculate claim \n",
      " that your lawyer will do as of old \n",
      " to say that i 'm wrong \n",
      " do n't take matters so long \n",
      "\n",
      " the word c is my friend from the start \n",
      " when i 'm having an absolute heart \n",
      " my status in truth \n",
      " is my very first youth \n",
      "\n",
      " our house has been filled with confusion \n",
      " we have now acquired the conclusion \n",
      " that we 're all in a bind \n",
      " but our marriage is blind \n",
      "\n",
      " our house 's a big car that was built \n",
      " as we 'd say this we know that we 've filled \n",
      " with all kinds of affairs \n",
      " and we have n't a chairs \n",
      "\n",
      " my baby 's got lots of appeal \n",
      " but my baby 's really a freak \n",
      " when he 's feeling so ill \n",
      " i 'm an out-of-work tool \n",
      "\n",
      " my mother is sick with sad love \n",
      " and i 'm really quite well-nigh above \n",
      " so i get on the scene \n",
      " as i 'm sorry she 's keen \n",
      "\n",
      " i 'm sorry my kid cousin died \n",
      " i am not really sure what he tried \n",
      " a most perilous feat \n",
      " has resulted ? died i n't \n",
      " < |endoftext| \n",
      "  \n",
      "\n"
     ]
    }
   ],
   "source": [
    "# Example\n",
    "\n",
    "pm = read_poem_list(\"run1/samples-90000\")\n",
    "# print(len(pm))\n",
    "# print(pm)\n",
    "for i in pm:\n",
    "    print(i)\n",
    "    print()"
   ]
  },
  {
   "cell_type": "markdown",
   "metadata": {
    "id": "Re3zEH_Vi8Ml"
   },
   "source": [
    "# Thoughts"
   ]
  },
  {
   "cell_type": "markdown",
   "metadata": {
    "id": "dT_7bPk-7doP"
   },
   "source": [
    "Problems:\n",
    "1. Not good at resolving 2nd person coreference\n",
    "2. Fewer coreference != Less coherent\n",
    "3. Formal subject \"it\" (How to solve???)\n",
    "4. Consider \"this\" \"that\" \"these\" \"those\" as pronouns?\n",
    "\n",
    "Scoring:\n",
    "\n",
    "**Range: $({-\\infty}, 0]$**\n",
    "1. More coreference occurences -> x\n",
    "2. More objects -> x\n",
    "3. **Pronouns without coreference -> As few as possible**\n",
    "\n",
    "Solutions:\n",
    "1. Use greedyness=1 to find all objects? -> x\n",
    "2. Manually resolve 2nd person pronouns? -> x\n",
    "3. **Remove all resolved coreferences, search the rest of the poem for any unresolved 3rd person pronouns**"
   ]
  },
  {
   "cell_type": "code",
   "execution_count": 223,
   "metadata": {
    "colab": {
     "base_uri": "https://localhost:8080/"
    },
    "id": "7DZAN41FrXkW",
    "outputId": "a8b078d2-5633-401c-9b9e-e016c5aed2b6"
   },
   "outputs": [
    {
     "name": "stdout",
     "output_type": "stream",
     "text": [
      "[they: [they, their]]\n",
      "[ the blue of a cereal brew \n",
      " : [ the blue of a cereal brew \n",
      " , it, it]]\n",
      "[]\n",
      "[it: [it, it]]\n",
      "[]\n",
      "[she: [she, she]]\n",
      "[]\n",
      "[my lover: [my lover, he]]\n",
      "[we: [we, our]]\n",
      "[]\n",
      "[]\n",
      "[]\n",
      "[a vacation \n",
      " of the building folks: [a vacation \n",
      " of the building folks, they]]\n",
      "[]\n",
      "[]\n",
      "[]\n",
      "[]\n",
      "[]\n",
      "[our: [our, we, we, our]]\n",
      "[our: [our, we, we, we, we ', we]]\n",
      "[ my baby: [ my baby, my baby, he]]\n",
      "[ my mother: [ my mother, she]]\n",
      "[my kid cousin: [my kid cousin, he]]\n"
     ]
    }
   ],
   "source": [
    "# Example\n",
    "\n",
    "poem_coref = [nlp(i) for i in pm]\n",
    "for i in poem_coref:\n",
    "    print(i._.coref_clusters)"
   ]
  },
  {
   "cell_type": "code",
   "execution_count": 208,
   "metadata": {
    "colab": {
     "base_uri": "https://localhost:8080/"
    },
    "id": "zxel1cqu65Sz",
    "outputId": "843b6794-9bb1-41f2-adfd-d170a6bfef16"
   },
   "outputs": [
    {
     "name": "stdout",
     "output_type": "stream",
     "text": [
      "[my kid cousin: [my kid cousin, he]]\n",
      "['my kid cousin', 'he']\n"
     ]
    }
   ],
   "source": [
    "# Example\n",
    "\n",
    "print(i._.coref_clusters)\n",
    "resolved = []\n",
    "for j in i._.coref_clusters:\n",
    "    resolved += [j.mentions[k].text for k in range(len(j.mentions))]\n",
    "print(resolved)"
   ]
  },
  {
   "cell_type": "markdown",
   "metadata": {
    "id": "0yAZl_EIjHww"
   },
   "source": [
    "# Function - coref_score"
   ]
  },
  {
   "cell_type": "code",
   "execution_count": 209,
   "metadata": {
    "id": "6mBu_sT1cw_2"
   },
   "outputs": [],
   "source": [
    "import re"
   ]
  },
  {
   "cell_type": "code",
   "execution_count": 240,
   "metadata": {
    "id": "-gc4lGZ-T2Fy"
   },
   "outputs": [],
   "source": [
    "def coref_score(poem):\n",
    "    origin_poem = poem\n",
    "    resolved = []\n",
    "    poem_coref = nlp(poem)\n",
    "    for i in poem_coref._.coref_clusters:\n",
    "        resolved += [i.mentions[j].text for j in range(len(i.mentions))]\n",
    "    resolved = [(\" \" + token + \" \") for token in resolved]\n",
    "\n",
    "    # Remove resolved coreference\n",
    "    for k in resolved:\n",
    "        poem = poem.replace(k, \" \", 1)\n",
    "    \n",
    "    # Regex pattern matching with lookahead\n",
    "    # All 3rd person pronouns\n",
    "    pronoun_3p = r'(?=(( he )|( him )|( his )|( himself )|( she )|( her )|( hers )|( herself )|( it )|( its )|( itself )|( they )|( them )|( their )|( theirs )|( themself )|( themselves )))'\n",
    "\n",
    "    # Find remaining unresolved 3rd person pronouns\n",
    "    matches_3p = re.findall(pronoun_3p, poem)\n",
    "\n",
    "\n",
    "    # Non-positive score, maximum at 0\n",
    "    score = -len(matches_3p)\n",
    "\n",
    "    if (VERBOSE):\n",
    "        if score < 0:\n",
    "            for n in matches_3p:\n",
    "                print(n[0])\n",
    "            print(origin_poem)\n",
    "            print(poem)\n",
    "\n",
    "    return score"
   ]
  },
  {
   "cell_type": "markdown",
   "metadata": {
    "id": "2U9YuG4aj4jy"
   },
   "source": [
    "# Function - test_coref"
   ]
  },
  {
   "cell_type": "code",
   "execution_count": 245,
   "metadata": {
    "id": "qfNYXBo_UE3s"
   },
   "outputs": [],
   "source": [
    "def test_coref(filepath):\n",
    "    poems = read_poem_list(filepath)\n",
    "    for pi, p in enumerate(poems):\n",
    "        print(\"# ({})\".format(pi), end=\"\\t\")\n",
    "        print(\"Coref score = {}\".format(coref_score(p)))"
   ]
  },
  {
   "cell_type": "code",
   "execution_count": 246,
   "metadata": {
    "colab": {
     "base_uri": "https://localhost:8080/"
    },
    "id": "Fg-1aiL5VJx4",
    "outputId": "a8df4fbb-8efa-4da7-9e04-904966ba5a79"
   },
   "outputs": [
    {
     "name": "stdout",
     "output_type": "stream",
     "text": [
      "# (0)\tCoref score = 0\n",
      "# (1)\tCoref score = 0\n",
      "# (2)\tCoref score = 0\n",
      "# (3)\tCoref score = -1\n",
      "# (4)\tCoref score = 0\n",
      "# (5)\tCoref score = -1\n",
      "# (6)\tCoref score = -1\n",
      "# (7)\tCoref score = 0\n",
      "# (8)\tCoref score = 0\n",
      "# (9)\tCoref score = -1\n",
      "# (10)\tCoref score = -1\n",
      "# (11)\tCoref score = 0\n",
      "# (12)\tCoref score = 0\n",
      "# (13)\tCoref score = 0\n",
      "# (14)\tCoref score = 0\n",
      "# (15)\tCoref score = 0\n",
      "# (16)\tCoref score = 0\n",
      "# (17)\tCoref score = 0\n",
      "# (18)\tCoref score = 0\n",
      "# (19)\tCoref score = 0\n",
      "# (20)\tCoref score = 0\n",
      "# (21)\tCoref score = 0\n",
      "# (22)\tCoref score = 0\n"
     ]
    }
   ],
   "source": [
    "# Example\n",
    "\n",
    "VERBOSE = False\n",
    "test_coref(\"run1/samples-90000\")"
   ]
  },
  {
   "cell_type": "code",
   "execution_count": 247,
   "metadata": {
    "colab": {
     "base_uri": "https://localhost:8080/"
    },
    "id": "w6BeyjuFknux",
    "outputId": "90576134-04c7-4006-d6ba-881034bc6f34"
   },
   "outputs": [
    {
     "name": "stdout",
     "output_type": "stream",
     "text": [
      "# (0)\tCoref score = 0\n",
      "# (1)\tCoref score = 0\n",
      "# (2)\tCoref score = 0\n",
      "# (3)\t it \n",
      " when a thing that 's essential is banned \n",
      " it 's confusing and not in demand \n",
      " it 's not even the facts \n",
      " it 's the '' bosom of fox '' \n",
      " when a thing that 's essential is banned \n",
      " 's confusing and not in demand \n",
      " 's not even the facts \n",
      " it 's the '' bosom of fox '' \n",
      "Coref score = -1\n",
      "# (4)\tCoref score = 0\n",
      "# (5)\t he \n",
      " '' she 's a lady a no-no '' he said \n",
      " since some others would call up instead \n",
      " '' this is good '' i said '' no ! \n",
      " she sure stands in the buff ! '' \n",
      " '' 's a lady a no-no '' he said \n",
      " since some others would call up instead \n",
      " '' this is good '' i said '' no ! \n",
      " sure stands in the buff ! '' \n",
      "Coref score = -1\n",
      "# (6)\t it \n",
      " as you sit drooping near the bedlamite \n",
      " please ignore looking up in a fright \n",
      " at misfortune you start ; \n",
      " it 's your own pan of heart \n",
      " as you sit drooping near the bedlamite \n",
      " please ignore looking up in a fright \n",
      " at misfortune you start ; \n",
      " it 's your own pan of heart \n",
      "Coref score = -1\n",
      "# (7)\tCoref score = 0\n",
      "# (8)\tCoref score = 0\n",
      "# (9)\t it \n",
      " there is something that 's more than a bind : \n",
      " i ca n't make it up ? i ca n't find \n",
      " some catastrophe ? some ? \n",
      " that is how my whole days \n",
      " there is something that 's more than a bind : \n",
      " i ca n't make it up ? i ca n't find \n",
      " some catastrophe ? some ? \n",
      " that is how my whole days \n",
      "Coref score = -1\n",
      "# (10)\t it \n",
      " in the highlands it 's quiet and still \n",
      " every autumn i 'm dressed in a swifer \n",
      " to go out is my goal \n",
      " so i stay in the hole \n",
      " in the highlands it 's quiet and still \n",
      " every autumn i 'm dressed in a swifer \n",
      " to go out is my goal \n",
      " so i stay in the hole \n",
      "Coref score = -1\n",
      "# (11)\tCoref score = 0\n",
      "# (12)\tCoref score = 0\n",
      "# (13)\tCoref score = 0\n",
      "# (14)\tCoref score = 0\n",
      "# (15)\tCoref score = 0\n",
      "# (16)\tCoref score = 0\n",
      "# (17)\tCoref score = 0\n",
      "# (18)\tCoref score = 0\n",
      "# (19)\tCoref score = 0\n",
      "# (20)\tCoref score = 0\n",
      "# (21)\tCoref score = 0\n",
      "# (22)\tCoref score = 0\n"
     ]
    }
   ],
   "source": [
    "# Example\n",
    "\n",
    "VERBOSE = True\n",
    "test_coref(\"run1/samples-90000\")"
   ]
  },
  {
   "cell_type": "markdown",
   "metadata": {
    "id": "n1Qz9BxklMM9"
   },
   "source": [
    "# Summary"
   ]
  },
  {
   "cell_type": "markdown",
   "metadata": {
    "id": "pO_rd0t-idp1"
   },
   "source": [
    "Remaining problems:\n",
    "3. Formal subject \"it\" (How to solve???)\n",
    "4. Consider \"this\" \"that\" \"these\" \"those\" as pronouns?\n",
    "\n",
    "Possible Solutions:\n",
    "- Assign different penalty for different pronouns?\n",
    "(Ex: \"it\" -0.2, \"he\"/\"she\"/\"they\" -1.0, \"these\" -0.5, etc.)\n",
    "(How to estimate these values from language model probabilities?)"
   ]
  }
 ],
 "metadata": {
  "colab": {
   "collapsed_sections": [],
   "name": "coref.ipynb",
   "provenance": []
  },
  "kernelspec": {
   "display_name": "Python 3",
   "language": "python",
   "name": "python3"
  },
  "language_info": {
   "codemirror_mode": {
    "name": "ipython",
    "version": 3
   },
   "file_extension": ".py",
   "mimetype": "text/x-python",
   "name": "python",
   "nbconvert_exporter": "python",
   "pygments_lexer": "ipython3",
   "version": "3.7.0"
  }
 },
 "nbformat": 4,
 "nbformat_minor": 1
}
