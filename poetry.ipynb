{
 "metadata": {
  "language_info": {
   "codemirror_mode": {
    "name": "ipython",
    "version": 3
   },
   "file_extension": ".py",
   "mimetype": "text/x-python",
   "name": "python",
   "nbconvert_exporter": "python",
   "pygments_lexer": "ipython3",
   "version": 3
  },
  "orig_nbformat": 2
 },
 "nbformat": 4,
 "nbformat_minor": 2,
 "cells": [
  {
   "source": [
    "# 11-785 Poetry Deep Learning\n",
    "\n",
    "## Group Name: YouShen\n",
    "## Team Members: Mitch Fogelson, Chris Dare, Tony Dong, Xinkai Chen\n",
    "## Date: 10-6-2020"
   ],
   "cell_type": "markdown",
   "metadata": {}
  },
  {
   "source": [
    "## Github info\n",
    "* Clone\n",
    "\n",
    "    ```git clone https://github.com/mfogelson/11-785_project.git```\n",
    "\n",
    "* Pull \n",
    "\n",
    "    ```git pull origin master```\n",
    "\n",
    "* Create New Branch\n",
    "\n",
    "    ```git checkout -b MYNEW_BRANCH```\n",
    "\n",
    "* Checkout Branch\n",
    "\n",
    "    ```git checkout MY_BRANCH```\n",
    "\n",
    "* Push Changes\n",
    "\n",
    "    ```git add My_Files_I_Changed```\n",
    "    ```git commit -m \"What I changed and why\" ```\n",
    "    ```git push origin MY_BRANCH```"
   ],
   "cell_type": "markdown",
   "metadata": {}
  },
  {
   "cell_type": "code",
   "execution_count": null,
   "metadata": {},
   "outputs": [],
   "source": []
  }
 ]
}