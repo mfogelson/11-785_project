{
 "metadata": {
  "language_info": {
   "codemirror_mode": {
    "name": "ipython",
    "version": 3
   },
   "file_extension": ".py",
   "mimetype": "text/x-python",
   "name": "python",
   "nbconvert_exporter": "python",
   "pygments_lexer": "ipython3",
   "version": 3
  },
  "orig_nbformat": 2
 },
 "nbformat": 4,
 "nbformat_minor": 2,
 "cells": [
  {
   "source": [
    "# 11-785 Poetry Deep Learning\n",
    "\n",
    "## Group Name: YouShen\n",
    "## Team Members: Mitch Fogelson, Chris Dare, Tony Dong, Xinkai Chen\n",
    "## Date: 10-6-2020"
   ],
   "cell_type": "markdown",
   "metadata": {}
  },
  {
   "source": [
    "## Github info\n",
    "* Clone\n",
    "\n",
    "    ```git clone https://github.com/mfogelson/11-785_project.git```\n",
    "\n",
    "* Pull \n",
    "\n",
    "    ```git pull origin master```\n",
    "\n",
    "* Create New Branch\n",
    "\n",
    "    ```git checkout -b MYNEW_BRANCH```\n",
    "\n",
    "* Checkout Branch\n",
    "\n",
    "    ```git checkout MY_BRANCH```\n",
    "\n",
    "* Push Changes\n",
    "\n",
    "    ```git add My_Files_I_Changed```\n",
    "    ```git commit -m \"What I changed and why\" ```\n",
    "    ```git push origin MY_BRANCH```"
   ],
   "cell_type": "markdown",
   "metadata": {}
  },
  {
   "source": [
    "## Data\n",
    "https://www.english-corpora.org/"
   ],
   "cell_type": "markdown",
   "metadata": {}
  },
  {
   "source": [
    "## Types of Peotry\n",
    "\n",
    "https://www.bookbub.com/blog/types-of-poetry-forms\n",
    "\n",
    "https://www.writersdigest.com/write-better-poetry/list-of-50-poetic-forms-for-poets\n",
    "\n",
    "Types of poetry: google search \"different types of poetry structures\"\n"
   ],
   "cell_type": "markdown",
   "metadata": {}
  },
  {
   "source": [
    "## Generation tools\n",
    "\n",
    "https://openai.com/blog/better-language-models/ (the paper is accessible through a link on this site)\n",
    "\n",
    "https://github.com/openai/gpt-2\n",
    "\n",
    "https://www.analyticsvidhya.com/blog/2020/08/build-a-natural-language-generation-nlg-system-using-pytorch/\n",
    "\n",
    "\n"
   ],
   "cell_type": "markdown",
   "metadata": {}
  },
  {
   "source": [
    "## Papers etc.\n",
    "Poet-based Poetry Generation: Controlling Personal Style with Recurrent Neural Networks\n",
    "\n",
    "Generating Thematic Chinese Poetry using Conditional Variational\n",
    "\n",
    "Autoencoders with Hybrid Decoders\n",
    "\n",
    "Natural Language Generation Using Transformer Network in an Open-Domain Setting\n",
    "\n",
    "https://slideslive.com/38929130/automatic-poetry-generation-from-prosaic-text\n",
    "\n",
    "https://blog.marketmuse.com/natural-language-generation-landscape/\n",
    "\n",
    "https://aiweirdness.com/post/189170306297/how-to-begin-a-novel"
   ],
   "cell_type": "markdown",
   "metadata": {}
  }
 ]
}