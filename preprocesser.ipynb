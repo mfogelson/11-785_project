{
 "cells": [
  {
   "cell_type": "markdown",
   "metadata": {},
   "source": [
    "# Rhyming Corpus"
   ]
  },
  {
   "cell_type": "markdown",
   "metadata": {},
   "source": [
    "## Desciription \n",
    "* Using lymric DB "
   ]
  },
  {
   "cell_type": "markdown",
   "metadata": {},
   "source": [
    "### Imports"
   ]
  },
  {
   "cell_type": "code",
   "execution_count": 2,
   "metadata": {},
   "outputs": [],
   "source": [
    "import numpy as np\n",
    "import csv\n",
    "import os \n",
    "import sys\n",
    "import pdb"
   ]
  },
  {
   "cell_type": "markdown",
   "metadata": {},
   "source": [
    "## Limericks.csv to Limericks.txt"
   ]
  },
  {
   "cell_type": "code",
   "execution_count": null,
   "metadata": {},
   "outputs": [],
   "source": [
    "filename = \"../limericks.csv\"\n",
    "rhyming_pairs= []\n",
    "with open(filename) as csvfile:\n",
    "    limerics = csv.reader(csvfile)\n",
    "    filename = \"limericks.txt\"\n",
    "    with open(filename, 'w') as txtfile:\n",
    "        for line in limerics:\n",
    "            txtfile.write(line[0]+'\\r\\n')"
   ]
  },
  {
   "cell_type": "markdown",
   "metadata": {},
   "source": [
    "## Limericks to AABB"
   ]
  },
  {
   "cell_type": "code",
   "execution_count": 16,
   "metadata": {},
   "outputs": [],
   "source": [
    "filename = \"../limericks.csv\"\n",
    "rhyming_pairs= []\n",
    "with open(filename) as csvfile:\n",
    "    limerics = csv.reader(csvfile)\n",
    "    for row in limerics:\n",
    "        lines = row[0].split(\"\\n\")\n",
    "#         pdb.set_trace()\n",
    "\n",
    "        # print(lines)\n",
    "        clean_lines = []\n",
    "        for line in lines:\n",
    "            if '.' in line or ',' in line:\n",
    "                line = line.replace('.', '')\n",
    "                line = line.replace(',', '')\n",
    "            clean_lines.append(line)\n",
    "        if len(clean_lines) >5:\n",
    "            rhyming_pairs += [[clean_lines[i]+'|$|'+clean_lines[i+1]] for i in [0,2]]\n",
    "            rhyming_pairs += [[\"<|endoftext|>\"]]\n",
    "        # print(rhyming_pairs)\n",
    "        # break"
   ]
  },
  {
   "cell_type": "code",
   "execution_count": 20,
   "metadata": {},
   "outputs": [
    {
     "data": {
      "text/plain": [
       "271299"
      ]
     },
     "execution_count": 20,
     "metadata": {},
     "output_type": "execute_result"
    }
   ],
   "source": [
    "len(rhyming_pairs)\n"
   ]
  },
  {
   "cell_type": "code",
   "execution_count": 23,
   "metadata": {},
   "outputs": [],
   "source": [
    "filename = \"rhyming_AABB.txt\"\n",
    "with open(filename, 'w') as txtfile:\n",
    "    for line in rhyming_pairs:\n",
    "#         pdb.set_trace()\n",
    "        txtfile.write(line[0]+'\\r\\n')\n",
    "\n"
   ]
  },
  {
   "cell_type": "markdown",
   "metadata": {},
   "source": [
    "## Limericks to AA"
   ]
  },
  {
   "cell_type": "code",
   "execution_count": 29,
   "metadata": {},
   "outputs": [],
   "source": [
    "filename = \"../limericks.csv\"\n",
    "rhyming_pairs= []\n",
    "with open(filename) as csvfile:\n",
    "    limerics = csv.reader(csvfile)\n",
    "    for row in limerics:\n",
    "        lines = row[0].split(\"\\n\")\n",
    "#         pdb.set_trace()\n",
    "\n",
    "        # print(lines)\n",
    "        clean_lines = []\n",
    "        for line in lines:\n",
    "            if '.' in line or ',' in line:\n",
    "                line = line.replace('.', '')\n",
    "                line = line.replace(',', '')\n",
    "            clean_lines.append(line)\n",
    "        if len(clean_lines) >5:\n",
    "            rhyming_pairs += [[clean_lines[i]+'|$|'+clean_lines[i+1]] for i in [0,2]]\n",
    "        # print(rhyming_pairs)\n",
    "        # break"
   ]
  },
  {
   "cell_type": "code",
   "execution_count": 31,
   "metadata": {},
   "outputs": [],
   "source": [
    "filename = \"rhyming_AA.txt\"\n",
    "with open(filename, 'w') as txtfile:\n",
    "    for line in rhyming_pairs:\n",
    "#         pdb.set_trace()\n",
    "        txtfile.write(line[0]+'\\r\\n')"
   ]
  },
  {
   "cell_type": "code",
   "execution_count": 7,
   "metadata": {
    "tags": []
   },
   "outputs": [
    {
     "name": "stdout",
     "output_type": "stream",
     "text": [
      "cap'n jack was washed over the side.\n",
      "his crew searched but found not hair nor hide.\n",
      "no longer the helm,\n",
      "but the deep benthic realm,\n",
      "is where jack will forever reside.\n"
     ]
    }
   ],
   "source": [
    "filename = \"limericks.csv\"\n",
    "with open(name=filename) as csvfile:\n",
    "    limerics = csv.reader(csvfile)\n",
    "    for row in limerics:\n",
    "        lines = row[0].split(\"\\r\\n\")\n",
    "        i = 0\n",
    "        for line in lines:\n",
    "            print(line)\n",
    "            i+=1\n",
    "            if i == 5:\n",
    "                break\n",
    "        break\n",
    "\n",
    "    \n"
   ]
  },
  {
   "cell_type": "code",
   "execution_count": 23,
   "metadata": {},
   "outputs": [
    {
     "data": {
      "text/plain": [
       "[[\"cap'n jack was washed over the side|$|his crew searched but found not hair nor hide\"],\n",
       " ['no longer the helm|$|but the deep benthic realm'],\n",
       " ['<|endoftext|>']]"
      ]
     },
     "execution_count": 23,
     "metadata": {},
     "output_type": "execute_result"
    }
   ],
   "source": [
    "rhyming_pairs[0:3]"
   ]
  },
  {
   "cell_type": "markdown",
   "metadata": {},
   "source": [
    "### Dataset Test 1:\n",
    "\n",
    "1. Create corpus of \n",
    "\n",
    "\\[A |$| A\\]\n",
    "\n",
    "\\[B |$| B\\]\n",
    "\n",
    "\\[END\\]\n",
    "\n",
    "from limericks\n",
    "\n",
    "Limericks:\n",
    "A\n",
    "A\n",
    "B\n",
    "B\n",
    "A\n",
    "\n",
    "**Example:**\n",
    "\n",
    "cap'n jack was washed over the side.\n",
    "\n",
    "his crew searched but found not hair nor hide.\n",
    "\n",
    "no longer the helm,\n",
    "\n",
    "but the deep benthic realm,\n",
    "\n",
    "is where jack will forever reside.\n",
    "\n",
    "**Output:** \n",
    "\n",
    "\\[\"cap'n jack was washed over the side|$|his crew searched but found not hair nor hide\"\\]\n",
    "\n",
    "\\['no longer the helm|$|but the deep benthic realm'\\]\n",
    "\n",
    "\\['<|endoftext|>'\\]"
   ]
  },
  {
   "cell_type": "markdown",
   "metadata": {},
   "source": [
    "### Good/Decent Sample Results:\n",
    "\n",
    "Training time: 21hrs\n",
    "\n",
    "Loss: 0.9\n",
    "\n",
    "\n",
    "1:\n",
    "\n",
    "caboyola's a genus of weeds\n",
    "\n",
    "that grows near the shore and seeds seeds\n",
    "\n",
    "or these shrubs found beside\n",
    "\n",
    "are quite furry each side\n",
    "\n",
    "<|endoftext|>\n",
    "\n",
    "2:\n",
    "\n",
    "a person who's often so rude\n",
    "\n",
    "takes a tack of a beach that's subdued\n",
    "\n",
    "in a business the lad\n",
    "\n",
    "is more childish than bad\n",
    "\n",
    "<|endoftext|>\n",
    "\n",
    "3:\n",
    "\n",
    "an episcopal practice i'm told\n",
    "\n",
    "is quite certain to fight for our gold\n",
    "\n",
    "to get gold from the king\n",
    "\n",
    "to be saved from the thing\n",
    "\n",
    "<|endoftext|>\n",
    "\n",
    "4:\n",
    "\n",
    "this is all about grandma who's proud\n",
    "\n",
    "of her years in society's crowd\n",
    "\n",
    "she has got a big raise\n",
    "\n",
    "in those fungal-type ways\n",
    "\n",
    "<|endoftext|>\n",
    "\n",
    "\n"
   ]
  },
  {
   "cell_type": "markdown",
   "metadata": {},
   "source": [
    "### Bad Samples:\n",
    "\n",
    "1:\n",
    "\n",
    "my ex-wife said it was a jos?\n",
    "\n",
    "i had thought it was only a boa\n",
    "\n",
    "but the greek annals land\n",
    "\n",
    "meant to walk in the band;\n",
    "\n",
    "<|endoftext|>"
   ]
  },
  {
   "cell_type": "markdown",
   "metadata": {},
   "source": [
    "### Key Problems with Dataset\n",
    "\n",
    "1. Symbols ( ), \" \", ;, etc.\n",
    "\n",
    "2. lymric is not finished so output is in coherent \n",
    "\n",
    "\n",
    "### How to move forward?\n",
    "\n",
    "1. Better preprocessing data now that we know how the GPT2 matches structure of input - Xinkai\n",
    "\n",
    "2. Finding ways to evaluate outputs quantitatively\n",
    "    * Rhyming - Chris\n",
    "    * Non-sense words - Mitch\n",
    "    * Pronoun reference - Tony\n",
    "    * Action reference\n",
    "\n",
    "3. Change GPT2\n",
    "    * Loss Function\n",
    "    * NOTE: Cannot be done until non-human quantitative evaluation methods are made "
   ]
  },
  {
   "cell_type": "code",
   "execution_count": null,
   "metadata": {},
   "outputs": [],
   "source": []
  }
 ],
 "metadata": {
  "kernelspec": {
   "display_name": "Python 3",
   "language": "python",
   "name": "python3"
  },
  "language_info": {
   "codemirror_mode": {
    "name": "ipython",
    "version": 3
   },
   "file_extension": ".py",
   "mimetype": "text/x-python",
   "name": "python",
   "nbconvert_exporter": "python",
   "pygments_lexer": "ipython3",
   "version": "3.7.0"
  }
 },
 "nbformat": 4,
 "nbformat_minor": 2
}
